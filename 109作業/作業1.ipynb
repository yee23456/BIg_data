{
  "nbformat": 4,
  "nbformat_minor": 0,
  "metadata": {
    "colab": {
      "name": "作業1",
      "provenance": []
    },
    "kernelspec": {
      "name": "python3",
      "display_name": "Python 3"
    }
  },
  "cells": [
    {
      "cell_type": "markdown",
      "metadata": {
        "id": "Pup3F00WD9B_"
      },
      "source": [
        "# 作業一：請針對所提供的資料檔案(boston_house(type),xlsx)進行以下分析：\n",
        "1. 請計算此資料中房價的平均數、中位數、變異數與標準差。\n",
        "2. 請計算此資料中房價超過20(PRICE TYPE=2)與低於20(PRICE TYPE=0)的個數及比例。\n",
        "3. 請計算是否臨近Carles River(CHAS=0 or CHAS=1)地區房價之差異。\n",
        "4. 請計算是否臨近Carles River(CHAS=0 or CHAS=1)地區房價高低之差異。\n",
        "5. 請分析因素與房價高低具有較高的關聯性？"
      ]
    },
    {
      "cell_type": "code",
      "metadata": {
        "id": "I5TF_dfJ4euE"
      },
      "source": [
        "import pandas as pd\n",
        "import numpy as np\n",
        "import random as rnd\n",
        "import seaborn as sns\n",
        "from google.colab import files\n",
        "data=pd.read_excel('boston_house(type).xlsx')"
      ],
      "execution_count": null,
      "outputs": []
    },
    {
      "cell_type": "code",
      "metadata": {
        "colab": {
          "base_uri": "https://localhost:8080/"
        },
        "id": "4ytJyAXk6idY",
        "outputId": "b0878352-da7f-4cc2-d2e1-6e48f89b6b31"
      },
      "source": [
        "#第一題\n",
        "print(data.describe().loc[[\"mean\",\"min\",\"std\"],[\"PRICE\"]])\n",
        "print('var  ',data[\"PRICE\"].var())"
      ],
      "execution_count": null,
      "outputs": [
        {
          "output_type": "stream",
          "text": [
            "          PRICE\n",
            "mean  22.532806\n",
            "min    5.000000\n",
            "std    9.197104\n",
            "var   84.5867235940986\n"
          ],
          "name": "stdout"
        }
      ]
    },
    {
      "cell_type": "code",
      "metadata": {
        "id": "GK6DXCqe9k8C",
        "colab": {
          "base_uri": "https://localhost:8080/"
        },
        "outputId": "30cf7bd5-0dd4-4dd2-e7d0-81816708a95f"
      },
      "source": [
        "#第二題\n",
        "f=data.groupby('PRICE TYPE')\n",
        "frequence=f.size()\n",
        "flist=pd.DataFrame(frequence,columns=[\"COUNT\"])\n",
        "print(flist)\n",
        "print('= = = = = = = = = = = = = = = ')\n",
        "f=data.groupby('PRICE TYPE')\n",
        "percentage=f.size()/len(data)\n",
        "plist=pd.DataFrame(percentage,columns=[\"PERCENTAGE\"])\n",
        "print(plist)\n"
      ],
      "execution_count": null,
      "outputs": [
        {
          "output_type": "stream",
          "text": [
            "            COUNT\n",
            "PRICE TYPE       \n",
            "1             215\n",
            "2             291\n",
            "= = = = = = = = = = = = = = = \n",
            "            PERCENTAGE\n",
            "PRICE TYPE            \n",
            "1             0.424901\n",
            "2             0.575099\n"
          ],
          "name": "stdout"
        }
      ]
    },
    {
      "cell_type": "code",
      "metadata": {
        "colab": {
          "base_uri": "https://localhost:8080/"
        },
        "id": "ViUHh6-BBfTx",
        "outputId": "81d00eaa-a405-412c-b173-2587a29ca2a5"
      },
      "source": [
        "#第三題 相關分析\n",
        "import numpy as np\n",
        "np.corrcoef(data[\"CHAS\"],data[\"PRICE\"])"
      ],
      "execution_count": null,
      "outputs": [
        {
          "output_type": "execute_result",
          "data": {
            "text/plain": [
              "array([[1.        , 0.17526018],\n",
              "       [0.17526018, 1.        ]])"
            ]
          },
          "metadata": {
            "tags": []
          },
          "execution_count": 44
        }
      ]
    },
    {
      "cell_type": "code",
      "metadata": {
        "colab": {
          "base_uri": "https://localhost:8080/",
          "height": 136
        },
        "id": "M1uZxVDnDhhh",
        "outputId": "d3dc2d5d-f1bd-48ed-de0b-4a07f7ce8d91"
      },
      "source": [
        "#第四題 交叉分析\n",
        "a=data.groupby(['CHAS']).mean()\n",
        "a[[\"PRICE\"]]"
      ],
      "execution_count": null,
      "outputs": [
        {
          "output_type": "execute_result",
          "data": {
            "text/html": [
              "<div>\n",
              "<style scoped>\n",
              "    .dataframe tbody tr th:only-of-type {\n",
              "        vertical-align: middle;\n",
              "    }\n",
              "\n",
              "    .dataframe tbody tr th {\n",
              "        vertical-align: top;\n",
              "    }\n",
              "\n",
              "    .dataframe thead th {\n",
              "        text-align: right;\n",
              "    }\n",
              "</style>\n",
              "<table border=\"1\" class=\"dataframe\">\n",
              "  <thead>\n",
              "    <tr style=\"text-align: right;\">\n",
              "      <th></th>\n",
              "      <th>PRICE</th>\n",
              "    </tr>\n",
              "    <tr>\n",
              "      <th>CHAS</th>\n",
              "      <th></th>\n",
              "    </tr>\n",
              "  </thead>\n",
              "  <tbody>\n",
              "    <tr>\n",
              "      <th>0</th>\n",
              "      <td>22.093843</td>\n",
              "    </tr>\n",
              "    <tr>\n",
              "      <th>1</th>\n",
              "      <td>28.440000</td>\n",
              "    </tr>\n",
              "  </tbody>\n",
              "</table>\n",
              "</div>"
            ],
            "text/plain": [
              "          PRICE\n",
              "CHAS           \n",
              "0     22.093843\n",
              "1     28.440000"
            ]
          },
          "metadata": {
            "tags": []
          },
          "execution_count": 43
        }
      ]
    },
    {
      "cell_type": "code",
      "metadata": {
        "colab": {
          "base_uri": "https://localhost:8080/",
          "height": 491
        },
        "id": "XLrFGlNVN6EK",
        "outputId": "63407053-edde-4095-965f-88b921ffeb7a"
      },
      "source": [
        "#第五題 皮爾森相關分析\n",
        "qu=['CRIM','ZN','INDUS','CHAS','NOX','RM','AGE','DIS','RAD','TAX','PTRATIO','B','LSTAT','PRICE','PRICE TYPE']\n",
        "len(qu)\n",
        "from scipy import stats\n",
        "name=[]\n",
        "alist=[]\n",
        "for i in range(len(qu)):\n",
        "  (a,pv)=stats.pearsonr(data['PRICE'],data[qu[i]]) \n",
        "  name.append(qu[i])\n",
        "  alist.append(a)\n",
        "result=pd.DataFrame(alist,name,columns=['r'])\n",
        "result.sort_values(by=['r'])[::-1]\n",
        "\n"
      ],
      "execution_count": null,
      "outputs": [
        {
          "output_type": "execute_result",
          "data": {
            "text/html": [
              "<div>\n",
              "<style scoped>\n",
              "    .dataframe tbody tr th:only-of-type {\n",
              "        vertical-align: middle;\n",
              "    }\n",
              "\n",
              "    .dataframe tbody tr th {\n",
              "        vertical-align: top;\n",
              "    }\n",
              "\n",
              "    .dataframe thead th {\n",
              "        text-align: right;\n",
              "    }\n",
              "</style>\n",
              "<table border=\"1\" class=\"dataframe\">\n",
              "  <thead>\n",
              "    <tr style=\"text-align: right;\">\n",
              "      <th></th>\n",
              "      <th>r</th>\n",
              "    </tr>\n",
              "  </thead>\n",
              "  <tbody>\n",
              "    <tr>\n",
              "      <th>PRICE</th>\n",
              "      <td>1.000000</td>\n",
              "    </tr>\n",
              "    <tr>\n",
              "      <th>RM</th>\n",
              "      <td>0.695360</td>\n",
              "    </tr>\n",
              "    <tr>\n",
              "      <th>PRICE TYPE</th>\n",
              "      <td>0.686648</td>\n",
              "    </tr>\n",
              "    <tr>\n",
              "      <th>ZN</th>\n",
              "      <td>0.360445</td>\n",
              "    </tr>\n",
              "    <tr>\n",
              "      <th>B</th>\n",
              "      <td>0.333461</td>\n",
              "    </tr>\n",
              "    <tr>\n",
              "      <th>DIS</th>\n",
              "      <td>0.249929</td>\n",
              "    </tr>\n",
              "    <tr>\n",
              "      <th>CHAS</th>\n",
              "      <td>0.175260</td>\n",
              "    </tr>\n",
              "    <tr>\n",
              "      <th>AGE</th>\n",
              "      <td>-0.376955</td>\n",
              "    </tr>\n",
              "    <tr>\n",
              "      <th>RAD</th>\n",
              "      <td>-0.381626</td>\n",
              "    </tr>\n",
              "    <tr>\n",
              "      <th>CRIM</th>\n",
              "      <td>-0.385832</td>\n",
              "    </tr>\n",
              "    <tr>\n",
              "      <th>NOX</th>\n",
              "      <td>-0.427321</td>\n",
              "    </tr>\n",
              "    <tr>\n",
              "      <th>TAX</th>\n",
              "      <td>-0.468536</td>\n",
              "    </tr>\n",
              "    <tr>\n",
              "      <th>INDUS</th>\n",
              "      <td>-0.483725</td>\n",
              "    </tr>\n",
              "    <tr>\n",
              "      <th>PTRATIO</th>\n",
              "      <td>-0.507787</td>\n",
              "    </tr>\n",
              "    <tr>\n",
              "      <th>LSTAT</th>\n",
              "      <td>-0.737663</td>\n",
              "    </tr>\n",
              "  </tbody>\n",
              "</table>\n",
              "</div>"
            ],
            "text/plain": [
              "                   r\n",
              "PRICE       1.000000\n",
              "RM          0.695360\n",
              "PRICE TYPE  0.686648\n",
              "ZN          0.360445\n",
              "B           0.333461\n",
              "DIS         0.249929\n",
              "CHAS        0.175260\n",
              "AGE        -0.376955\n",
              "RAD        -0.381626\n",
              "CRIM       -0.385832\n",
              "NOX        -0.427321\n",
              "TAX        -0.468536\n",
              "INDUS      -0.483725\n",
              "PTRATIO    -0.507787\n",
              "LSTAT      -0.737663"
            ]
          },
          "metadata": {
            "tags": []
          },
          "execution_count": 19
        }
      ]
    }
  ]
}