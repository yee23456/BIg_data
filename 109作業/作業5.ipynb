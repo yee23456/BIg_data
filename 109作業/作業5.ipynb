{
  "nbformat": 4,
  "nbformat_minor": 0,
  "metadata": {
    "colab": {
      "name": "作業5",
      "provenance": [],
      "toc_visible": true
    },
    "kernelspec": {
      "name": "python3",
      "display_name": "Python 3"
    },
    "language_info": {
      "name": "python"
    }
  },
  "cells": [
    {
      "cell_type": "markdown",
      "metadata": {
        "id": "cn_ONINQ6KJ8"
      },
      "source": [
        "#第一題\n",
        "請分析‘2019STA.xlsx'檔案中男女同學小考(Quiz)、期中考(Mid_Exam)、期末考(Final_Exam)之平均成績是否具有顯著地差異？並以表格或圖形男女同學小考(Quiz)、期中考(Mid_Exam)、期末考(Final_Exam)之平均成績\n"
      ]
    },
    {
      "cell_type": "code",
      "metadata": {
        "id": "NMJ2rftM6GSy"
      },
      "source": [
        "import pandas as pd\n",
        "from scipy import stats\n",
        "df = pd.read_excel('2019STA.xlsx')"
      ],
      "execution_count": null,
      "outputs": []
    },
    {
      "cell_type": "code",
      "metadata": {
        "colab": {
          "base_uri": "https://localhost:8080/"
        },
        "id": "SXzg82F2zZ2A",
        "outputId": "c720e874-9362-42c0-e064-966175e99173"
      },
      "source": [
        "# Colab 進行matplotlib繪圖時顯示繁體中文\n",
        "# 下載台北思源黑體並命名taipei_sans_tc_beta.ttf，移至指定路徑\n",
        "!wget -O taipei_sans_tc_beta.ttf https://drive.google.com/uc?id=1eGAsTN1HBpJAkeVM57_C7ccp7hbgSz3_&export=download\n",
        "!mv taipei_sans_tc_beta.ttf /usr/local/lib/python3.7/dist-packages/matplotlib//mpl-data/fonts/ttf\n",
        "\n",
        "from matplotlib.font_manager import FontProperties\n",
        "import matplotlib.pyplot as plt \n",
        "\n",
        "# 自定義字體變數\n",
        "myfont = FontProperties(fname=r'/usr/local/lib/python3.7/dist-packages/matplotlib/mpl-data/fonts/ttf/taipei_sans_tc_beta.ttf')\n",
        "\n",
        "# !!!!後續在相關函式中增加fontproperties=myfont屬性即可!!!!"
      ],
      "execution_count": null,
      "outputs": [
        {
          "output_type": "stream",
          "text": [
            "--2021-05-19 04:06:27--  https://drive.google.com/uc?id=1eGAsTN1HBpJAkeVM57_C7ccp7hbgSz3_\n",
            "Resolving drive.google.com (drive.google.com)... 74.125.199.102, 74.125.199.100, 74.125.199.101, ...\n",
            "Connecting to drive.google.com (drive.google.com)|74.125.199.102|:443... connected.\n",
            "HTTP request sent, awaiting response... 302 Moved Temporarily\n",
            "Location: https://doc-0k-9o-docs.googleusercontent.com/docs/securesc/ha0ro937gcuc7l7deffksulhg5h7mbp1/g359fdd60aqf160oahsvglgr5js4c6gv/1621397175000/02847987870453524430/*/1eGAsTN1HBpJAkeVM57_C7ccp7hbgSz3_ [following]\n",
            "Warning: wildcards not supported in HTTP.\n",
            "--2021-05-19 04:06:28--  https://doc-0k-9o-docs.googleusercontent.com/docs/securesc/ha0ro937gcuc7l7deffksulhg5h7mbp1/g359fdd60aqf160oahsvglgr5js4c6gv/1621397175000/02847987870453524430/*/1eGAsTN1HBpJAkeVM57_C7ccp7hbgSz3_\n",
            "Resolving doc-0k-9o-docs.googleusercontent.com (doc-0k-9o-docs.googleusercontent.com)... 74.125.195.132, 2607:f8b0:400e:c09::84\n",
            "Connecting to doc-0k-9o-docs.googleusercontent.com (doc-0k-9o-docs.googleusercontent.com)|74.125.195.132|:443... connected.\n",
            "HTTP request sent, awaiting response... 200 OK\n",
            "Length: unspecified [application/x-font-ttf]\n",
            "Saving to: ‘taipei_sans_tc_beta.ttf’\n",
            "\n",
            "taipei_sans_tc_beta     [  <=>               ]  19.70M  52.0MB/s    in 0.4s    \n",
            "\n",
            "2021-05-19 04:06:29 (52.0 MB/s) - ‘taipei_sans_tc_beta.ttf’ saved [20659344]\n",
            "\n"
          ],
          "name": "stdout"
        }
      ]
    },
    {
      "cell_type": "code",
      "metadata": {
        "id": "DIxTMUem60Yl",
        "colab": {
          "base_uri": "https://localhost:8080/",
          "height": 197
        },
        "outputId": "6d69f371-10ad-412b-ad11-ed080e8ce994"
      },
      "source": [
        "df.head()"
      ],
      "execution_count": null,
      "outputs": [
        {
          "output_type": "execute_result",
          "data": {
            "text/html": [
              "<div>\n",
              "<style scoped>\n",
              "    .dataframe tbody tr th:only-of-type {\n",
              "        vertical-align: middle;\n",
              "    }\n",
              "\n",
              "    .dataframe tbody tr th {\n",
              "        vertical-align: top;\n",
              "    }\n",
              "\n",
              "    .dataframe thead th {\n",
              "        text-align: right;\n",
              "    }\n",
              "</style>\n",
              "<table border=\"1\" class=\"dataframe\">\n",
              "  <thead>\n",
              "    <tr style=\"text-align: right;\">\n",
              "      <th></th>\n",
              "      <th>Department</th>\n",
              "      <th>Grade</th>\n",
              "      <th>Gender</th>\n",
              "      <th>Quiz</th>\n",
              "      <th>Mid_Exam</th>\n",
              "      <th>Final_Exam</th>\n",
              "    </tr>\n",
              "  </thead>\n",
              "  <tbody>\n",
              "    <tr>\n",
              "      <th>0</th>\n",
              "      <td>BA</td>\n",
              "      <td>一A</td>\n",
              "      <td>M</td>\n",
              "      <td>81</td>\n",
              "      <td>72.0</td>\n",
              "      <td>80</td>\n",
              "    </tr>\n",
              "    <tr>\n",
              "      <th>1</th>\n",
              "      <td>BA</td>\n",
              "      <td>一A</td>\n",
              "      <td>M</td>\n",
              "      <td>80</td>\n",
              "      <td>87.5</td>\n",
              "      <td>90</td>\n",
              "    </tr>\n",
              "    <tr>\n",
              "      <th>2</th>\n",
              "      <td>BA</td>\n",
              "      <td>一A</td>\n",
              "      <td>M</td>\n",
              "      <td>69</td>\n",
              "      <td>74.0</td>\n",
              "      <td>76</td>\n",
              "    </tr>\n",
              "    <tr>\n",
              "      <th>3</th>\n",
              "      <td>BA</td>\n",
              "      <td>一A</td>\n",
              "      <td>F</td>\n",
              "      <td>58</td>\n",
              "      <td>52.0</td>\n",
              "      <td>50</td>\n",
              "    </tr>\n",
              "    <tr>\n",
              "      <th>4</th>\n",
              "      <td>BA</td>\n",
              "      <td>一A</td>\n",
              "      <td>M</td>\n",
              "      <td>82</td>\n",
              "      <td>76.0</td>\n",
              "      <td>78</td>\n",
              "    </tr>\n",
              "  </tbody>\n",
              "</table>\n",
              "</div>"
            ],
            "text/plain": [
              "  Department Grade Gender  Quiz  Mid_Exam  Final_Exam\n",
              "0         BA    一A      M    81      72.0          80\n",
              "1         BA    一A      M    80      87.5          90\n",
              "2         BA    一A      M    69      74.0          76\n",
              "3         BA    一A      F    58      52.0          50\n",
              "4         BA    一A      M    82      76.0          78"
            ]
          },
          "metadata": {
            "tags": []
          },
          "execution_count": 2
        }
      ]
    },
    {
      "cell_type": "code",
      "metadata": {
        "id": "1YogPCfW62V9",
        "colab": {
          "base_uri": "https://localhost:8080/"
        },
        "outputId": "8323da44-cb57-42a2-8734-39e5fc64d65e"
      },
      "source": [
        "df.groupby('Gender').size()"
      ],
      "execution_count": null,
      "outputs": [
        {
          "output_type": "execute_result",
          "data": {
            "text/plain": [
              "Gender\n",
              "F    27\n",
              "M    30\n",
              "dtype: int64"
            ]
          },
          "metadata": {
            "tags": []
          },
          "execution_count": 3
        }
      ]
    },
    {
      "cell_type": "code",
      "metadata": {
        "id": "VO3FVBes64Et"
      },
      "source": [
        "qv2=['Quiz','Mid_Exam','Final_Exam']"
      ],
      "execution_count": null,
      "outputs": []
    },
    {
      "cell_type": "code",
      "metadata": {
        "id": "HEH17X1U67r_"
      },
      "source": [
        "name=[]\n",
        "alist=[]\n",
        "pvlist=[]\n",
        "for i in range(len(qv2)):\n",
        "  #分別取t_test變數與 Gender='M' 及 Gender='F'的交集去做t檢定\n",
        "  (a,pv)=stats.ttest_ind(df[qv2[i]][df['Gender']=='F'],df[qv2[i]][df['Gender']=='M'])\n",
        "  #將t_test項目加進name中\n",
        "  name.append(qv2[i])\n",
        "  #將a(t值)加進alist中\n",
        "  alist.append(a)\n",
        "  #將pv值加進pvlist中\n",
        "  pvlist.append(pv)"
      ],
      "execution_count": null,
      "outputs": []
    },
    {
      "cell_type": "code",
      "metadata": {
        "id": "E7ROyhTc69gz",
        "colab": {
          "base_uri": "https://localhost:8080/",
          "height": 137
        },
        "outputId": "06131471-1c1c-4a9f-d4fd-7c65fb4d9851"
      },
      "source": [
        "#lambda表示式是一種效能比較好的迴圈,跑比較快\n",
        "pd.set_option('display.float_format',lambda x:'%.2f'%x)\n",
        "#將alist資料結構用DataFrame顯示出\n",
        "result=pd.DataFrame(alist,name,columns=['t-value'])\n",
        "#將pvlist加進result第二欄\n",
        "result.insert(1,'p-value',pvlist)\n",
        "result"
      ],
      "execution_count": null,
      "outputs": [
        {
          "output_type": "execute_result",
          "data": {
            "text/html": [
              "<div>\n",
              "<style scoped>\n",
              "    .dataframe tbody tr th:only-of-type {\n",
              "        vertical-align: middle;\n",
              "    }\n",
              "\n",
              "    .dataframe tbody tr th {\n",
              "        vertical-align: top;\n",
              "    }\n",
              "\n",
              "    .dataframe thead th {\n",
              "        text-align: right;\n",
              "    }\n",
              "</style>\n",
              "<table border=\"1\" class=\"dataframe\">\n",
              "  <thead>\n",
              "    <tr style=\"text-align: right;\">\n",
              "      <th></th>\n",
              "      <th>t-value</th>\n",
              "      <th>p-value</th>\n",
              "    </tr>\n",
              "  </thead>\n",
              "  <tbody>\n",
              "    <tr>\n",
              "      <th>Quiz</th>\n",
              "      <td>2.79</td>\n",
              "      <td>0.01</td>\n",
              "    </tr>\n",
              "    <tr>\n",
              "      <th>Mid_Exam</th>\n",
              "      <td>2.65</td>\n",
              "      <td>0.01</td>\n",
              "    </tr>\n",
              "    <tr>\n",
              "      <th>Final_Exam</th>\n",
              "      <td>1.97</td>\n",
              "      <td>0.05</td>\n",
              "    </tr>\n",
              "  </tbody>\n",
              "</table>\n",
              "</div>"
            ],
            "text/plain": [
              "            t-value  p-value\n",
              "Quiz           2.79     0.01\n",
              "Mid_Exam       2.65     0.01\n",
              "Final_Exam     1.97     0.05"
            ]
          },
          "metadata": {
            "tags": []
          },
          "execution_count": 6
        }
      ]
    },
    {
      "cell_type": "code",
      "metadata": {
        "id": "IcpQf1a-6_Yu",
        "colab": {
          "base_uri": "https://localhost:8080/",
          "height": 137
        },
        "outputId": "c72ee22c-ec5b-4e6f-b080-49c2306070ef"
      },
      "source": [
        "df_mean = df.groupby('Gender').mean()\n",
        "df_size = pd.DataFrame(df.groupby('Gender').size(),columns=['人數'])\n",
        "res = pd.concat([df_size,df_mean], axis=1)\n",
        "res"
      ],
      "execution_count": null,
      "outputs": [
        {
          "output_type": "execute_result",
          "data": {
            "text/html": [
              "<div>\n",
              "<style scoped>\n",
              "    .dataframe tbody tr th:only-of-type {\n",
              "        vertical-align: middle;\n",
              "    }\n",
              "\n",
              "    .dataframe tbody tr th {\n",
              "        vertical-align: top;\n",
              "    }\n",
              "\n",
              "    .dataframe thead th {\n",
              "        text-align: right;\n",
              "    }\n",
              "</style>\n",
              "<table border=\"1\" class=\"dataframe\">\n",
              "  <thead>\n",
              "    <tr style=\"text-align: right;\">\n",
              "      <th></th>\n",
              "      <th>人數</th>\n",
              "      <th>Quiz</th>\n",
              "      <th>Mid_Exam</th>\n",
              "      <th>Final_Exam</th>\n",
              "    </tr>\n",
              "    <tr>\n",
              "      <th>Gender</th>\n",
              "      <th></th>\n",
              "      <th></th>\n",
              "      <th></th>\n",
              "      <th></th>\n",
              "    </tr>\n",
              "  </thead>\n",
              "  <tbody>\n",
              "    <tr>\n",
              "      <th>F</th>\n",
              "      <td>27</td>\n",
              "      <td>71.15</td>\n",
              "      <td>70.70</td>\n",
              "      <td>72.30</td>\n",
              "    </tr>\n",
              "    <tr>\n",
              "      <th>M</th>\n",
              "      <td>30</td>\n",
              "      <td>54.07</td>\n",
              "      <td>54.15</td>\n",
              "      <td>61.97</td>\n",
              "    </tr>\n",
              "  </tbody>\n",
              "</table>\n",
              "</div>"
            ],
            "text/plain": [
              "        人數  Quiz  Mid_Exam  Final_Exam\n",
              "Gender                                \n",
              "F       27 71.15     70.70       72.30\n",
              "M       30 54.07     54.15       61.97"
            ]
          },
          "metadata": {
            "tags": []
          },
          "execution_count": 7
        }
      ]
    },
    {
      "cell_type": "code",
      "metadata": {
        "colab": {
          "base_uri": "https://localhost:8080/",
          "height": 264
        },
        "id": "tLuhYqHwyM5I",
        "outputId": "9a0abf87-51fb-4d8e-e6ef-c4d0a2277ec6"
      },
      "source": [
        "axes = res.T.plot.bar(rot = 0)\n",
        "for label in axes.get_xticklabels():\n",
        "    label.set_fontproperties(myfont)\n",
        "plt.show()"
      ],
      "execution_count": null,
      "outputs": [
        {
          "output_type": "display_data",
          "data": {
            "image/png": "[encoded data removed]",
            "text/plain": [
              "<Figure size 432x288 with 1 Axes>"
            ]
          },
          "metadata": {
            "tags": [],
            "needs_background": "light"
          }
        }
      ]
    },
    {
      "cell_type": "markdown",
      "metadata": {
        "id": "SEPLdL2n9arr"
      },
      "source": [
        "結果說明:由上述結果可得知 男女的差別生在T檢定下 發生型一錯誤的機率趨近於零且三樣數據皆超出拒絕愈域 可表示有明顯差異，特別是小考跟期中考的部分，皆為非常顯著的差異"
      ]
    }
  ]
}