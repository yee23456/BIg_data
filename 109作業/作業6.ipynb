{
  "nbformat": 4,
  "nbformat_minor": 0,
  "metadata": {
    "colab": {
      "name": "作業6",
      "provenance": []
    },
    "kernelspec": {
      "name": "python3",
      "display_name": "Python 3"
    },
    "language_info": {
      "name": "python"
    }
  },
  "cells": [
    {
      "cell_type": "markdown",
      "metadata": {
        "id": "81387GJte9dW"
      },
      "source": [
        "#作業6\n",
        "請依附檔(StudentsPerformance.csv)進行以下分析，並說明分析結果。１.請分析中數學成績(math_score)、閱讀成績(reading_score)與寫作成績(writing_score)之相關性。2.請比較分析男女同學數學成績(math_score)、閱讀成績(reading_score)與寫作成績(writing_score)之差異。3.請比較分析不同group同學數學成績(math_score)、閱讀成績(reading_score)與寫作成績(writing_score)之差異。"
      ]
    },
    {
      "cell_type": "markdown",
      "metadata": {
        "id": "h5-hsvXffcSt"
      },
      "source": [
        "#1.請分析中數學成績(math_score)、閱讀成績(reading_score)與寫作成績(writing_score)之相關性。"
      ]
    },
    {
      "cell_type": "code",
      "metadata": {
        "id": "zasGVv_efb-G"
      },
      "source": [
        "import pandas as pd\n",
        "import numpy as np\n",
        "import random as rnd\n",
        "import seaborn as sns\n",
        "import matplotlib.pyplot as plt\n",
        "%matplotlib inline\n",
        "plt.rcParams['figure.figsize']=(10,5)\n",
        "data=pd.read_csv('StudentsPerformance.csv',encoding = \"Big5\")"
      ],
      "execution_count": null,
      "outputs": []
    },
    {
      "cell_type": "code",
      "metadata": {
        "id": "XUmtoerwezRx",
        "colab": {
          "base_uri": "https://localhost:8080/",
          "height": 197
        },
        "outputId": "79a2a4f8-6c0e-4203-d252-26d67e542bab"
      },
      "source": [
        "data.head()"
      ],
      "execution_count": null,
      "outputs": [
        {
          "output_type": "execute_result",
          "data": {
            "text/html": [
              "<div>\n",
              "<style scoped>\n",
              "    .dataframe tbody tr th:only-of-type {\n",
              "        vertical-align: middle;\n",
              "    }\n",
              "\n",
              "    .dataframe tbody tr th {\n",
              "        vertical-align: top;\n",
              "    }\n",
              "\n",
              "    .dataframe thead th {\n",
              "        text-align: right;\n",
              "    }\n",
              "</style>\n",
              "<table border=\"1\" class=\"dataframe\">\n",
              "  <thead>\n",
              "    <tr style=\"text-align: right;\">\n",
              "      <th></th>\n",
              "      <th>gender</th>\n",
              "      <th>race/ethnicity</th>\n",
              "      <th>parental level of education</th>\n",
              "      <th>lunch</th>\n",
              "      <th>test preparation course</th>\n",
              "      <th>math score</th>\n",
              "      <th>reading score</th>\n",
              "      <th>writing score</th>\n",
              "    </tr>\n",
              "  </thead>\n",
              "  <tbody>\n",
              "    <tr>\n",
              "      <th>0</th>\n",
              "      <td>female</td>\n",
              "      <td>group B</td>\n",
              "      <td>bachelor's degree</td>\n",
              "      <td>standard</td>\n",
              "      <td>none</td>\n",
              "      <td>72</td>\n",
              "      <td>72</td>\n",
              "      <td>74</td>\n",
              "    </tr>\n",
              "    <tr>\n",
              "      <th>1</th>\n",
              "      <td>female</td>\n",
              "      <td>group C</td>\n",
              "      <td>some college</td>\n",
              "      <td>standard</td>\n",
              "      <td>completed</td>\n",
              "      <td>69</td>\n",
              "      <td>90</td>\n",
              "      <td>88</td>\n",
              "    </tr>\n",
              "    <tr>\n",
              "      <th>2</th>\n",
              "      <td>female</td>\n",
              "      <td>group B</td>\n",
              "      <td>master's degree</td>\n",
              "      <td>standard</td>\n",
              "      <td>none</td>\n",
              "      <td>90</td>\n",
              "      <td>95</td>\n",
              "      <td>93</td>\n",
              "    </tr>\n",
              "    <tr>\n",
              "      <th>3</th>\n",
              "      <td>male</td>\n",
              "      <td>group A</td>\n",
              "      <td>associate's degree</td>\n",
              "      <td>free/reduced</td>\n",
              "      <td>none</td>\n",
              "      <td>47</td>\n",
              "      <td>57</td>\n",
              "      <td>44</td>\n",
              "    </tr>\n",
              "    <tr>\n",
              "      <th>4</th>\n",
              "      <td>male</td>\n",
              "      <td>group C</td>\n",
              "      <td>some college</td>\n",
              "      <td>standard</td>\n",
              "      <td>none</td>\n",
              "      <td>76</td>\n",
              "      <td>78</td>\n",
              "      <td>75</td>\n",
              "    </tr>\n",
              "  </tbody>\n",
              "</table>\n",
              "</div>"
            ],
            "text/plain": [
              "   gender race/ethnicity  ... reading score writing score\n",
              "0  female        group B  ...            72            74\n",
              "1  female        group C  ...            90            88\n",
              "2  female        group B  ...            95            93\n",
              "3    male        group A  ...            57            44\n",
              "4    male        group C  ...            78            75\n",
              "\n",
              "[5 rows x 8 columns]"
            ]
          },
          "metadata": {
            "tags": []
          },
          "execution_count": 2
        }
      ]
    },
    {
      "cell_type": "code",
      "metadata": {
        "colab": {
          "base_uri": "https://localhost:8080/",
          "height": 137
        },
        "id": "oE4BDoqHgOfO",
        "outputId": "2f43c5f3-547d-4cb7-83f6-19f3b9d36cdc"
      },
      "source": [
        "#第五題 皮爾森相關分析\n",
        "qu=['math score','reading score','writing score']\n",
        "len(qu)\n",
        "from scipy import stats\n",
        "name=[]\n",
        "alist=[]\n",
        "pvlist=[]\n",
        "for i in range(len(qu)):\n",
        "  #取qu變數與PTS做皮爾森相關分析，a為相關係數，pv為P值\n",
        "  (a,pv)=stats.pearsonr(data['math score'],data[qu[i]]) \n",
        "  name.append(qu[i])\n",
        "  alist.append(a)\n",
        "  pvlist.append(pv)\n",
        "pd.set_option('display.float_format',lambda x:'%.5f'%x)\n",
        "#資料結構以DataFrame顯示 \n",
        "#語法:pd.DataFrame(資料,index名稱,columns名稱)\n",
        "result=pd.DataFrame(alist,name,columns=['相關係數'])\n",
        "#將pvlist加進result第二欄\n",
        "result.insert(1,'p-value',pvlist) \n",
        "result"
      ],
      "execution_count": null,
      "outputs": [
        {
          "output_type": "execute_result",
          "data": {
            "text/html": [
              "<div>\n",
              "<style scoped>\n",
              "    .dataframe tbody tr th:only-of-type {\n",
              "        vertical-align: middle;\n",
              "    }\n",
              "\n",
              "    .dataframe tbody tr th {\n",
              "        vertical-align: top;\n",
              "    }\n",
              "\n",
              "    .dataframe thead th {\n",
              "        text-align: right;\n",
              "    }\n",
              "</style>\n",
              "<table border=\"1\" class=\"dataframe\">\n",
              "  <thead>\n",
              "    <tr style=\"text-align: right;\">\n",
              "      <th></th>\n",
              "      <th>相關係數</th>\n",
              "      <th>p-value</th>\n",
              "    </tr>\n",
              "  </thead>\n",
              "  <tbody>\n",
              "    <tr>\n",
              "      <th>math score</th>\n",
              "      <td>1.00000</td>\n",
              "      <td>0.00000</td>\n",
              "    </tr>\n",
              "    <tr>\n",
              "      <th>reading score</th>\n",
              "      <td>0.81758</td>\n",
              "      <td>0.00000</td>\n",
              "    </tr>\n",
              "    <tr>\n",
              "      <th>writing score</th>\n",
              "      <td>0.80264</td>\n",
              "      <td>0.00000</td>\n",
              "    </tr>\n",
              "  </tbody>\n",
              "</table>\n",
              "</div>"
            ],
            "text/plain": [
              "                 相關係數  p-value\n",
              "math score    1.00000  0.00000\n",
              "reading score 0.81758  0.00000\n",
              "writing score 0.80264  0.00000"
            ]
          },
          "metadata": {
            "tags": []
          },
          "execution_count": 94
        }
      ]
    },
    {
      "cell_type": "markdown",
      "metadata": {
        "id": "b8jSRbuygj9F"
      },
      "source": [
        "由上述結果得知:'math score','reading score','writing score'具有高相關性"
      ]
    },
    {
      "cell_type": "markdown",
      "metadata": {
        "id": "f_gwcdRlgk4l"
      },
      "source": [
        "#2.請比較分析男女同學數學成績(math_score)、閱讀成績(reading_score)與寫作成績(writing_score)之差異。"
      ]
    },
    {
      "cell_type": "code",
      "metadata": {
        "id": "8GTFxglWgkMt"
      },
      "source": [
        "qv=['math score','reading score','writing score']"
      ],
      "execution_count": null,
      "outputs": []
    },
    {
      "cell_type": "code",
      "metadata": {
        "id": "NUrbvrwlg16V"
      },
      "source": [
        "name=[]\n",
        "alist=[]\n",
        "pvlist=[]\n",
        "for i in range(len(qv)):\n",
        "  #分別取t_test變數與 gender='male' 及 gender='female'的交集去做t檢定\n",
        "  (a,pv)=stats.ttest_ind(data[qv[i]][data['gender']=='female'],data[qv[i]][data['gender']=='male'])\n",
        "  #將t_test項目加進name中\n",
        "  name.append(qv[i])\n",
        "  #將a(t值)加進alist中\n",
        "  alist.append(a)\n",
        "  #將pv值加進pvlist中\n",
        "  pvlist.append(pv)"
      ],
      "execution_count": null,
      "outputs": []
    },
    {
      "cell_type": "code",
      "metadata": {
        "colab": {
          "base_uri": "https://localhost:8080/",
          "height": 137
        },
        "id": "UkG6Vxbdg3IN",
        "outputId": "aa8411ca-0ba1-42cc-aaf7-e649a1ec050e"
      },
      "source": [
        "#lambda表示式是一種效能比較好的迴圈,跑比較快\n",
        "pd.set_option('display.float_format',lambda x:'%.2f'%x)\n",
        "#將alist資料結構用DataFrame顯示出\n",
        "result=pd.DataFrame(alist,name,columns=['t-value'])\n",
        "#將pvlist加進result第二欄\n",
        "result.insert(1,'p-value',pvlist)\n",
        "result"
      ],
      "execution_count": null,
      "outputs": [
        {
          "output_type": "execute_result",
          "data": {
            "text/html": [
              "<div>\n",
              "<style scoped>\n",
              "    .dataframe tbody tr th:only-of-type {\n",
              "        vertical-align: middle;\n",
              "    }\n",
              "\n",
              "    .dataframe tbody tr th {\n",
              "        vertical-align: top;\n",
              "    }\n",
              "\n",
              "    .dataframe thead th {\n",
              "        text-align: right;\n",
              "    }\n",
              "</style>\n",
              "<table border=\"1\" class=\"dataframe\">\n",
              "  <thead>\n",
              "    <tr style=\"text-align: right;\">\n",
              "      <th></th>\n",
              "      <th>t-value</th>\n",
              "      <th>p-value</th>\n",
              "    </tr>\n",
              "  </thead>\n",
              "  <tbody>\n",
              "    <tr>\n",
              "      <th>math score</th>\n",
              "      <td>-5.38</td>\n",
              "      <td>0.00</td>\n",
              "    </tr>\n",
              "    <tr>\n",
              "      <th>reading score</th>\n",
              "      <td>7.96</td>\n",
              "      <td>0.00</td>\n",
              "    </tr>\n",
              "    <tr>\n",
              "      <th>writing score</th>\n",
              "      <td>9.98</td>\n",
              "      <td>0.00</td>\n",
              "    </tr>\n",
              "  </tbody>\n",
              "</table>\n",
              "</div>"
            ],
            "text/plain": [
              "               t-value  p-value\n",
              "math score       -5.38     0.00\n",
              "reading score     7.96     0.00\n",
              "writing score     9.98     0.00"
            ]
          },
          "metadata": {
            "tags": []
          },
          "execution_count": 9
        }
      ]
    },
    {
      "cell_type": "code",
      "metadata": {
        "colab": {
          "base_uri": "https://localhost:8080/",
          "height": 137
        },
        "id": "5UwPzNpPhX9d",
        "outputId": "50096680-c35b-4d0b-fe46-3fe6d2869793"
      },
      "source": [
        "data_mean = data.groupby('gender').mean()\n",
        "data_size = pd.DataFrame(data.groupby('gender').size(),columns=['人數'])\n",
        "res = pd.concat([data_size,data_mean], axis=1)\n",
        "res"
      ],
      "execution_count": null,
      "outputs": [
        {
          "output_type": "execute_result",
          "data": {
            "text/html": [
              "<div>\n",
              "<style scoped>\n",
              "    .dataframe tbody tr th:only-of-type {\n",
              "        vertical-align: middle;\n",
              "    }\n",
              "\n",
              "    .dataframe tbody tr th {\n",
              "        vertical-align: top;\n",
              "    }\n",
              "\n",
              "    .dataframe thead th {\n",
              "        text-align: right;\n",
              "    }\n",
              "</style>\n",
              "<table border=\"1\" class=\"dataframe\">\n",
              "  <thead>\n",
              "    <tr style=\"text-align: right;\">\n",
              "      <th></th>\n",
              "      <th>人數</th>\n",
              "      <th>math score</th>\n",
              "      <th>reading score</th>\n",
              "      <th>writing score</th>\n",
              "    </tr>\n",
              "    <tr>\n",
              "      <th>gender</th>\n",
              "      <th></th>\n",
              "      <th></th>\n",
              "      <th></th>\n",
              "      <th></th>\n",
              "    </tr>\n",
              "  </thead>\n",
              "  <tbody>\n",
              "    <tr>\n",
              "      <th>female</th>\n",
              "      <td>518</td>\n",
              "      <td>63.63</td>\n",
              "      <td>72.61</td>\n",
              "      <td>72.47</td>\n",
              "    </tr>\n",
              "    <tr>\n",
              "      <th>male</th>\n",
              "      <td>482</td>\n",
              "      <td>68.73</td>\n",
              "      <td>65.47</td>\n",
              "      <td>63.31</td>\n",
              "    </tr>\n",
              "  </tbody>\n",
              "</table>\n",
              "</div>"
            ],
            "text/plain": [
              "         人數  math score  reading score  writing score\n",
              "gender                                               \n",
              "female  518       63.63          72.61          72.47\n",
              "male    482       68.73          65.47          63.31"
            ]
          },
          "metadata": {
            "tags": []
          },
          "execution_count": 10
        }
      ]
    },
    {
      "cell_type": "code",
      "metadata": {
        "colab": {
          "base_uri": "https://localhost:8080/",
          "height": 137
        },
        "id": "nOqSEDoz12fL",
        "outputId": "b3639b0a-b194-4d21-abd9-cdee3dd130da"
      },
      "source": [
        "data_mean.T#將上面的表格轉向"
      ],
      "execution_count": null,
      "outputs": [
        {
          "output_type": "execute_result",
          "data": {
            "text/html": [
              "<div>\n",
              "<style scoped>\n",
              "    .dataframe tbody tr th:only-of-type {\n",
              "        vertical-align: middle;\n",
              "    }\n",
              "\n",
              "    .dataframe tbody tr th {\n",
              "        vertical-align: top;\n",
              "    }\n",
              "\n",
              "    .dataframe thead th {\n",
              "        text-align: right;\n",
              "    }\n",
              "</style>\n",
              "<table border=\"1\" class=\"dataframe\">\n",
              "  <thead>\n",
              "    <tr style=\"text-align: right;\">\n",
              "      <th>gender</th>\n",
              "      <th>female</th>\n",
              "      <th>male</th>\n",
              "    </tr>\n",
              "  </thead>\n",
              "  <tbody>\n",
              "    <tr>\n",
              "      <th>math score</th>\n",
              "      <td>63.63320</td>\n",
              "      <td>68.72822</td>\n",
              "    </tr>\n",
              "    <tr>\n",
              "      <th>reading score</th>\n",
              "      <td>72.60811</td>\n",
              "      <td>65.47303</td>\n",
              "    </tr>\n",
              "    <tr>\n",
              "      <th>writing score</th>\n",
              "      <td>72.46718</td>\n",
              "      <td>63.31120</td>\n",
              "    </tr>\n",
              "  </tbody>\n",
              "</table>\n",
              "</div>"
            ],
            "text/plain": [
              "gender          female     male\n",
              "math score    63.63320 68.72822\n",
              "reading score 72.60811 65.47303\n",
              "writing score 72.46718 63.31120"
            ]
          },
          "metadata": {
            "tags": []
          },
          "execution_count": 97
        }
      ]
    },
    {
      "cell_type": "code",
      "metadata": {
        "colab": {
          "base_uri": "https://localhost:8080/",
          "height": 336
        },
        "id": "sKKpY3Wb1prT",
        "outputId": "0be805dd-ad6f-4fcf-89e4-27a8ff62912c"
      },
      "source": [
        "data_mean.T.plot.bar(rot=0)"
      ],
      "execution_count": null,
      "outputs": [
        {
          "output_type": "execute_result",
          "data": {
            "text/plain": [
              "<matplotlib.axes._subplots.AxesSubplot at 0x7f781f34fb90>"
            ]
          },
          "metadata": {
            "tags": []
          },
          "execution_count": 102
        },
        {
          "output_type": "display_data",
          "data": {
            "image/png": "[encoded data removed]",
            "text/plain": [
              "<Figure size 720x360 with 1 Axes>"
            ]
          },
          "metadata": {
            "tags": [],
            "needs_background": "light"
          }
        }
      ]
    },
    {
      "cell_type": "markdown",
      "metadata": {
        "id": "-BjBLfce3toC"
      },
      "source": [
        "由上述結果得知:使用T檢定分析 男女在三項數據皆超出拒絕域 所以\n",
        "拒絕H(0) 具有明顯差異"
      ]
    },
    {
      "cell_type": "markdown",
      "metadata": {
        "id": "X9-mVO6s3rib"
      },
      "source": [
        "#3.請比較分析不同group同學數學成績(math_score)、閱讀成績(reading_score)與寫作成績(writing_score)之差異。"
      ]
    },
    {
      "cell_type": "code",
      "metadata": {
        "id": "sV5Nzr8L3_CR"
      },
      "source": [
        "one=['math score', 'reading score','writing score']\n",
        "name2=[]\n",
        "alist2=[] #f值\n",
        "pvlist2=[] #p值\n",
        "for i in range(len(one)):\n",
        "  (a2,pv2)=stats.f_oneway(data[one[i]][data['race/ethnicity']=='group B'],\n",
        "              data[one[i]][data['race/ethnicity']=='group C'],\n",
        "              data[one[i]][data['race/ethnicity']=='group A'],\n",
        "              data[one[i]][data['race/ethnicity']=='group D'],\n",
        "              data[one[i]][data['race/ethnicity']=='group E'])\n",
        "  name2.append(one[i])#分析的資料名稱\n",
        "  alist2.append(a2)\n",
        "  pvlist2.append(pv2) "
      ],
      "execution_count": null,
      "outputs": []
    },
    {
      "cell_type": "code",
      "metadata": {
        "colab": {
          "base_uri": "https://localhost:8080/",
          "height": 137
        },
        "id": "LtE4oxtW3uKK",
        "outputId": "d8fc410a-45d1-4c90-f26a-cd6e2c544115"
      },
      "source": [
        "result2=pd.DataFrame(alist2,name2,columns=['F_value'])\n",
        "result2.insert(1,'p-value',pvlist2)#插入在1後面,名稱叫p_value;p越小差異越明顯\n",
        "result2"
      ],
      "execution_count": null,
      "outputs": [
        {
          "output_type": "execute_result",
          "data": {
            "text/html": [
              "<div>\n",
              "<style scoped>\n",
              "    .dataframe tbody tr th:only-of-type {\n",
              "        vertical-align: middle;\n",
              "    }\n",
              "\n",
              "    .dataframe tbody tr th {\n",
              "        vertical-align: top;\n",
              "    }\n",
              "\n",
              "    .dataframe thead th {\n",
              "        text-align: right;\n",
              "    }\n",
              "</style>\n",
              "<table border=\"1\" class=\"dataframe\">\n",
              "  <thead>\n",
              "    <tr style=\"text-align: right;\">\n",
              "      <th></th>\n",
              "      <th>F_value</th>\n",
              "      <th>p-value</th>\n",
              "    </tr>\n",
              "  </thead>\n",
              "  <tbody>\n",
              "    <tr>\n",
              "      <th>math score</th>\n",
              "      <td>14.59</td>\n",
              "      <td>0.00</td>\n",
              "    </tr>\n",
              "    <tr>\n",
              "      <th>reading score</th>\n",
              "      <td>5.62</td>\n",
              "      <td>0.00</td>\n",
              "    </tr>\n",
              "    <tr>\n",
              "      <th>writing score</th>\n",
              "      <td>7.16</td>\n",
              "      <td>0.00</td>\n",
              "    </tr>\n",
              "  </tbody>\n",
              "</table>\n",
              "</div>"
            ],
            "text/plain": [
              "               F_value  p-value\n",
              "math score       14.59     0.00\n",
              "reading score     5.62     0.00\n",
              "writing score     7.16     0.00"
            ]
          },
          "metadata": {
            "tags": []
          },
          "execution_count": 79
        }
      ]
    },
    {
      "cell_type": "code",
      "metadata": {
        "colab": {
          "base_uri": "https://localhost:8080/",
          "height": 227
        },
        "id": "hHKfS3Nn5P6r",
        "outputId": "40e92105-d2db-4ba1-dfbe-03d01c8ac178"
      },
      "source": [
        "data_race_mean = data.groupby('race/ethnicity').mean()\n",
        "data_race_size = pd.DataFrame(data.groupby('race/ethnicity').size(),columns=['人數'])\n",
        "res1 = pd.concat([data_race_size,data_race_mean], axis=1)\n",
        "res1"
      ],
      "execution_count": null,
      "outputs": [
        {
          "output_type": "execute_result",
          "data": {
            "text/html": [
              "<div>\n",
              "<style scoped>\n",
              "    .dataframe tbody tr th:only-of-type {\n",
              "        vertical-align: middle;\n",
              "    }\n",
              "\n",
              "    .dataframe tbody tr th {\n",
              "        vertical-align: top;\n",
              "    }\n",
              "\n",
              "    .dataframe thead th {\n",
              "        text-align: right;\n",
              "    }\n",
              "</style>\n",
              "<table border=\"1\" class=\"dataframe\">\n",
              "  <thead>\n",
              "    <tr style=\"text-align: right;\">\n",
              "      <th></th>\n",
              "      <th>人數</th>\n",
              "      <th>math score</th>\n",
              "      <th>reading score</th>\n",
              "      <th>writing score</th>\n",
              "    </tr>\n",
              "    <tr>\n",
              "      <th>race/ethnicity</th>\n",
              "      <th></th>\n",
              "      <th></th>\n",
              "      <th></th>\n",
              "      <th></th>\n",
              "    </tr>\n",
              "  </thead>\n",
              "  <tbody>\n",
              "    <tr>\n",
              "      <th>group A</th>\n",
              "      <td>89</td>\n",
              "      <td>61.63</td>\n",
              "      <td>64.67</td>\n",
              "      <td>62.67</td>\n",
              "    </tr>\n",
              "    <tr>\n",
              "      <th>group B</th>\n",
              "      <td>190</td>\n",
              "      <td>63.45</td>\n",
              "      <td>67.35</td>\n",
              "      <td>65.60</td>\n",
              "    </tr>\n",
              "    <tr>\n",
              "      <th>group C</th>\n",
              "      <td>319</td>\n",
              "      <td>64.46</td>\n",
              "      <td>69.10</td>\n",
              "      <td>67.83</td>\n",
              "    </tr>\n",
              "    <tr>\n",
              "      <th>group D</th>\n",
              "      <td>262</td>\n",
              "      <td>67.36</td>\n",
              "      <td>70.03</td>\n",
              "      <td>70.15</td>\n",
              "    </tr>\n",
              "    <tr>\n",
              "      <th>group E</th>\n",
              "      <td>140</td>\n",
              "      <td>73.82</td>\n",
              "      <td>73.03</td>\n",
              "      <td>71.41</td>\n",
              "    </tr>\n",
              "  </tbody>\n",
              "</table>\n",
              "</div>"
            ],
            "text/plain": [
              "                 人數  math score  reading score  writing score\n",
              "race/ethnicity                                               \n",
              "group A          89       61.63          64.67          62.67\n",
              "group B         190       63.45          67.35          65.60\n",
              "group C         319       64.46          69.10          67.83\n",
              "group D         262       67.36          70.03          70.15\n",
              "group E         140       73.82          73.03          71.41"
            ]
          },
          "metadata": {
            "tags": []
          },
          "execution_count": 84
        }
      ]
    },
    {
      "cell_type": "code",
      "metadata": {
        "colab": {
          "base_uri": "https://localhost:8080/",
          "height": 336
        },
        "id": "pjgmBT_F6K_T",
        "outputId": "c9ea3726-e442-4f9a-d74f-969cec68f892"
      },
      "source": [
        "data_race_mean.T.plot.bar(rot=0)"
      ],
      "execution_count": null,
      "outputs": [
        {
          "output_type": "execute_result",
          "data": {
            "text/plain": [
              "<matplotlib.axes._subplots.AxesSubplot at 0x7f781f2d7f90>"
            ]
          },
          "metadata": {
            "tags": []
          },
          "execution_count": 103
        },
        {
          "output_type": "display_data",
          "data": {
            "image/png": "[encoded data removed]",
            "text/plain": [
              "<Figure size 720x360 with 1 Axes>"
            ]
          },
          "metadata": {
            "tags": [],
            "needs_background": "light"
          }
        }
      ]
    },
    {
      "cell_type": "markdown",
      "metadata": {
        "id": "o_A42B9b-p_7"
      },
      "source": [
        "由上述結果得知:使用變異數分析 group同學在三項數據中 p-value皆小於0.05所以拒絕H(0)   數據具有明顯差異"
      ]
    }
  ]
}