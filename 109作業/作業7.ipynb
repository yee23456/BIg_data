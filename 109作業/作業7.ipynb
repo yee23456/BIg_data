{
  "nbformat": 4,
  "nbformat_minor": 0,
  "metadata": {
    "colab": {
      "name": "作業7",
      "provenance": [],
      "toc_visible": true
    },
    "kernelspec": {
      "name": "python3",
      "display_name": "Python 3"
    },
    "language_info": {
      "name": "python"
    }
  },
  "cells": [
    {
      "cell_type": "markdown",
      "metadata": {
        "id": "lt3DgH91GevQ"
      },
      "source": [
        "#作業7\n",
        "一、分析不同產業別的中小企業貸款違約比例是否具有顯著地差異。\n",
        "\n",
        "二、分析不同企業型態的中小企業貸款違約比例是否具有顯著地差異。\n",
        "\n",
        "三、分析不同年齡層負責人的中小企業貸款違約比例是否具有顯著地差異。\n",
        "\n",
        "分析時請輔以視覺化圖形與檢定結果說明之。"
      ]
    },
    {
      "cell_type": "markdown",
      "metadata": {
        "id": "uzJXwe8NHrsa"
      },
      "source": [
        "附檔(loan.xlsx)為中小企業貸款資料，其中欄位\n",
        "\n",
        "loan：貸款還款狀況(貸款後正常繳款或違約)；\n",
        "\n",
        "in：產業別(1:製造業或2:非製造業);\n",
        "\n",
        "tpye:企業類型(1:家族企業或2:非家族企業);\n",
        "\n",
        "age:年齡層(1,2,3,4分別表30以下；30-45;  45-60;  60以上)。"
      ]
    },
    {
      "cell_type": "code",
      "metadata": {
        "id": "cFYF712kHGVG"
      },
      "source": [
        "import pandas as pd\n",
        "import numpy as np\n",
        "import random as rnd\n",
        "import seaborn as sns\n",
        "import matplotlib.pyplot as plt\n",
        "%matplotlib inline\n",
        "plt.rcParams['figure.figsize']=(10,5)\n",
        "data=pd.read_excel('loan2.xlsx')"
      ],
      "execution_count": null,
      "outputs": []
    },
    {
      "cell_type": "code",
      "metadata": {
        "colab": {
          "base_uri": "https://localhost:8080/"
        },
        "id": "KusjkEDdsDgG",
        "outputId": "11a15273-11e1-4541-dd2f-30d087dc058d"
      },
      "source": [
        "# Colab 進行matplotlib繪圖時顯示繁體中文\n",
        "# 下載台北思源黑體並命名taipei_sans_tc_beta.ttf，移至指定路徑\n",
        "!wget -O taipei_sans_tc_beta.ttf https://drive.google.com/uc?id=1eGAsTN1HBpJAkeVM57_C7ccp7hbgSz3_&export=download\n",
        "!mv taipei_sans_tc_beta.ttf /usr/local/lib/python3.7/dist-packages/matplotlib//mpl-data/fonts/ttf\n",
        "\n",
        "from matplotlib.font_manager import FontProperties\n",
        "import matplotlib.pyplot as plt \n",
        "\n",
        "# 自定義字體變數\n",
        "myfont = FontProperties(fname=r'/usr/local/lib/python3.7/dist-packages/matplotlib/mpl-data/fonts/ttf/taipei_sans_tc_beta.ttf')\n",
        "\n",
        "# !!!!後續在相關函式中增加fontproperties=myfont屬性即可!!!!"
      ],
      "execution_count": null,
      "outputs": [
        {
          "output_type": "stream",
          "text": [
            "--2021-05-12 14:27:42--  https://drive.google.com/uc?id=1eGAsTN1HBpJAkeVM57_C7ccp7hbgSz3_\n",
            "Resolving drive.google.com (drive.google.com)... 74.125.20.100, 74.125.20.138, 74.125.20.139, ...\n",
            "Connecting to drive.google.com (drive.google.com)|74.125.20.100|:443... connected.\n",
            "HTTP request sent, awaiting response... 302 Moved Temporarily\n",
            "Location: https://doc-0k-9o-docs.googleusercontent.com/docs/securesc/ha0ro937gcuc7l7deffksulhg5h7mbp1/p77s8e20vigcs9bl0evnaa7glvk8ms2a/1620829650000/02847987870453524430/*/1eGAsTN1HBpJAkeVM57_C7ccp7hbgSz3_ [following]\n",
            "Warning: wildcards not supported in HTTP.\n",
            "--2021-05-12 14:27:43--  https://doc-0k-9o-docs.googleusercontent.com/docs/securesc/ha0ro937gcuc7l7deffksulhg5h7mbp1/p77s8e20vigcs9bl0evnaa7glvk8ms2a/1620829650000/02847987870453524430/*/1eGAsTN1HBpJAkeVM57_C7ccp7hbgSz3_\n",
            "Resolving doc-0k-9o-docs.googleusercontent.com (doc-0k-9o-docs.googleusercontent.com)... 108.177.98.132, 2607:f8b0:400e:c06::84\n",
            "Connecting to doc-0k-9o-docs.googleusercontent.com (doc-0k-9o-docs.googleusercontent.com)|108.177.98.132|:443... connected.\n",
            "HTTP request sent, awaiting response... 200 OK\n",
            "Length: unspecified [application/x-font-ttf]\n",
            "Saving to: ‘taipei_sans_tc_beta.ttf’\n",
            "\n",
            "taipei_sans_tc_beta     [  <=>               ]  19.70M  57.9MB/s    in 0.3s    \n",
            "\n",
            "2021-05-12 14:27:45 (57.9 MB/s) - ‘taipei_sans_tc_beta.ttf’ saved [20659344]\n",
            "\n"
          ],
          "name": "stdout"
        }
      ]
    },
    {
      "cell_type": "code",
      "metadata": {
        "colab": {
          "base_uri": "https://localhost:8080/",
          "height": 198
        },
        "id": "riwIBZsbHUuQ",
        "outputId": "42842e94-c87d-4639-8550-7102246c6849"
      },
      "source": [
        "data.head()"
      ],
      "execution_count": null,
      "outputs": [
        {
          "output_type": "execute_result",
          "data": {
            "text/html": [
              "<div>\n",
              "<style scoped>\n",
              "    .dataframe tbody tr th:only-of-type {\n",
              "        vertical-align: middle;\n",
              "    }\n",
              "\n",
              "    .dataframe tbody tr th {\n",
              "        vertical-align: top;\n",
              "    }\n",
              "\n",
              "    .dataframe thead th {\n",
              "        text-align: right;\n",
              "    }\n",
              "</style>\n",
              "<table border=\"1\" class=\"dataframe\">\n",
              "  <thead>\n",
              "    <tr style=\"text-align: right;\">\n",
              "      <th></th>\n",
              "      <th>loan</th>\n",
              "      <th>Industry_type</th>\n",
              "      <th>Company_type</th>\n",
              "      <th>Beginning_time</th>\n",
              "      <th>Collateral</th>\n",
              "      <th>Bank_relationship</th>\n",
              "      <th>Capital_increase</th>\n",
              "      <th>Age</th>\n",
              "      <th>Education</th>\n",
              "      <th>Credit</th>\n",
              "    </tr>\n",
              "  </thead>\n",
              "  <tbody>\n",
              "    <tr>\n",
              "      <th>0</th>\n",
              "      <td>1</td>\n",
              "      <td>1</td>\n",
              "      <td>1</td>\n",
              "      <td>4</td>\n",
              "      <td>4</td>\n",
              "      <td>1</td>\n",
              "      <td>4</td>\n",
              "      <td>3</td>\n",
              "      <td>2</td>\n",
              "      <td>2</td>\n",
              "    </tr>\n",
              "    <tr>\n",
              "      <th>1</th>\n",
              "      <td>1</td>\n",
              "      <td>2</td>\n",
              "      <td>1</td>\n",
              "      <td>2</td>\n",
              "      <td>3</td>\n",
              "      <td>2</td>\n",
              "      <td>3</td>\n",
              "      <td>4</td>\n",
              "      <td>3</td>\n",
              "      <td>2</td>\n",
              "    </tr>\n",
              "    <tr>\n",
              "      <th>2</th>\n",
              "      <td>1</td>\n",
              "      <td>1</td>\n",
              "      <td>1</td>\n",
              "      <td>3</td>\n",
              "      <td>3</td>\n",
              "      <td>1</td>\n",
              "      <td>4</td>\n",
              "      <td>3</td>\n",
              "      <td>4</td>\n",
              "      <td>1</td>\n",
              "    </tr>\n",
              "    <tr>\n",
              "      <th>3</th>\n",
              "      <td>1</td>\n",
              "      <td>2</td>\n",
              "      <td>1</td>\n",
              "      <td>4</td>\n",
              "      <td>1</td>\n",
              "      <td>1</td>\n",
              "      <td>4</td>\n",
              "      <td>3</td>\n",
              "      <td>4</td>\n",
              "      <td>2</td>\n",
              "    </tr>\n",
              "    <tr>\n",
              "      <th>4</th>\n",
              "      <td>1</td>\n",
              "      <td>1</td>\n",
              "      <td>1</td>\n",
              "      <td>3</td>\n",
              "      <td>1</td>\n",
              "      <td>1</td>\n",
              "      <td>3</td>\n",
              "      <td>2</td>\n",
              "      <td>3</td>\n",
              "      <td>2</td>\n",
              "    </tr>\n",
              "  </tbody>\n",
              "</table>\n",
              "</div>"
            ],
            "text/plain": [
              "   loan  Industry_type  Company_type  ...  Age  Education  Credit\n",
              "0     1              1             1  ...    3          2       2\n",
              "1     1              2             1  ...    4          3       2\n",
              "2     1              1             1  ...    3          4       1\n",
              "3     1              2             1  ...    3          4       2\n",
              "4     1              1             1  ...    2          3       2\n",
              "\n",
              "[5 rows x 10 columns]"
            ]
          },
          "metadata": {
            "tags": []
          },
          "execution_count": 3
        }
      ]
    },
    {
      "cell_type": "markdown",
      "metadata": {
        "id": "MP5k5uy4MjDq"
      },
      "source": [
        "#一、分析不同產業別的中小企業貸款違約比例是否具有顯著地差異。\n",
        "in：產業別(1:製造業或2:非製造業);"
      ]
    },
    {
      "cell_type": "code",
      "metadata": {
        "colab": {
          "base_uri": "https://localhost:8080/"
        },
        "id": "I52_iqCrLIk3",
        "outputId": "7c9f2f34-6535-48d2-ad5b-7c3d657a84ef"
      },
      "source": [
        "data.groupby('Industry_type').size()"
      ],
      "execution_count": null,
      "outputs": [
        {
          "output_type": "execute_result",
          "data": {
            "text/plain": [
              "Industry_type\n",
              "1     88\n",
              "2    118\n",
              "dtype: int64"
            ]
          },
          "metadata": {
            "tags": []
          },
          "execution_count": 4
        }
      ]
    },
    {
      "cell_type": "code",
      "metadata": {
        "colab": {
          "base_uri": "https://localhost:8080/",
          "height": 138
        },
        "id": "1aVc1fFuMpRn",
        "outputId": "d0cae8f4-830d-48a0-a559-c1d2aaab774c"
      },
      "source": [
        "a=pd.crosstab(data['loan'],data['Industry_type'])\n",
        "a"
      ],
      "execution_count": null,
      "outputs": [
        {
          "output_type": "execute_result",
          "data": {
            "text/html": [
              "<div>\n",
              "<style scoped>\n",
              "    .dataframe tbody tr th:only-of-type {\n",
              "        vertical-align: middle;\n",
              "    }\n",
              "\n",
              "    .dataframe tbody tr th {\n",
              "        vertical-align: top;\n",
              "    }\n",
              "\n",
              "    .dataframe thead th {\n",
              "        text-align: right;\n",
              "    }\n",
              "</style>\n",
              "<table border=\"1\" class=\"dataframe\">\n",
              "  <thead>\n",
              "    <tr style=\"text-align: right;\">\n",
              "      <th>Industry_type</th>\n",
              "      <th>1</th>\n",
              "      <th>2</th>\n",
              "    </tr>\n",
              "    <tr>\n",
              "      <th>loan</th>\n",
              "      <th></th>\n",
              "      <th></th>\n",
              "    </tr>\n",
              "  </thead>\n",
              "  <tbody>\n",
              "    <tr>\n",
              "      <th>1</th>\n",
              "      <td>78</td>\n",
              "      <td>76</td>\n",
              "    </tr>\n",
              "    <tr>\n",
              "      <th>2</th>\n",
              "      <td>10</td>\n",
              "      <td>42</td>\n",
              "    </tr>\n",
              "  </tbody>\n",
              "</table>\n",
              "</div>"
            ],
            "text/plain": [
              "Industry_type   1   2\n",
              "loan                 \n",
              "1              78  76\n",
              "2              10  42"
            ]
          },
          "metadata": {
            "tags": []
          },
          "execution_count": 5
        }
      ]
    },
    {
      "cell_type": "code",
      "metadata": {
        "colab": {
          "base_uri": "https://localhost:8080/"
        },
        "id": "tH5H6AM1MpUM",
        "outputId": "de952f35-161c-4900-d0de-6a21b15d9a7d"
      },
      "source": [
        "import scipy.stats as stats\n",
        "cr=stats.chi2_contingency(a)\n",
        "print(\"Chi-Square value=%.3f,   p_value=%.3f\"%cr[0:2])"
      ],
      "execution_count": null,
      "outputs": [
        {
          "output_type": "stream",
          "text": [
            "Chi-Square value=14.424,   p_value=0.000\n"
          ],
          "name": "stdout"
        }
      ]
    },
    {
      "cell_type": "code",
      "metadata": {
        "colab": {
          "base_uri": "https://localhost:8080/",
          "height": 138
        },
        "id": "zj9EaVQ7MpWW",
        "outputId": "41af2dea-00e8-40b8-afe7-a6d479a8a880"
      },
      "source": [
        "a1=pd.crosstab(data['loan'],data['Industry_type'],margins=False,normalize=1)\n",
        "a1"
      ],
      "execution_count": null,
      "outputs": [
        {
          "output_type": "execute_result",
          "data": {
            "text/html": [
              "<div>\n",
              "<style scoped>\n",
              "    .dataframe tbody tr th:only-of-type {\n",
              "        vertical-align: middle;\n",
              "    }\n",
              "\n",
              "    .dataframe tbody tr th {\n",
              "        vertical-align: top;\n",
              "    }\n",
              "\n",
              "    .dataframe thead th {\n",
              "        text-align: right;\n",
              "    }\n",
              "</style>\n",
              "<table border=\"1\" class=\"dataframe\">\n",
              "  <thead>\n",
              "    <tr style=\"text-align: right;\">\n",
              "      <th>Industry_type</th>\n",
              "      <th>1</th>\n",
              "      <th>2</th>\n",
              "    </tr>\n",
              "    <tr>\n",
              "      <th>loan</th>\n",
              "      <th></th>\n",
              "      <th></th>\n",
              "    </tr>\n",
              "  </thead>\n",
              "  <tbody>\n",
              "    <tr>\n",
              "      <th>1</th>\n",
              "      <td>0.886364</td>\n",
              "      <td>0.644068</td>\n",
              "    </tr>\n",
              "    <tr>\n",
              "      <th>2</th>\n",
              "      <td>0.113636</td>\n",
              "      <td>0.355932</td>\n",
              "    </tr>\n",
              "  </tbody>\n",
              "</table>\n",
              "</div>"
            ],
            "text/plain": [
              "Industry_type         1         2\n",
              "loan                             \n",
              "1              0.886364  0.644068\n",
              "2              0.113636  0.355932"
            ]
          },
          "metadata": {
            "tags": []
          },
          "execution_count": 7
        }
      ]
    },
    {
      "cell_type": "code",
      "metadata": {
        "colab": {
          "base_uri": "https://localhost:8080/",
          "height": 320
        },
        "id": "B4oMdD6OMpau",
        "outputId": "46b41c80-3f42-4210-919a-fc4914266fd9"
      },
      "source": [
        "a1.plot.bar(rot=0)\n",
        "plt.xlabel('貸款還款狀況\\n(1:正常繳款  2:違約)',fontproperties=myfont,fontsize=15)\n",
        "plt.legend([\"製造業\", \"非製造業\"],prop=myfont)"
      ],
      "execution_count": null,
      "outputs": [
        {
          "output_type": "execute_result",
          "data": {
            "text/plain": [
              "<matplotlib.legend.Legend at 0x7fe289f66e10>"
            ]
          },
          "metadata": {
            "tags": []
          },
          "execution_count": 8
        },
        {
          "output_type": "display_data",
          "data": {
            "image/png": "[encoded data removed]",
            "text/plain": [
              "<Figure size 432x288 with 1 Axes>"
            ]
          },
          "metadata": {
            "tags": [],
            "needs_background": "light"
          }
        }
      ]
    },
    {
      "cell_type": "markdown",
      "metadata": {
        "id": "iVFo6zMiuFTH"
      },
      "source": [
        "#結論:\n",
        "由上面程式結果得知:在卡方檢定下 P-value趨近於0的情況，Reject H0。  顯示製造業與非製造業，正常繳款跟違約都具有明顯差異\n",
        "\n",
        "製造業或非製造業 正常繳款的比率都比較高"
      ]
    },
    {
      "cell_type": "markdown",
      "metadata": {
        "id": "-n-VNwD1G2mR"
      },
      "source": [
        "#二、分析不同企業型態的中小企業貸款違約比例是否具有顯著地差異。"
      ]
    },
    {
      "cell_type": "code",
      "metadata": {
        "colab": {
          "base_uri": "https://localhost:8080/",
          "height": 138
        },
        "id": "ZHFuGK-mG2IC",
        "outputId": "0f68060d-19d3-47d9-e8a7-2c8cc6c6eda1"
      },
      "source": [
        "hh=pd.crosstab(data['loan'],data['Company_type'])\n",
        "hh"
      ],
      "execution_count": null,
      "outputs": [
        {
          "output_type": "execute_result",
          "data": {
            "text/html": [
              "<div>\n",
              "<style scoped>\n",
              "    .dataframe tbody tr th:only-of-type {\n",
              "        vertical-align: middle;\n",
              "    }\n",
              "\n",
              "    .dataframe tbody tr th {\n",
              "        vertical-align: top;\n",
              "    }\n",
              "\n",
              "    .dataframe thead th {\n",
              "        text-align: right;\n",
              "    }\n",
              "</style>\n",
              "<table border=\"1\" class=\"dataframe\">\n",
              "  <thead>\n",
              "    <tr style=\"text-align: right;\">\n",
              "      <th>Company_type</th>\n",
              "      <th>1</th>\n",
              "      <th>2</th>\n",
              "    </tr>\n",
              "    <tr>\n",
              "      <th>loan</th>\n",
              "      <th></th>\n",
              "      <th></th>\n",
              "    </tr>\n",
              "  </thead>\n",
              "  <tbody>\n",
              "    <tr>\n",
              "      <th>1</th>\n",
              "      <td>124</td>\n",
              "      <td>30</td>\n",
              "    </tr>\n",
              "    <tr>\n",
              "      <th>2</th>\n",
              "      <td>43</td>\n",
              "      <td>9</td>\n",
              "    </tr>\n",
              "  </tbody>\n",
              "</table>\n",
              "</div>"
            ],
            "text/plain": [
              "Company_type    1   2\n",
              "loan                 \n",
              "1             124  30\n",
              "2              43   9"
            ]
          },
          "metadata": {
            "tags": []
          },
          "execution_count": 9
        }
      ]
    },
    {
      "cell_type": "code",
      "metadata": {
        "colab": {
          "base_uri": "https://localhost:8080/"
        },
        "id": "Af1qGRSlLdxs",
        "outputId": "b631d66d-7058-4e4e-ca59-2adc98dc3429"
      },
      "source": [
        "import scipy.stats as stats\n",
        "cr=stats.chi2_contingency(hh)\n",
        "print(\"Chi-Square value=%.3f,   p_value=%.3f\"%cr[0:2])"
      ],
      "execution_count": null,
      "outputs": [
        {
          "output_type": "stream",
          "text": [
            "Chi-Square value=0.020,   p_value=0.888\n"
          ],
          "name": "stdout"
        },
        {
          "output_type": "execute_result",
          "data": {
            "text/plain": [
              "(0.019910344530335286,\n",
              " 0.8877877677314174,\n",
              " 1,\n",
              " array([[124.84466019,  29.15533981],\n",
              "        [ 42.15533981,   9.84466019]]))"
            ]
          },
          "metadata": {
            "tags": []
          },
          "execution_count": 19
        }
      ]
    },
    {
      "cell_type": "code",
      "metadata": {
        "colab": {
          "base_uri": "https://localhost:8080/",
          "height": 138
        },
        "id": "1indDD6OGVsR",
        "outputId": "88a74a3c-fb5b-4379-aaac-e45cfe94c2e6"
      },
      "source": [
        "hh1=pd.crosstab(data['loan'],data['Company_type'],margins=False,normalize=1)\n",
        "hh1"
      ],
      "execution_count": null,
      "outputs": [
        {
          "output_type": "execute_result",
          "data": {
            "text/html": [
              "<div>\n",
              "<style scoped>\n",
              "    .dataframe tbody tr th:only-of-type {\n",
              "        vertical-align: middle;\n",
              "    }\n",
              "\n",
              "    .dataframe tbody tr th {\n",
              "        vertical-align: top;\n",
              "    }\n",
              "\n",
              "    .dataframe thead th {\n",
              "        text-align: right;\n",
              "    }\n",
              "</style>\n",
              "<table border=\"1\" class=\"dataframe\">\n",
              "  <thead>\n",
              "    <tr style=\"text-align: right;\">\n",
              "      <th>Company_type</th>\n",
              "      <th>1</th>\n",
              "      <th>2</th>\n",
              "    </tr>\n",
              "    <tr>\n",
              "      <th>loan</th>\n",
              "      <th></th>\n",
              "      <th></th>\n",
              "    </tr>\n",
              "  </thead>\n",
              "  <tbody>\n",
              "    <tr>\n",
              "      <th>1</th>\n",
              "      <td>0.742515</td>\n",
              "      <td>0.769231</td>\n",
              "    </tr>\n",
              "    <tr>\n",
              "      <th>2</th>\n",
              "      <td>0.257485</td>\n",
              "      <td>0.230769</td>\n",
              "    </tr>\n",
              "  </tbody>\n",
              "</table>\n",
              "</div>"
            ],
            "text/plain": [
              "Company_type         1         2\n",
              "loan                            \n",
              "1             0.742515  0.769231\n",
              "2             0.257485  0.230769"
            ]
          },
          "metadata": {
            "tags": []
          },
          "execution_count": 11
        }
      ]
    },
    {
      "cell_type": "code",
      "metadata": {
        "colab": {
          "base_uri": "https://localhost:8080/",
          "height": 322
        },
        "id": "_n_3QBJ6MCaD",
        "outputId": "297c20ec-05a0-4366-c4a2-ec5215ce5235"
      },
      "source": [
        "hh1.plot.bar(rot=0)\n",
        "plt.xlabel('貸款還款狀況\\n(1:正常繳款  2:違約)',fontproperties=myfont,fontsize=15)\n",
        "plt.legend([\"家族企業\", \"非家族企業\"],prop=myfont)"
      ],
      "execution_count": null,
      "outputs": [
        {
          "output_type": "execute_result",
          "data": {
            "text/plain": [
              "<matplotlib.legend.Legend at 0x7fe28a7d9290>"
            ]
          },
          "metadata": {
            "tags": []
          },
          "execution_count": 12
        },
        {
          "output_type": "display_data",
          "data": {
            "image/png": "[encoded data removed]",
            "text/plain": [
              "<Figure size 432x288 with 1 Axes>"
            ]
          },
          "metadata": {
            "tags": [],
            "needs_background": "light"
          }
        }
      ]
    },
    {
      "cell_type": "markdown",
      "metadata": {
        "id": "Pv3zpRfrvwAm"
      },
      "source": [
        "#結論:\n",
        "由上面程式結果得知:在卡方檢定下 P-value大於0.05的情況，接受 H0。  顯示家族企業非家族企業的  \"正常繳款\"  &  \"違約\"  沒有明顯差異\n",
        "\n",
        "家族或非家族 正常繳款的比率都比較高"
      ]
    },
    {
      "cell_type": "markdown",
      "metadata": {
        "id": "jL8V7tPsMGYC"
      },
      "source": [
        "#三、分析不同年齡層負責人的中小企業貸款違約比例是否具有顯著地差異。"
      ]
    },
    {
      "cell_type": "code",
      "metadata": {
        "id": "jorXrS26MJzw",
        "colab": {
          "base_uri": "https://localhost:8080/",
          "height": 138
        },
        "outputId": "7d6b5a9e-8b7c-4db3-d8df-987bb8727d72"
      },
      "source": [
        "b=pd.crosstab(data['loan'],data['Age'])\n",
        "b"
      ],
      "execution_count": null,
      "outputs": [
        {
          "output_type": "execute_result",
          "data": {
            "text/html": [
              "<div>\n",
              "<style scoped>\n",
              "    .dataframe tbody tr th:only-of-type {\n",
              "        vertical-align: middle;\n",
              "    }\n",
              "\n",
              "    .dataframe tbody tr th {\n",
              "        vertical-align: top;\n",
              "    }\n",
              "\n",
              "    .dataframe thead th {\n",
              "        text-align: right;\n",
              "    }\n",
              "</style>\n",
              "<table border=\"1\" class=\"dataframe\">\n",
              "  <thead>\n",
              "    <tr style=\"text-align: right;\">\n",
              "      <th>Age</th>\n",
              "      <th>1</th>\n",
              "      <th>2</th>\n",
              "      <th>3</th>\n",
              "      <th>4</th>\n",
              "    </tr>\n",
              "    <tr>\n",
              "      <th>loan</th>\n",
              "      <th></th>\n",
              "      <th></th>\n",
              "      <th></th>\n",
              "      <th></th>\n",
              "    </tr>\n",
              "  </thead>\n",
              "  <tbody>\n",
              "    <tr>\n",
              "      <th>1</th>\n",
              "      <td>0</td>\n",
              "      <td>47</td>\n",
              "      <td>82</td>\n",
              "      <td>25</td>\n",
              "    </tr>\n",
              "    <tr>\n",
              "      <th>2</th>\n",
              "      <td>8</td>\n",
              "      <td>31</td>\n",
              "      <td>10</td>\n",
              "      <td>3</td>\n",
              "    </tr>\n",
              "  </tbody>\n",
              "</table>\n",
              "</div>"
            ],
            "text/plain": [
              "Age   1   2   3   4\n",
              "loan               \n",
              "1     0  47  82  25\n",
              "2     8  31  10   3"
            ]
          },
          "metadata": {
            "tags": []
          },
          "execution_count": 13
        }
      ]
    },
    {
      "cell_type": "code",
      "metadata": {
        "id": "t32u2kjeMJ34",
        "colab": {
          "base_uri": "https://localhost:8080/"
        },
        "outputId": "243adadd-14e3-4b21-b437-e9f8a06ec0a0"
      },
      "source": [
        "import scipy.stats as stats\n",
        "cr=stats.chi2_contingency(b)\n",
        "print(\"Chi-Square value=%.3f,   p_value=%.3f\"%cr[0:2])"
      ],
      "execution_count": null,
      "outputs": [
        {
          "output_type": "stream",
          "text": [
            "Chi-Square value=45.587,   p_value=0.000\n"
          ],
          "name": "stdout"
        }
      ]
    },
    {
      "cell_type": "code",
      "metadata": {
        "colab": {
          "base_uri": "https://localhost:8080/",
          "height": 138
        },
        "id": "Ovf7r9tVe7VC",
        "outputId": "4e11149e-938c-45d4-c53b-954c4d37eb7a"
      },
      "source": [
        "bb=pd.crosstab(data['loan'],data['Age'],margins=False,normalize=1)\n",
        "bb"
      ],
      "execution_count": null,
      "outputs": [
        {
          "output_type": "execute_result",
          "data": {
            "text/html": [
              "<div>\n",
              "<style scoped>\n",
              "    .dataframe tbody tr th:only-of-type {\n",
              "        vertical-align: middle;\n",
              "    }\n",
              "\n",
              "    .dataframe tbody tr th {\n",
              "        vertical-align: top;\n",
              "    }\n",
              "\n",
              "    .dataframe thead th {\n",
              "        text-align: right;\n",
              "    }\n",
              "</style>\n",
              "<table border=\"1\" class=\"dataframe\">\n",
              "  <thead>\n",
              "    <tr style=\"text-align: right;\">\n",
              "      <th>Age</th>\n",
              "      <th>1</th>\n",
              "      <th>2</th>\n",
              "      <th>3</th>\n",
              "      <th>4</th>\n",
              "    </tr>\n",
              "    <tr>\n",
              "      <th>loan</th>\n",
              "      <th></th>\n",
              "      <th></th>\n",
              "      <th></th>\n",
              "      <th></th>\n",
              "    </tr>\n",
              "  </thead>\n",
              "  <tbody>\n",
              "    <tr>\n",
              "      <th>1</th>\n",
              "      <td>0.0</td>\n",
              "      <td>0.602564</td>\n",
              "      <td>0.891304</td>\n",
              "      <td>0.892857</td>\n",
              "    </tr>\n",
              "    <tr>\n",
              "      <th>2</th>\n",
              "      <td>1.0</td>\n",
              "      <td>0.397436</td>\n",
              "      <td>0.108696</td>\n",
              "      <td>0.107143</td>\n",
              "    </tr>\n",
              "  </tbody>\n",
              "</table>\n",
              "</div>"
            ],
            "text/plain": [
              "Age     1         2         3         4\n",
              "loan                                   \n",
              "1     0.0  0.602564  0.891304  0.892857\n",
              "2     1.0  0.397436  0.108696  0.107143"
            ]
          },
          "metadata": {
            "tags": []
          },
          "execution_count": 15
        }
      ]
    },
    {
      "cell_type": "code",
      "metadata": {
        "colab": {
          "base_uri": "https://localhost:8080/",
          "height": 320
        },
        "id": "pfzr5DLle897",
        "outputId": "4b742acd-c465-4666-fdc2-2fdf85742e61"
      },
      "source": [
        "bb.plot.bar(rot=0)\n",
        "plt.xlabel('貸款還款狀況\\n(1:正常繳款  2:違約)',fontproperties=myfont,fontsize=15)\n",
        "plt.legend([\"30↓\",\"30-45\",\"45-60\",\"60↑\"],prop=myfont)"
      ],
      "execution_count": null,
      "outputs": [
        {
          "output_type": "execute_result",
          "data": {
            "text/plain": [
              "<matplotlib.legend.Legend at 0x7fe2894a4a90>"
            ]
          },
          "metadata": {
            "tags": []
          },
          "execution_count": 16
        },
        {
          "output_type": "display_data",
          "data": {
            "image/png": "[encoded data removed]",
            "text/plain": [
              "<Figure size 432x288 with 1 Axes>"
            ]
          },
          "metadata": {
            "tags": [],
            "needs_background": "light"
          }
        }
      ]
    },
    {
      "cell_type": "markdown",
      "metadata": {
        "id": "T7_9t-4owbRm"
      },
      "source": [
        "#結論:\n",
        "由上面程式結果得知:在卡方檢定下 P-value大於0.05的情況，拒絕 H0。  根據數值可以發現年紀越大違約的比率就越小"
      ]
    }
  ]
}