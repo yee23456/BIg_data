{
  "nbformat": 4,
  "nbformat_minor": 0,
  "metadata": {
    "colab": {
      "name": "“109_2_BigData_1(描述性與解釋性分析)_ipynb”.ipynb",
      "provenance": [],
      "collapsed_sections": []
    },
    "kernelspec": {
      "name": "python3",
      "display_name": "Python 3"
    }
  },
  "cells": [
    {
      "cell_type": "code",
      "metadata": {
        "id": "_8JG4FIfh09O"
      },
      "source": [
        "#載入執行程式所需套件\n",
        "import pandas as pd\n",
        "import numpy as np\n",
        "import random as rnd\n",
        "import seaborn as sns"
      ],
      "execution_count": null,
      "outputs": []
    },
    {
      "cell_type": "code",
      "metadata": {
        "id": "bHcSdZmGjnsv"
      },
      "source": [
        "#讀取檔案，將檔案名稱設為data\n",
        "from google.colab import files\n",
        "data=pd.read_excel('2019STA.xlsx')"
      ],
      "execution_count": null,
      "outputs": []
    },
    {
      "cell_type": "code",
      "metadata": {
        "id": "QHPPpOYbk4Co",
        "colab": {
          "base_uri": "https://localhost:8080/",
          "height": 198
        },
        "outputId": "f80de5a0-182b-4a49-a4f6-f554c4c06f9f"
      },
      "source": [
        "#讀取檔案前五列資料\n",
        "data.head()"
      ],
      "execution_count": null,
      "outputs": [
        {
          "output_type": "execute_result",
          "data": {
            "text/html": [
              "<div>\n",
              "<style scoped>\n",
              "    .dataframe tbody tr th:only-of-type {\n",
              "        vertical-align: middle;\n",
              "    }\n",
              "\n",
              "    .dataframe tbody tr th {\n",
              "        vertical-align: top;\n",
              "    }\n",
              "\n",
              "    .dataframe thead th {\n",
              "        text-align: right;\n",
              "    }\n",
              "</style>\n",
              "<table border=\"1\" class=\"dataframe\">\n",
              "  <thead>\n",
              "    <tr style=\"text-align: right;\">\n",
              "      <th></th>\n",
              "      <th>Department</th>\n",
              "      <th>Grade</th>\n",
              "      <th>Gender</th>\n",
              "      <th>Quiz</th>\n",
              "      <th>Exam</th>\n",
              "    </tr>\n",
              "  </thead>\n",
              "  <tbody>\n",
              "    <tr>\n",
              "      <th>0</th>\n",
              "      <td>BA</td>\n",
              "      <td>一A</td>\n",
              "      <td>M</td>\n",
              "      <td>81</td>\n",
              "      <td>72.0</td>\n",
              "    </tr>\n",
              "    <tr>\n",
              "      <th>1</th>\n",
              "      <td>BA</td>\n",
              "      <td>一A</td>\n",
              "      <td>M</td>\n",
              "      <td>80</td>\n",
              "      <td>87.5</td>\n",
              "    </tr>\n",
              "    <tr>\n",
              "      <th>2</th>\n",
              "      <td>BA</td>\n",
              "      <td>一A</td>\n",
              "      <td>M</td>\n",
              "      <td>69</td>\n",
              "      <td>74.0</td>\n",
              "    </tr>\n",
              "    <tr>\n",
              "      <th>3</th>\n",
              "      <td>BA</td>\n",
              "      <td>一A</td>\n",
              "      <td>F</td>\n",
              "      <td>58</td>\n",
              "      <td>52.0</td>\n",
              "    </tr>\n",
              "    <tr>\n",
              "      <th>4</th>\n",
              "      <td>BA</td>\n",
              "      <td>一A</td>\n",
              "      <td>M</td>\n",
              "      <td>82</td>\n",
              "      <td>76.0</td>\n",
              "    </tr>\n",
              "  </tbody>\n",
              "</table>\n",
              "</div>"
            ],
            "text/plain": [
              "  Department Grade Gender  Quiz  Exam\n",
              "0         BA    一A      M    81  72.0\n",
              "1         BA    一A      M    80  87.5\n",
              "2         BA    一A      M    69  74.0\n",
              "3         BA    一A      F    58  52.0\n",
              "4         BA    一A      M    82  76.0"
            ]
          },
          "metadata": {
            "tags": []
          },
          "execution_count": 10
        }
      ]
    },
    {
      "cell_type": "code",
      "metadata": {
        "id": "kGC_njvCkvr-",
        "colab": {
          "base_uri": "https://localhost:8080/"
        },
        "outputId": "83e07789-1aaa-47b7-b7ac-1b39959820d3"
      },
      "source": [
        "#讀取檔案各欄位基本資訊\n",
        "data.info()"
      ],
      "execution_count": null,
      "outputs": [
        {
          "output_type": "stream",
          "text": [
            "<class 'pandas.core.frame.DataFrame'>\n",
            "RangeIndex: 57 entries, 0 to 56\n",
            "Data columns (total 5 columns):\n",
            " #   Column      Non-Null Count  Dtype  \n",
            "---  ------      --------------  -----  \n",
            " 0   Department  57 non-null     object \n",
            " 1   Grade       57 non-null     object \n",
            " 2   Gender      57 non-null     object \n",
            " 3   Quiz        57 non-null     int64  \n",
            " 4   Exam        57 non-null     float64\n",
            "dtypes: float64(1), int64(1), object(3)\n",
            "memory usage: 2.4+ KB\n"
          ],
          "name": "stdout"
        }
      ]
    },
    {
      "cell_type": "code",
      "metadata": {
        "colab": {
          "base_uri": "https://localhost:8080/"
        },
        "id": "vxtVPUnLsLjO",
        "outputId": "58e8e9d3-113a-4f26-8e54-0cab7c69587e"
      },
      "source": [
        "data.to_numpy()"
      ],
      "execution_count": null,
      "outputs": [
        {
          "output_type": "execute_result",
          "data": {
            "text/plain": [
              "array([['BA', '一A', 'M', 81, 72.0],\n",
              "       ['BA', '一A', 'M', 80, 87.5],\n",
              "       ['BA', '一A', 'M', 69, 74.0],\n",
              "       ['BA', '一A', 'F', 58, 52.0],\n",
              "       ['BA', '一A', 'M', 82, 76.0],\n",
              "       ['BA', '一A', 'F', 81, 69.5],\n",
              "       ['BA', '一A', 'F', 87, 92.0],\n",
              "       ['BA', '一A', 'F', 95, 100.0],\n",
              "       ['BA', '一A', 'M', 69, 71.5],\n",
              "       ['BA', '一A', 'F', 83, 86.0],\n",
              "       ['BA', '一A', 'F', 77, 77.0],\n",
              "       ['BA', '一A', 'M', 54, 54.0],\n",
              "       ['BA', '一A', 'M', 83, 75.0],\n",
              "       ['BA', '一A', 'M', 72, 66.0],\n",
              "       ['BA', '一A', 'M', 91, 93.0],\n",
              "       ['BA', '一A', 'F', 67, 73.5],\n",
              "       ['BA', '一A', 'M', 67, 69.5],\n",
              "       ['BA', '一A', 'F', 70, 79.5],\n",
              "       ['BA', '一A', 'M', 42, 34.5],\n",
              "       ['BA', '一A', 'F', 76, 41.0],\n",
              "       ['BA', '一A', 'M', 64, 76.0],\n",
              "       ['BA', '一A', 'F', 80, 75.0],\n",
              "       ['BA', '一A', 'M', 22, 39.5],\n",
              "       ['BA', '一A', 'F', 49, 49.0],\n",
              "       ['BA', '一A', 'M', 46, 57.0],\n",
              "       ['BA', '一A', 'M', 73, 72.0],\n",
              "       ['BA', '一A', 'M', 53, 54.0],\n",
              "       ['BA', '一A', 'F', 34, 28.5],\n",
              "       ['BA', '一A', 'M', 57, 50.5],\n",
              "       ['BA', '一A', 'M', 69, 42.0],\n",
              "       ['BA', '一A', 'M', 20, 18.0],\n",
              "       ['BA', '一A', 'F', 42, 51.5],\n",
              "       ['BA', '一A', 'M', 40, 28.0],\n",
              "       ['BA', '一A', 'M', 18, 29.0],\n",
              "       ['BA', '一A', 'F', 81, 84.5],\n",
              "       ['BA', '一A', 'M', 69, 70.5],\n",
              "       ['BA', '一A', 'M', 12, 15.5],\n",
              "       ['BA', '一A', 'M', 8, 2.5],\n",
              "       ['BA', '一A', 'M', 20, 12.5],\n",
              "       ['BA', '三A', 'F', 60, 45.5],\n",
              "       ['BA', '三A', 'M', 12, 25.0],\n",
              "       ['BA', '三A', 'M', 48, 42.0],\n",
              "       ['BA', '三A', 'M', 24, 35.0],\n",
              "       ['FM', '一A', 'F', 79, 97.0],\n",
              "       ['FM', '一A', 'F', 36, 37.0],\n",
              "       ['FM', '一A', 'M', 80, 84.5],\n",
              "       ['FM', '一A', 'F', 85, 87.0],\n",
              "       ['FM', '一A', 'F', 56, 73.5],\n",
              "       ['FM', '一A', 'F', 38, 36.0],\n",
              "       ['FM', '二A', 'F', 87, 84.5],\n",
              "       ['FM', '二A', 'F', 91, 75.5],\n",
              "       ['FM', '二A', 'M', 97, 98.0],\n",
              "       ['FM', '二A', 'F', 79, 75.5],\n",
              "       ['FM', '二A', 'F', 87, 93.0],\n",
              "       ['FM', '二A', 'F', 96, 94.0],\n",
              "       ['FM', '二A', 'F', 79, 81.0],\n",
              "       ['FM', '二A', 'F', 68, 70.5]], dtype=object)"
            ]
          },
          "metadata": {
            "tags": []
          },
          "execution_count": 12
        }
      ]
    },
    {
      "cell_type": "code",
      "metadata": {
        "id": "o0U6E9Iqpa15",
        "colab": {
          "base_uri": "https://localhost:8080/"
        },
        "outputId": "a065a766-2116-4321-95a1-cff54fb4cf83"
      },
      "source": [
        "#計算各欄位個數\n",
        "data.count()"
      ],
      "execution_count": null,
      "outputs": [
        {
          "output_type": "execute_result",
          "data": {
            "text/plain": [
              "Department    57\n",
              "Grade         57\n",
              "Gender        57\n",
              "Quiz          57\n",
              "Exam          57\n",
              "dtype: int64"
            ]
          },
          "metadata": {
            "tags": []
          },
          "execution_count": 13
        }
      ]
    },
    {
      "cell_type": "markdown",
      "metadata": {
        "id": "CRugcEqA8FTS"
      },
      "source": [
        "# 單一數量資料分析：平均數、中位數、變異數、標準差"
      ]
    },
    {
      "cell_type": "code",
      "metadata": {
        "id": "_u1ZELreztMG"
      },
      "source": [
        "df = pd.read_excel(\"/content/nba2.xlsx\")"
      ],
      "execution_count": null,
      "outputs": []
    },
    {
      "cell_type": "code",
      "metadata": {
        "colab": {
          "base_uri": "https://localhost:8080/",
          "height": 108
        },
        "id": "8EJv-iJzzzy8",
        "outputId": "a8e1d5e4-a2eb-496c-a266-9380ace9a52e"
      },
      "source": [
        "df.describe().iloc[1:3, 2:4]"
      ],
      "execution_count": null,
      "outputs": [
        {
          "output_type": "execute_result",
          "data": {
            "text/html": [
              "<div>\n",
              "<style scoped>\n",
              "    .dataframe tbody tr th:only-of-type {\n",
              "        vertical-align: middle;\n",
              "    }\n",
              "\n",
              "    .dataframe tbody tr th {\n",
              "        vertical-align: top;\n",
              "    }\n",
              "\n",
              "    .dataframe thead th {\n",
              "        text-align: right;\n",
              "    }\n",
              "</style>\n",
              "<table border=\"1\" class=\"dataframe\">\n",
              "  <thead>\n",
              "    <tr style=\"text-align: right;\">\n",
              "      <th></th>\n",
              "      <th>W/E</th>\n",
              "      <th>W/L</th>\n",
              "    </tr>\n",
              "  </thead>\n",
              "  <tbody>\n",
              "    <tr>\n",
              "      <th>mean</th>\n",
              "      <td>1.500000</td>\n",
              "      <td>0.500000</td>\n",
              "    </tr>\n",
              "    <tr>\n",
              "      <th>std</th>\n",
              "      <td>0.500102</td>\n",
              "      <td>0.500102</td>\n",
              "    </tr>\n",
              "  </tbody>\n",
              "</table>\n",
              "</div>"
            ],
            "text/plain": [
              "           W/E       W/L\n",
              "mean  1.500000  0.500000\n",
              "std   0.500102  0.500102"
            ]
          },
          "metadata": {
            "tags": []
          },
          "execution_count": 35
        }
      ]
    },
    {
      "cell_type": "code",
      "metadata": {
        "colab": {
          "base_uri": "https://localhost:8080/",
          "height": 325
        },
        "id": "_7wIrL8k0AAt",
        "outputId": "23c281e0-a190-4dd0-d54c-d5c6004f34e6"
      },
      "source": [
        "df.describe()"
      ],
      "execution_count": null,
      "outputs": [
        {
          "output_type": "execute_result",
          "data": {
            "text/html": [
              "<div>\n",
              "<style scoped>\n",
              "    .dataframe tbody tr th:only-of-type {\n",
              "        vertical-align: middle;\n",
              "    }\n",
              "\n",
              "    .dataframe tbody tr th {\n",
              "        vertical-align: top;\n",
              "    }\n",
              "\n",
              "    .dataframe thead th {\n",
              "        text-align: right;\n",
              "    }\n",
              "</style>\n",
              "<table border=\"1\" class=\"dataframe\">\n",
              "  <thead>\n",
              "    <tr style=\"text-align: right;\">\n",
              "      <th></th>\n",
              "      <th>R/P</th>\n",
              "      <th>H/R</th>\n",
              "      <th>W/E</th>\n",
              "      <th>W/L</th>\n",
              "      <th>DIFF</th>\n",
              "      <th>1Q</th>\n",
              "      <th>2Q</th>\n",
              "      <th>3Q</th>\n",
              "      <th>4Q</th>\n",
              "      <th>F</th>\n",
              "      <th>MIN</th>\n",
              "      <th>FG</th>\n",
              "      <th>FGA</th>\n",
              "      <th>3P</th>\n",
              "      <th>3PA</th>\n",
              "      <th>FT</th>\n",
              "      <th>FTA</th>\n",
              "      <th>OR</th>\n",
              "      <th>ORR</th>\n",
              "      <th>DRR</th>\n",
              "      <th>FT%</th>\n",
              "      <th>TOV%</th>\n",
              "      <th>EFG%</th>\n",
              "      <th>DRB%</th>\n",
              "      <th>ORB%</th>\n",
              "      <th>DR</th>\n",
              "      <th>TOT</th>\n",
              "      <th>A</th>\n",
              "      <th>PF</th>\n",
              "      <th>ST</th>\n",
              "      <th>TO</th>\n",
              "      <th>BL</th>\n",
              "      <th>PTS</th>\n",
              "      <th>POSS</th>\n",
              "      <th>PACE</th>\n",
              "      <th>OEFF</th>\n",
              "      <th>DEFF</th>\n",
              "      <th>REST DAYS</th>\n",
              "      <th>OPENING ODDS</th>\n",
              "      <th>SPREAD</th>\n",
              "    </tr>\n",
              "  </thead>\n",
              "  <tbody>\n",
              "    <tr>\n",
              "      <th>count</th>\n",
              "      <td>2460.0</td>\n",
              "      <td>2460.000000</td>\n",
              "      <td>2460.000000</td>\n",
              "      <td>2460.000000</td>\n",
              "      <td>2460.000000</td>\n",
              "      <td>2460.000000</td>\n",
              "      <td>2460.00000</td>\n",
              "      <td>2460.000000</td>\n",
              "      <td>2460.000000</td>\n",
              "      <td>2460.000000</td>\n",
              "      <td>2460.000000</td>\n",
              "      <td>2460.000000</td>\n",
              "      <td>2460.000000</td>\n",
              "      <td>2460.000000</td>\n",
              "      <td>2460.000000</td>\n",
              "      <td>2460.000000</td>\n",
              "      <td>2460.000000</td>\n",
              "      <td>2460.000000</td>\n",
              "      <td>2460.000000</td>\n",
              "      <td>2460.000000</td>\n",
              "      <td>2460.000000</td>\n",
              "      <td>2460.000000</td>\n",
              "      <td>2460.000000</td>\n",
              "      <td>2460.000000</td>\n",
              "      <td>2460.000000</td>\n",
              "      <td>2460.000000</td>\n",
              "      <td>2460.000000</td>\n",
              "      <td>2460.000000</td>\n",
              "      <td>2460.000000</td>\n",
              "      <td>2460.000000</td>\n",
              "      <td>2460.000000</td>\n",
              "      <td>2460.000000</td>\n",
              "      <td>2460.000000</td>\n",
              "      <td>2460.000000</td>\n",
              "      <td>2460.000000</td>\n",
              "      <td>2460.000000</td>\n",
              "      <td>2460.000000</td>\n",
              "      <td>2460.000000</td>\n",
              "      <td>2460.000000</td>\n",
              "      <td>2460.000000</td>\n",
              "    </tr>\n",
              "    <tr>\n",
              "      <th>mean</th>\n",
              "      <td>1.0</td>\n",
              "      <td>1.500000</td>\n",
              "      <td>1.500000</td>\n",
              "      <td>0.500000</td>\n",
              "      <td>0.000000</td>\n",
              "      <td>26.532927</td>\n",
              "      <td>26.54878</td>\n",
              "      <td>26.037805</td>\n",
              "      <td>25.772764</td>\n",
              "      <td>105.590650</td>\n",
              "      <td>241.626016</td>\n",
              "      <td>39.049187</td>\n",
              "      <td>85.396748</td>\n",
              "      <td>9.653659</td>\n",
              "      <td>26.997154</td>\n",
              "      <td>17.838211</td>\n",
              "      <td>23.110976</td>\n",
              "      <td>10.141463</td>\n",
              "      <td>10.141463</td>\n",
              "      <td>33.369106</td>\n",
              "      <td>0.211578</td>\n",
              "      <td>0.122649</td>\n",
              "      <td>0.515153</td>\n",
              "      <td>0.768876</td>\n",
              "      <td>0.231124</td>\n",
              "      <td>33.369106</td>\n",
              "      <td>43.510569</td>\n",
              "      <td>22.626016</td>\n",
              "      <td>19.898374</td>\n",
              "      <td>7.712195</td>\n",
              "      <td>13.378862</td>\n",
              "      <td>4.758130</td>\n",
              "      <td>105.590244</td>\n",
              "      <td>97.017642</td>\n",
              "      <td>96.368780</td>\n",
              "      <td>108.889756</td>\n",
              "      <td>108.889756</td>\n",
              "      <td>1.037398</td>\n",
              "      <td>102.493902</td>\n",
              "      <td>0.000000</td>\n",
              "    </tr>\n",
              "    <tr>\n",
              "      <th>std</th>\n",
              "      <td>0.0</td>\n",
              "      <td>0.500102</td>\n",
              "      <td>0.500102</td>\n",
              "      <td>0.500102</td>\n",
              "      <td>14.041158</td>\n",
              "      <td>5.836192</td>\n",
              "      <td>5.77366</td>\n",
              "      <td>5.893162</td>\n",
              "      <td>5.912538</td>\n",
              "      <td>12.148947</td>\n",
              "      <td>7.158120</td>\n",
              "      <td>4.956133</td>\n",
              "      <td>7.075632</td>\n",
              "      <td>3.495010</td>\n",
              "      <td>6.677762</td>\n",
              "      <td>6.087595</td>\n",
              "      <td>7.281330</td>\n",
              "      <td>3.753961</td>\n",
              "      <td>3.753961</td>\n",
              "      <td>5.281227</td>\n",
              "      <td>0.077992</td>\n",
              "      <td>0.033608</td>\n",
              "      <td>0.064633</td>\n",
              "      <td>0.073921</td>\n",
              "      <td>0.073921</td>\n",
              "      <td>5.281227</td>\n",
              "      <td>6.381485</td>\n",
              "      <td>5.239523</td>\n",
              "      <td>4.239025</td>\n",
              "      <td>2.897057</td>\n",
              "      <td>3.826711</td>\n",
              "      <td>2.475343</td>\n",
              "      <td>12.148481</td>\n",
              "      <td>5.642584</td>\n",
              "      <td>4.924046</td>\n",
              "      <td>11.382703</td>\n",
              "      <td>11.382703</td>\n",
              "      <td>0.735593</td>\n",
              "      <td>108.452662</td>\n",
              "      <td>6.829624</td>\n",
              "    </tr>\n",
              "    <tr>\n",
              "      <th>min</th>\n",
              "      <td>1.0</td>\n",
              "      <td>1.000000</td>\n",
              "      <td>1.000000</td>\n",
              "      <td>0.000000</td>\n",
              "      <td>-49.000000</td>\n",
              "      <td>8.000000</td>\n",
              "      <td>9.00000</td>\n",
              "      <td>8.000000</td>\n",
              "      <td>8.000000</td>\n",
              "      <td>64.000000</td>\n",
              "      <td>240.000000</td>\n",
              "      <td>21.000000</td>\n",
              "      <td>62.000000</td>\n",
              "      <td>1.000000</td>\n",
              "      <td>7.000000</td>\n",
              "      <td>2.000000</td>\n",
              "      <td>3.000000</td>\n",
              "      <td>1.000000</td>\n",
              "      <td>1.000000</td>\n",
              "      <td>18.000000</td>\n",
              "      <td>0.024691</td>\n",
              "      <td>0.021106</td>\n",
              "      <td>0.311828</td>\n",
              "      <td>0.475000</td>\n",
              "      <td>0.020000</td>\n",
              "      <td>18.000000</td>\n",
              "      <td>25.000000</td>\n",
              "      <td>7.000000</td>\n",
              "      <td>8.000000</td>\n",
              "      <td>1.000000</td>\n",
              "      <td>2.000000</td>\n",
              "      <td>0.000000</td>\n",
              "      <td>64.000000</td>\n",
              "      <td>82.000000</td>\n",
              "      <td>82.000000</td>\n",
              "      <td>71.800000</td>\n",
              "      <td>71.800000</td>\n",
              "      <td>0.000000</td>\n",
              "      <td>-22.000000</td>\n",
              "      <td>-22.000000</td>\n",
              "    </tr>\n",
              "    <tr>\n",
              "      <th>25%</th>\n",
              "      <td>1.0</td>\n",
              "      <td>1.000000</td>\n",
              "      <td>1.000000</td>\n",
              "      <td>0.000000</td>\n",
              "      <td>-9.000000</td>\n",
              "      <td>23.000000</td>\n",
              "      <td>23.00000</td>\n",
              "      <td>22.000000</td>\n",
              "      <td>22.000000</td>\n",
              "      <td>97.000000</td>\n",
              "      <td>240.000000</td>\n",
              "      <td>36.000000</td>\n",
              "      <td>81.000000</td>\n",
              "      <td>7.000000</td>\n",
              "      <td>22.000000</td>\n",
              "      <td>14.000000</td>\n",
              "      <td>18.000000</td>\n",
              "      <td>7.000000</td>\n",
              "      <td>7.000000</td>\n",
              "      <td>30.000000</td>\n",
              "      <td>0.155556</td>\n",
              "      <td>0.098844</td>\n",
              "      <td>0.469880</td>\n",
              "      <td>0.719825</td>\n",
              "      <td>0.178373</td>\n",
              "      <td>30.000000</td>\n",
              "      <td>39.000000</td>\n",
              "      <td>19.000000</td>\n",
              "      <td>17.000000</td>\n",
              "      <td>6.000000</td>\n",
              "      <td>11.000000</td>\n",
              "      <td>3.000000</td>\n",
              "      <td>97.000000</td>\n",
              "      <td>93.200000</td>\n",
              "      <td>92.900000</td>\n",
              "      <td>101.400000</td>\n",
              "      <td>101.400000</td>\n",
              "      <td>1.000000</td>\n",
              "      <td>-5.000000</td>\n",
              "      <td>-5.000000</td>\n",
              "    </tr>\n",
              "    <tr>\n",
              "      <th>50%</th>\n",
              "      <td>1.0</td>\n",
              "      <td>1.500000</td>\n",
              "      <td>1.500000</td>\n",
              "      <td>0.500000</td>\n",
              "      <td>0.000000</td>\n",
              "      <td>27.000000</td>\n",
              "      <td>27.00000</td>\n",
              "      <td>26.000000</td>\n",
              "      <td>26.000000</td>\n",
              "      <td>106.000000</td>\n",
              "      <td>240.000000</td>\n",
              "      <td>39.000000</td>\n",
              "      <td>85.000000</td>\n",
              "      <td>9.000000</td>\n",
              "      <td>27.000000</td>\n",
              "      <td>17.000000</td>\n",
              "      <td>23.000000</td>\n",
              "      <td>10.000000</td>\n",
              "      <td>10.000000</td>\n",
              "      <td>33.000000</td>\n",
              "      <td>0.204423</td>\n",
              "      <td>0.120773</td>\n",
              "      <td>0.512195</td>\n",
              "      <td>0.770833</td>\n",
              "      <td>0.229167</td>\n",
              "      <td>33.000000</td>\n",
              "      <td>43.000000</td>\n",
              "      <td>22.000000</td>\n",
              "      <td>20.000000</td>\n",
              "      <td>8.000000</td>\n",
              "      <td>13.000000</td>\n",
              "      <td>4.000000</td>\n",
              "      <td>106.000000</td>\n",
              "      <td>96.500000</td>\n",
              "      <td>96.100000</td>\n",
              "      <td>109.000000</td>\n",
              "      <td>109.000000</td>\n",
              "      <td>1.000000</td>\n",
              "      <td>90.000000</td>\n",
              "      <td>0.000000</td>\n",
              "    </tr>\n",
              "    <tr>\n",
              "      <th>75%</th>\n",
              "      <td>1.0</td>\n",
              "      <td>2.000000</td>\n",
              "      <td>2.000000</td>\n",
              "      <td>1.000000</td>\n",
              "      <td>9.000000</td>\n",
              "      <td>30.000000</td>\n",
              "      <td>30.00000</td>\n",
              "      <td>30.000000</td>\n",
              "      <td>30.000000</td>\n",
              "      <td>114.000000</td>\n",
              "      <td>240.000000</td>\n",
              "      <td>42.000000</td>\n",
              "      <td>90.000000</td>\n",
              "      <td>12.000000</td>\n",
              "      <td>31.000000</td>\n",
              "      <td>22.000000</td>\n",
              "      <td>28.000000</td>\n",
              "      <td>13.000000</td>\n",
              "      <td>13.000000</td>\n",
              "      <td>37.000000</td>\n",
              "      <td>0.259740</td>\n",
              "      <td>0.145098</td>\n",
              "      <td>0.559211</td>\n",
              "      <td>0.821627</td>\n",
              "      <td>0.280175</td>\n",
              "      <td>37.000000</td>\n",
              "      <td>48.000000</td>\n",
              "      <td>26.000000</td>\n",
              "      <td>23.000000</td>\n",
              "      <td>9.000000</td>\n",
              "      <td>16.000000</td>\n",
              "      <td>6.000000</td>\n",
              "      <td>114.000000</td>\n",
              "      <td>100.500000</td>\n",
              "      <td>99.800000</td>\n",
              "      <td>116.600000</td>\n",
              "      <td>116.600000</td>\n",
              "      <td>1.000000</td>\n",
              "      <td>210.500000</td>\n",
              "      <td>5.000000</td>\n",
              "    </tr>\n",
              "    <tr>\n",
              "      <th>max</th>\n",
              "      <td>1.0</td>\n",
              "      <td>2.000000</td>\n",
              "      <td>2.000000</td>\n",
              "      <td>1.000000</td>\n",
              "      <td>49.000000</td>\n",
              "      <td>47.000000</td>\n",
              "      <td>44.00000</td>\n",
              "      <td>50.000000</td>\n",
              "      <td>47.000000</td>\n",
              "      <td>149.000000</td>\n",
              "      <td>340.000000</td>\n",
              "      <td>57.000000</td>\n",
              "      <td>128.000000</td>\n",
              "      <td>25.000000</td>\n",
              "      <td>61.000000</td>\n",
              "      <td>42.000000</td>\n",
              "      <td>53.000000</td>\n",
              "      <td>26.000000</td>\n",
              "      <td>26.000000</td>\n",
              "      <td>51.000000</td>\n",
              "      <td>0.500000</td>\n",
              "      <td>0.237921</td>\n",
              "      <td>0.759494</td>\n",
              "      <td>0.980000</td>\n",
              "      <td>0.525000</td>\n",
              "      <td>51.000000</td>\n",
              "      <td>67.000000</td>\n",
              "      <td>47.000000</td>\n",
              "      <td>39.000000</td>\n",
              "      <td>20.000000</td>\n",
              "      <td>27.000000</td>\n",
              "      <td>15.000000</td>\n",
              "      <td>149.000000</td>\n",
              "      <td>130.800000</td>\n",
              "      <td>112.800000</td>\n",
              "      <td>147.200000</td>\n",
              "      <td>147.200000</td>\n",
              "      <td>3.000000</td>\n",
              "      <td>241.000000</td>\n",
              "      <td>22.000000</td>\n",
              "    </tr>\n",
              "  </tbody>\n",
              "</table>\n",
              "</div>"
            ],
            "text/plain": [
              "          R/P          H/R          W/E  ...    REST DAYS  OPENING ODDS       SPREAD\n",
              "count  2460.0  2460.000000  2460.000000  ...  2460.000000   2460.000000  2460.000000\n",
              "mean      1.0     1.500000     1.500000  ...     1.037398    102.493902     0.000000\n",
              "std       0.0     0.500102     0.500102  ...     0.735593    108.452662     6.829624\n",
              "min       1.0     1.000000     1.000000  ...     0.000000    -22.000000   -22.000000\n",
              "25%       1.0     1.000000     1.000000  ...     1.000000     -5.000000    -5.000000\n",
              "50%       1.0     1.500000     1.500000  ...     1.000000     90.000000     0.000000\n",
              "75%       1.0     2.000000     2.000000  ...     1.000000    210.500000     5.000000\n",
              "max       1.0     2.000000     2.000000  ...     3.000000    241.000000    22.000000\n",
              "\n",
              "[8 rows x 40 columns]"
            ]
          },
          "metadata": {
            "tags": []
          },
          "execution_count": 36
        }
      ]
    },
    {
      "cell_type": "code",
      "metadata": {
        "colab": {
          "base_uri": "https://localhost:8080/"
        },
        "id": "i-_XErTU0syl",
        "outputId": "3f9690bd-08a5-4d03-e2a5-922a2582b2c0"
      },
      "source": [
        "len(df.columns)"
      ],
      "execution_count": null,
      "outputs": [
        {
          "output_type": "execute_result",
          "data": {
            "text/plain": [
              "43"
            ]
          },
          "metadata": {
            "tags": []
          },
          "execution_count": 47
        }
      ]
    },
    {
      "cell_type": "code",
      "metadata": {
        "colab": {
          "base_uri": "https://localhost:8080/",
          "height": 108
        },
        "id": "L4oRBz4f0Cpl",
        "outputId": "8763d246-34aa-4758-f9b2-908ce854f90e"
      },
      "source": [
        "df.describe().loc[[\"std\", \"mean\"], [\"H/R\", \"W/E\"]]#列行"
      ],
      "execution_count": null,
      "outputs": [
        {
          "output_type": "execute_result",
          "data": {
            "text/html": [
              "<div>\n",
              "<style scoped>\n",
              "    .dataframe tbody tr th:only-of-type {\n",
              "        vertical-align: middle;\n",
              "    }\n",
              "\n",
              "    .dataframe tbody tr th {\n",
              "        vertical-align: top;\n",
              "    }\n",
              "\n",
              "    .dataframe thead th {\n",
              "        text-align: right;\n",
              "    }\n",
              "</style>\n",
              "<table border=\"1\" class=\"dataframe\">\n",
              "  <thead>\n",
              "    <tr style=\"text-align: right;\">\n",
              "      <th></th>\n",
              "      <th>H/R</th>\n",
              "      <th>W/E</th>\n",
              "    </tr>\n",
              "  </thead>\n",
              "  <tbody>\n",
              "    <tr>\n",
              "      <th>std</th>\n",
              "      <td>0.500102</td>\n",
              "      <td>0.500102</td>\n",
              "    </tr>\n",
              "    <tr>\n",
              "      <th>mean</th>\n",
              "      <td>1.500000</td>\n",
              "      <td>1.500000</td>\n",
              "    </tr>\n",
              "  </tbody>\n",
              "</table>\n",
              "</div>"
            ],
            "text/plain": [
              "           H/R       W/E\n",
              "std   0.500102  0.500102\n",
              "mean  1.500000  1.500000"
            ]
          },
          "metadata": {
            "tags": []
          },
          "execution_count": 46
        }
      ]
    },
    {
      "cell_type": "code",
      "metadata": {
        "id": "C6oVmEYlUMro",
        "colab": {
          "base_uri": "https://localhost:8080/",
          "height": 595
        },
        "outputId": "ad994b3d-8ac6-4b6a-b59c-83bdcfa51303"
      },
      "source": [
        "#計算「3P」欄位資料之平均數\n",
        "data['3P'].mean()"
      ],
      "execution_count": null,
      "outputs": [
        {
          "output_type": "error",
          "ename": "KeyError",
          "evalue": "ignored",
          "traceback": [
            "\u001b[0;31m---------------------------------------------------------------------------\u001b[0m",
            "\u001b[0;31mKeyError\u001b[0m                                  Traceback (most recent call last)",
            "\u001b[0;32m/usr/local/lib/python3.7/dist-packages/pandas/core/indexes/base.py\u001b[0m in \u001b[0;36mget_loc\u001b[0;34m(self, key, method, tolerance)\u001b[0m\n\u001b[1;32m   2897\u001b[0m             \u001b[0;32mtry\u001b[0m\u001b[0;34m:\u001b[0m\u001b[0;34m\u001b[0m\u001b[0;34m\u001b[0m\u001b[0m\n\u001b[0;32m-> 2898\u001b[0;31m                 \u001b[0;32mreturn\u001b[0m \u001b[0mself\u001b[0m\u001b[0;34m.\u001b[0m\u001b[0m_engine\u001b[0m\u001b[0;34m.\u001b[0m\u001b[0mget_loc\u001b[0m\u001b[0;34m(\u001b[0m\u001b[0mcasted_key\u001b[0m\u001b[0;34m)\u001b[0m\u001b[0;34m\u001b[0m\u001b[0;34m\u001b[0m\u001b[0m\n\u001b[0m\u001b[1;32m   2899\u001b[0m             \u001b[0;32mexcept\u001b[0m \u001b[0mKeyError\u001b[0m \u001b[0;32mas\u001b[0m \u001b[0merr\u001b[0m\u001b[0;34m:\u001b[0m\u001b[0;34m\u001b[0m\u001b[0;34m\u001b[0m\u001b[0m\n",
            "\u001b[0;32mpandas/_libs/index.pyx\u001b[0m in \u001b[0;36mpandas._libs.index.IndexEngine.get_loc\u001b[0;34m()\u001b[0m\n",
            "\u001b[0;32mpandas/_libs/index.pyx\u001b[0m in \u001b[0;36mpandas._libs.index.IndexEngine.get_loc\u001b[0;34m()\u001b[0m\n",
            "\u001b[0;32mpandas/_libs/hashtable_class_helper.pxi\u001b[0m in \u001b[0;36mpandas._libs.hashtable.PyObjectHashTable.get_item\u001b[0;34m()\u001b[0m\n",
            "\u001b[0;32mpandas/_libs/hashtable_class_helper.pxi\u001b[0m in \u001b[0;36mpandas._libs.hashtable.PyObjectHashTable.get_item\u001b[0;34m()\u001b[0m\n",
            "\u001b[0;31mKeyError\u001b[0m: '3P'",
            "\nThe above exception was the direct cause of the following exception:\n",
            "\u001b[0;31mKeyError\u001b[0m                                  Traceback (most recent call last)",
            "\u001b[0;32m<ipython-input-14-d1fe6a2f7319>\u001b[0m in \u001b[0;36m<module>\u001b[0;34m()\u001b[0m\n\u001b[1;32m      1\u001b[0m \u001b[0;31m#計算「3P」欄位資料之平均數\u001b[0m\u001b[0;34m\u001b[0m\u001b[0;34m\u001b[0m\u001b[0;34m\u001b[0m\u001b[0m\n\u001b[0;32m----> 2\u001b[0;31m \u001b[0mdata\u001b[0m\u001b[0;34m[\u001b[0m\u001b[0;34m'3P'\u001b[0m\u001b[0;34m]\u001b[0m\u001b[0;34m.\u001b[0m\u001b[0mmean\u001b[0m\u001b[0;34m(\u001b[0m\u001b[0;34m)\u001b[0m\u001b[0;34m\u001b[0m\u001b[0;34m\u001b[0m\u001b[0m\n\u001b[0m",
            "\u001b[0;32m/usr/local/lib/python3.7/dist-packages/pandas/core/frame.py\u001b[0m in \u001b[0;36m__getitem__\u001b[0;34m(self, key)\u001b[0m\n\u001b[1;32m   2904\u001b[0m             \u001b[0;32mif\u001b[0m \u001b[0mself\u001b[0m\u001b[0;34m.\u001b[0m\u001b[0mcolumns\u001b[0m\u001b[0;34m.\u001b[0m\u001b[0mnlevels\u001b[0m \u001b[0;34m>\u001b[0m \u001b[0;36m1\u001b[0m\u001b[0;34m:\u001b[0m\u001b[0;34m\u001b[0m\u001b[0;34m\u001b[0m\u001b[0m\n\u001b[1;32m   2905\u001b[0m                 \u001b[0;32mreturn\u001b[0m \u001b[0mself\u001b[0m\u001b[0;34m.\u001b[0m\u001b[0m_getitem_multilevel\u001b[0m\u001b[0;34m(\u001b[0m\u001b[0mkey\u001b[0m\u001b[0;34m)\u001b[0m\u001b[0;34m\u001b[0m\u001b[0;34m\u001b[0m\u001b[0m\n\u001b[0;32m-> 2906\u001b[0;31m             \u001b[0mindexer\u001b[0m \u001b[0;34m=\u001b[0m \u001b[0mself\u001b[0m\u001b[0;34m.\u001b[0m\u001b[0mcolumns\u001b[0m\u001b[0;34m.\u001b[0m\u001b[0mget_loc\u001b[0m\u001b[0;34m(\u001b[0m\u001b[0mkey\u001b[0m\u001b[0;34m)\u001b[0m\u001b[0;34m\u001b[0m\u001b[0;34m\u001b[0m\u001b[0m\n\u001b[0m\u001b[1;32m   2907\u001b[0m             \u001b[0;32mif\u001b[0m \u001b[0mis_integer\u001b[0m\u001b[0;34m(\u001b[0m\u001b[0mindexer\u001b[0m\u001b[0;34m)\u001b[0m\u001b[0;34m:\u001b[0m\u001b[0;34m\u001b[0m\u001b[0;34m\u001b[0m\u001b[0m\n\u001b[1;32m   2908\u001b[0m                 \u001b[0mindexer\u001b[0m \u001b[0;34m=\u001b[0m \u001b[0;34m[\u001b[0m\u001b[0mindexer\u001b[0m\u001b[0;34m]\u001b[0m\u001b[0;34m\u001b[0m\u001b[0;34m\u001b[0m\u001b[0m\n",
            "\u001b[0;32m/usr/local/lib/python3.7/dist-packages/pandas/core/indexes/base.py\u001b[0m in \u001b[0;36mget_loc\u001b[0;34m(self, key, method, tolerance)\u001b[0m\n\u001b[1;32m   2898\u001b[0m                 \u001b[0;32mreturn\u001b[0m \u001b[0mself\u001b[0m\u001b[0;34m.\u001b[0m\u001b[0m_engine\u001b[0m\u001b[0;34m.\u001b[0m\u001b[0mget_loc\u001b[0m\u001b[0;34m(\u001b[0m\u001b[0mcasted_key\u001b[0m\u001b[0;34m)\u001b[0m\u001b[0;34m\u001b[0m\u001b[0;34m\u001b[0m\u001b[0m\n\u001b[1;32m   2899\u001b[0m             \u001b[0;32mexcept\u001b[0m \u001b[0mKeyError\u001b[0m \u001b[0;32mas\u001b[0m \u001b[0merr\u001b[0m\u001b[0;34m:\u001b[0m\u001b[0;34m\u001b[0m\u001b[0;34m\u001b[0m\u001b[0m\n\u001b[0;32m-> 2900\u001b[0;31m                 \u001b[0;32mraise\u001b[0m \u001b[0mKeyError\u001b[0m\u001b[0;34m(\u001b[0m\u001b[0mkey\u001b[0m\u001b[0;34m)\u001b[0m \u001b[0;32mfrom\u001b[0m \u001b[0merr\u001b[0m\u001b[0;34m\u001b[0m\u001b[0;34m\u001b[0m\u001b[0m\n\u001b[0m\u001b[1;32m   2901\u001b[0m \u001b[0;34m\u001b[0m\u001b[0m\n\u001b[1;32m   2902\u001b[0m         \u001b[0;32mif\u001b[0m \u001b[0mtolerance\u001b[0m \u001b[0;32mis\u001b[0m \u001b[0;32mnot\u001b[0m \u001b[0;32mNone\u001b[0m\u001b[0;34m:\u001b[0m\u001b[0;34m\u001b[0m\u001b[0;34m\u001b[0m\u001b[0m\n",
            "\u001b[0;31mKeyError\u001b[0m: '3P'"
          ]
        }
      ]
    },
    {
      "cell_type": "code",
      "metadata": {
        "colab": {
          "base_uri": "https://localhost:8080/",
          "height": 595
        },
        "id": "NfzEIxLa30Cs",
        "outputId": "9e5022bc-5e50-44b6-b0de-a0d8d0abb460"
      },
      "source": [
        "#計算「3P」欄位資料之中位數\n",
        "data['3P'].median()"
      ],
      "execution_count": null,
      "outputs": [
        {
          "output_type": "error",
          "ename": "KeyError",
          "evalue": "ignored",
          "traceback": [
            "\u001b[0;31m---------------------------------------------------------------------------\u001b[0m",
            "\u001b[0;31mKeyError\u001b[0m                                  Traceback (most recent call last)",
            "\u001b[0;32m/usr/local/lib/python3.7/dist-packages/pandas/core/indexes/base.py\u001b[0m in \u001b[0;36mget_loc\u001b[0;34m(self, key, method, tolerance)\u001b[0m\n\u001b[1;32m   2897\u001b[0m             \u001b[0;32mtry\u001b[0m\u001b[0;34m:\u001b[0m\u001b[0;34m\u001b[0m\u001b[0;34m\u001b[0m\u001b[0m\n\u001b[0;32m-> 2898\u001b[0;31m                 \u001b[0;32mreturn\u001b[0m \u001b[0mself\u001b[0m\u001b[0;34m.\u001b[0m\u001b[0m_engine\u001b[0m\u001b[0;34m.\u001b[0m\u001b[0mget_loc\u001b[0m\u001b[0;34m(\u001b[0m\u001b[0mcasted_key\u001b[0m\u001b[0;34m)\u001b[0m\u001b[0;34m\u001b[0m\u001b[0;34m\u001b[0m\u001b[0m\n\u001b[0m\u001b[1;32m   2899\u001b[0m             \u001b[0;32mexcept\u001b[0m \u001b[0mKeyError\u001b[0m \u001b[0;32mas\u001b[0m \u001b[0merr\u001b[0m\u001b[0;34m:\u001b[0m\u001b[0;34m\u001b[0m\u001b[0;34m\u001b[0m\u001b[0m\n",
            "\u001b[0;32mpandas/_libs/index.pyx\u001b[0m in \u001b[0;36mpandas._libs.index.IndexEngine.get_loc\u001b[0;34m()\u001b[0m\n",
            "\u001b[0;32mpandas/_libs/index.pyx\u001b[0m in \u001b[0;36mpandas._libs.index.IndexEngine.get_loc\u001b[0;34m()\u001b[0m\n",
            "\u001b[0;32mpandas/_libs/hashtable_class_helper.pxi\u001b[0m in \u001b[0;36mpandas._libs.hashtable.PyObjectHashTable.get_item\u001b[0;34m()\u001b[0m\n",
            "\u001b[0;32mpandas/_libs/hashtable_class_helper.pxi\u001b[0m in \u001b[0;36mpandas._libs.hashtable.PyObjectHashTable.get_item\u001b[0;34m()\u001b[0m\n",
            "\u001b[0;31mKeyError\u001b[0m: '3P'",
            "\nThe above exception was the direct cause of the following exception:\n",
            "\u001b[0;31mKeyError\u001b[0m                                  Traceback (most recent call last)",
            "\u001b[0;32m<ipython-input-15-6d821ac6a0d1>\u001b[0m in \u001b[0;36m<module>\u001b[0;34m()\u001b[0m\n\u001b[1;32m      1\u001b[0m \u001b[0;31m#計算「3P」欄位資料之中位數\u001b[0m\u001b[0;34m\u001b[0m\u001b[0;34m\u001b[0m\u001b[0;34m\u001b[0m\u001b[0m\n\u001b[0;32m----> 2\u001b[0;31m \u001b[0mdata\u001b[0m\u001b[0;34m[\u001b[0m\u001b[0;34m'3P'\u001b[0m\u001b[0;34m]\u001b[0m\u001b[0;34m.\u001b[0m\u001b[0mmedian\u001b[0m\u001b[0;34m(\u001b[0m\u001b[0;34m)\u001b[0m\u001b[0;34m\u001b[0m\u001b[0;34m\u001b[0m\u001b[0m\n\u001b[0m",
            "\u001b[0;32m/usr/local/lib/python3.7/dist-packages/pandas/core/frame.py\u001b[0m in \u001b[0;36m__getitem__\u001b[0;34m(self, key)\u001b[0m\n\u001b[1;32m   2904\u001b[0m             \u001b[0;32mif\u001b[0m \u001b[0mself\u001b[0m\u001b[0;34m.\u001b[0m\u001b[0mcolumns\u001b[0m\u001b[0;34m.\u001b[0m\u001b[0mnlevels\u001b[0m \u001b[0;34m>\u001b[0m \u001b[0;36m1\u001b[0m\u001b[0;34m:\u001b[0m\u001b[0;34m\u001b[0m\u001b[0;34m\u001b[0m\u001b[0m\n\u001b[1;32m   2905\u001b[0m                 \u001b[0;32mreturn\u001b[0m \u001b[0mself\u001b[0m\u001b[0;34m.\u001b[0m\u001b[0m_getitem_multilevel\u001b[0m\u001b[0;34m(\u001b[0m\u001b[0mkey\u001b[0m\u001b[0;34m)\u001b[0m\u001b[0;34m\u001b[0m\u001b[0;34m\u001b[0m\u001b[0m\n\u001b[0;32m-> 2906\u001b[0;31m             \u001b[0mindexer\u001b[0m \u001b[0;34m=\u001b[0m \u001b[0mself\u001b[0m\u001b[0;34m.\u001b[0m\u001b[0mcolumns\u001b[0m\u001b[0;34m.\u001b[0m\u001b[0mget_loc\u001b[0m\u001b[0;34m(\u001b[0m\u001b[0mkey\u001b[0m\u001b[0;34m)\u001b[0m\u001b[0;34m\u001b[0m\u001b[0;34m\u001b[0m\u001b[0m\n\u001b[0m\u001b[1;32m   2907\u001b[0m             \u001b[0;32mif\u001b[0m \u001b[0mis_integer\u001b[0m\u001b[0;34m(\u001b[0m\u001b[0mindexer\u001b[0m\u001b[0;34m)\u001b[0m\u001b[0;34m:\u001b[0m\u001b[0;34m\u001b[0m\u001b[0;34m\u001b[0m\u001b[0m\n\u001b[1;32m   2908\u001b[0m                 \u001b[0mindexer\u001b[0m \u001b[0;34m=\u001b[0m \u001b[0;34m[\u001b[0m\u001b[0mindexer\u001b[0m\u001b[0;34m]\u001b[0m\u001b[0;34m\u001b[0m\u001b[0;34m\u001b[0m\u001b[0m\n",
            "\u001b[0;32m/usr/local/lib/python3.7/dist-packages/pandas/core/indexes/base.py\u001b[0m in \u001b[0;36mget_loc\u001b[0;34m(self, key, method, tolerance)\u001b[0m\n\u001b[1;32m   2898\u001b[0m                 \u001b[0;32mreturn\u001b[0m \u001b[0mself\u001b[0m\u001b[0;34m.\u001b[0m\u001b[0m_engine\u001b[0m\u001b[0;34m.\u001b[0m\u001b[0mget_loc\u001b[0m\u001b[0;34m(\u001b[0m\u001b[0mcasted_key\u001b[0m\u001b[0;34m)\u001b[0m\u001b[0;34m\u001b[0m\u001b[0;34m\u001b[0m\u001b[0m\n\u001b[1;32m   2899\u001b[0m             \u001b[0;32mexcept\u001b[0m \u001b[0mKeyError\u001b[0m \u001b[0;32mas\u001b[0m \u001b[0merr\u001b[0m\u001b[0;34m:\u001b[0m\u001b[0;34m\u001b[0m\u001b[0;34m\u001b[0m\u001b[0m\n\u001b[0;32m-> 2900\u001b[0;31m                 \u001b[0;32mraise\u001b[0m \u001b[0mKeyError\u001b[0m\u001b[0;34m(\u001b[0m\u001b[0mkey\u001b[0m\u001b[0;34m)\u001b[0m \u001b[0;32mfrom\u001b[0m \u001b[0merr\u001b[0m\u001b[0;34m\u001b[0m\u001b[0;34m\u001b[0m\u001b[0m\n\u001b[0m\u001b[1;32m   2901\u001b[0m \u001b[0;34m\u001b[0m\u001b[0m\n\u001b[1;32m   2902\u001b[0m         \u001b[0;32mif\u001b[0m \u001b[0mtolerance\u001b[0m \u001b[0;32mis\u001b[0m \u001b[0;32mnot\u001b[0m \u001b[0;32mNone\u001b[0m\u001b[0;34m:\u001b[0m\u001b[0;34m\u001b[0m\u001b[0;34m\u001b[0m\u001b[0m\n",
            "\u001b[0;31mKeyError\u001b[0m: '3P'"
          ]
        }
      ]
    },
    {
      "cell_type": "code",
      "metadata": {
        "colab": {
          "base_uri": "https://localhost:8080/",
          "height": 595
        },
        "id": "I2F7JZAW3nbj",
        "outputId": "eaaac576-2cbe-4d44-e564-df3473f8d8de"
      },
      "source": [
        "#計算「1Q」欄位資料之變異數\n",
        "data[\"1Q\"].var()"
      ],
      "execution_count": null,
      "outputs": [
        {
          "output_type": "error",
          "ename": "KeyError",
          "evalue": "ignored",
          "traceback": [
            "\u001b[0;31m---------------------------------------------------------------------------\u001b[0m",
            "\u001b[0;31mKeyError\u001b[0m                                  Traceback (most recent call last)",
            "\u001b[0;32m/usr/local/lib/python3.7/dist-packages/pandas/core/indexes/base.py\u001b[0m in \u001b[0;36mget_loc\u001b[0;34m(self, key, method, tolerance)\u001b[0m\n\u001b[1;32m   2897\u001b[0m             \u001b[0;32mtry\u001b[0m\u001b[0;34m:\u001b[0m\u001b[0;34m\u001b[0m\u001b[0;34m\u001b[0m\u001b[0m\n\u001b[0;32m-> 2898\u001b[0;31m                 \u001b[0;32mreturn\u001b[0m \u001b[0mself\u001b[0m\u001b[0;34m.\u001b[0m\u001b[0m_engine\u001b[0m\u001b[0;34m.\u001b[0m\u001b[0mget_loc\u001b[0m\u001b[0;34m(\u001b[0m\u001b[0mcasted_key\u001b[0m\u001b[0;34m)\u001b[0m\u001b[0;34m\u001b[0m\u001b[0;34m\u001b[0m\u001b[0m\n\u001b[0m\u001b[1;32m   2899\u001b[0m             \u001b[0;32mexcept\u001b[0m \u001b[0mKeyError\u001b[0m \u001b[0;32mas\u001b[0m \u001b[0merr\u001b[0m\u001b[0;34m:\u001b[0m\u001b[0;34m\u001b[0m\u001b[0;34m\u001b[0m\u001b[0m\n",
            "\u001b[0;32mpandas/_libs/index.pyx\u001b[0m in \u001b[0;36mpandas._libs.index.IndexEngine.get_loc\u001b[0;34m()\u001b[0m\n",
            "\u001b[0;32mpandas/_libs/index.pyx\u001b[0m in \u001b[0;36mpandas._libs.index.IndexEngine.get_loc\u001b[0;34m()\u001b[0m\n",
            "\u001b[0;32mpandas/_libs/hashtable_class_helper.pxi\u001b[0m in \u001b[0;36mpandas._libs.hashtable.PyObjectHashTable.get_item\u001b[0;34m()\u001b[0m\n",
            "\u001b[0;32mpandas/_libs/hashtable_class_helper.pxi\u001b[0m in \u001b[0;36mpandas._libs.hashtable.PyObjectHashTable.get_item\u001b[0;34m()\u001b[0m\n",
            "\u001b[0;31mKeyError\u001b[0m: '1Q'",
            "\nThe above exception was the direct cause of the following exception:\n",
            "\u001b[0;31mKeyError\u001b[0m                                  Traceback (most recent call last)",
            "\u001b[0;32m<ipython-input-16-7e7332a2b360>\u001b[0m in \u001b[0;36m<module>\u001b[0;34m()\u001b[0m\n\u001b[1;32m      1\u001b[0m \u001b[0;31m#計算「1Q」欄位資料之變異數\u001b[0m\u001b[0;34m\u001b[0m\u001b[0;34m\u001b[0m\u001b[0;34m\u001b[0m\u001b[0m\n\u001b[0;32m----> 2\u001b[0;31m \u001b[0mdata\u001b[0m\u001b[0;34m[\u001b[0m\u001b[0;34m\"1Q\"\u001b[0m\u001b[0;34m]\u001b[0m\u001b[0;34m.\u001b[0m\u001b[0mvar\u001b[0m\u001b[0;34m(\u001b[0m\u001b[0;34m)\u001b[0m\u001b[0;34m\u001b[0m\u001b[0;34m\u001b[0m\u001b[0m\n\u001b[0m",
            "\u001b[0;32m/usr/local/lib/python3.7/dist-packages/pandas/core/frame.py\u001b[0m in \u001b[0;36m__getitem__\u001b[0;34m(self, key)\u001b[0m\n\u001b[1;32m   2904\u001b[0m             \u001b[0;32mif\u001b[0m \u001b[0mself\u001b[0m\u001b[0;34m.\u001b[0m\u001b[0mcolumns\u001b[0m\u001b[0;34m.\u001b[0m\u001b[0mnlevels\u001b[0m \u001b[0;34m>\u001b[0m \u001b[0;36m1\u001b[0m\u001b[0;34m:\u001b[0m\u001b[0;34m\u001b[0m\u001b[0;34m\u001b[0m\u001b[0m\n\u001b[1;32m   2905\u001b[0m                 \u001b[0;32mreturn\u001b[0m \u001b[0mself\u001b[0m\u001b[0;34m.\u001b[0m\u001b[0m_getitem_multilevel\u001b[0m\u001b[0;34m(\u001b[0m\u001b[0mkey\u001b[0m\u001b[0;34m)\u001b[0m\u001b[0;34m\u001b[0m\u001b[0;34m\u001b[0m\u001b[0m\n\u001b[0;32m-> 2906\u001b[0;31m             \u001b[0mindexer\u001b[0m \u001b[0;34m=\u001b[0m \u001b[0mself\u001b[0m\u001b[0;34m.\u001b[0m\u001b[0mcolumns\u001b[0m\u001b[0;34m.\u001b[0m\u001b[0mget_loc\u001b[0m\u001b[0;34m(\u001b[0m\u001b[0mkey\u001b[0m\u001b[0;34m)\u001b[0m\u001b[0;34m\u001b[0m\u001b[0;34m\u001b[0m\u001b[0m\n\u001b[0m\u001b[1;32m   2907\u001b[0m             \u001b[0;32mif\u001b[0m \u001b[0mis_integer\u001b[0m\u001b[0;34m(\u001b[0m\u001b[0mindexer\u001b[0m\u001b[0;34m)\u001b[0m\u001b[0;34m:\u001b[0m\u001b[0;34m\u001b[0m\u001b[0;34m\u001b[0m\u001b[0m\n\u001b[1;32m   2908\u001b[0m                 \u001b[0mindexer\u001b[0m \u001b[0;34m=\u001b[0m \u001b[0;34m[\u001b[0m\u001b[0mindexer\u001b[0m\u001b[0;34m]\u001b[0m\u001b[0;34m\u001b[0m\u001b[0;34m\u001b[0m\u001b[0m\n",
            "\u001b[0;32m/usr/local/lib/python3.7/dist-packages/pandas/core/indexes/base.py\u001b[0m in \u001b[0;36mget_loc\u001b[0;34m(self, key, method, tolerance)\u001b[0m\n\u001b[1;32m   2898\u001b[0m                 \u001b[0;32mreturn\u001b[0m \u001b[0mself\u001b[0m\u001b[0;34m.\u001b[0m\u001b[0m_engine\u001b[0m\u001b[0;34m.\u001b[0m\u001b[0mget_loc\u001b[0m\u001b[0;34m(\u001b[0m\u001b[0mcasted_key\u001b[0m\u001b[0;34m)\u001b[0m\u001b[0;34m\u001b[0m\u001b[0;34m\u001b[0m\u001b[0m\n\u001b[1;32m   2899\u001b[0m             \u001b[0;32mexcept\u001b[0m \u001b[0mKeyError\u001b[0m \u001b[0;32mas\u001b[0m \u001b[0merr\u001b[0m\u001b[0;34m:\u001b[0m\u001b[0;34m\u001b[0m\u001b[0;34m\u001b[0m\u001b[0m\n\u001b[0;32m-> 2900\u001b[0;31m                 \u001b[0;32mraise\u001b[0m \u001b[0mKeyError\u001b[0m\u001b[0;34m(\u001b[0m\u001b[0mkey\u001b[0m\u001b[0;34m)\u001b[0m \u001b[0;32mfrom\u001b[0m \u001b[0merr\u001b[0m\u001b[0;34m\u001b[0m\u001b[0;34m\u001b[0m\u001b[0m\n\u001b[0m\u001b[1;32m   2901\u001b[0m \u001b[0;34m\u001b[0m\u001b[0m\n\u001b[1;32m   2902\u001b[0m         \u001b[0;32mif\u001b[0m \u001b[0mtolerance\u001b[0m \u001b[0;32mis\u001b[0m \u001b[0;32mnot\u001b[0m \u001b[0;32mNone\u001b[0m\u001b[0;34m:\u001b[0m\u001b[0;34m\u001b[0m\u001b[0;34m\u001b[0m\u001b[0m\n",
            "\u001b[0;31mKeyError\u001b[0m: '1Q'"
          ]
        }
      ]
    },
    {
      "cell_type": "code",
      "metadata": {
        "id": "ckEBQHa1pmTK",
        "colab": {
          "base_uri": "https://localhost:8080/"
        },
        "outputId": "5eb89ed0-5ff5-4f0a-a6cc-b5070617ae54"
      },
      "source": [
        "#計算「1Q」欄位資料之標準差\n",
        "data[\"1Q\"].std()"
      ],
      "execution_count": null,
      "outputs": [
        {
          "output_type": "execute_result",
          "data": {
            "text/plain": [
              "5.836191891791768"
            ]
          },
          "metadata": {
            "tags": []
          },
          "execution_count": 9
        }
      ]
    },
    {
      "cell_type": "code",
      "metadata": {
        "id": "nu30JAbWm7UF",
        "colab": {
          "base_uri": "https://localhost:8080/",
          "height": 35
        },
        "outputId": "bd5c8e8b-e68c-4208-812c-19b12e61e58f"
      },
      "source": [
        "#計算「TO」欄位資料之平均數,取小數點到第三位\n",
        "\"%.3f\"%data[\"TO\"].mean()"
      ],
      "execution_count": null,
      "outputs": [
        {
          "output_type": "execute_result",
          "data": {
            "application/vnd.google.colaboratory.intrinsic+json": {
              "type": "string"
            },
            "text/plain": [
              "'13.379'"
            ]
          },
          "metadata": {
            "tags": []
          },
          "execution_count": 10
        }
      ]
    },
    {
      "cell_type": "code",
      "metadata": {
        "colab": {
          "base_uri": "https://localhost:8080/"
        },
        "id": "PT4GSZAhxvgS",
        "outputId": "a0cedebf-4c3c-4988-a18a-39b4b31656f3"
      },
      "source": [
        "#計算所有欄位資料之平均數\n",
        "data.mean()"
      ],
      "execution_count": null,
      "outputs": [
        {
          "output_type": "execute_result",
          "data": {
            "text/plain": [
              "R/P               1.000000\n",
              "H/R               1.500000\n",
              "W/E               1.500000\n",
              "W/L               0.500000\n",
              "DIFF              0.000000\n",
              "1Q               26.532927\n",
              "2Q               26.548780\n",
              "3Q               26.037805\n",
              "4Q               25.772764\n",
              "F               105.590650\n",
              "MIN             241.626016\n",
              "FG               39.049187\n",
              "FGA              85.396748\n",
              "3P                9.653659\n",
              "3PA              26.997154\n",
              "FT               17.838211\n",
              "FTA              23.110976\n",
              "OR               10.141463\n",
              "ORR              10.141463\n",
              "DRR              33.369106\n",
              "FT%               0.211578\n",
              "TOV%              0.122649\n",
              "EFG%              0.515153\n",
              "DRB%              0.768876\n",
              "ORB%              0.231124\n",
              "DR               33.369106\n",
              "TOT              43.510569\n",
              "A                22.626016\n",
              "PF               19.898374\n",
              "ST                7.712195\n",
              "TO               13.378862\n",
              "BL                4.758130\n",
              "PTS             105.590244\n",
              "POSS             97.017642\n",
              "PACE             96.368780\n",
              "OEFF            108.889756\n",
              "DEFF            108.889756\n",
              "REST DAYS         1.037398\n",
              "OPENING ODDS    102.493902\n",
              "SPREAD            0.000000\n",
              "dtype: float64"
            ]
          },
          "metadata": {
            "tags": []
          },
          "execution_count": 11
        }
      ]
    },
    {
      "cell_type": "code",
      "metadata": {
        "id": "VaBd9mZ5qO9-",
        "colab": {
          "base_uri": "https://localhost:8080/",
          "height": 288
        },
        "outputId": "fa20e4ac-0721-48a8-e6e1-eadc6fb316a1"
      },
      "source": [
        "#計算所有欄位資料之描述性統計量\n",
        "data.describe()"
      ],
      "execution_count": null,
      "outputs": [
        {
          "output_type": "execute_result",
          "data": {
            "text/html": [
              "<div>\n",
              "<style scoped>\n",
              "    .dataframe tbody tr th:only-of-type {\n",
              "        vertical-align: middle;\n",
              "    }\n",
              "\n",
              "    .dataframe tbody tr th {\n",
              "        vertical-align: top;\n",
              "    }\n",
              "\n",
              "    .dataframe thead th {\n",
              "        text-align: right;\n",
              "    }\n",
              "</style>\n",
              "<table border=\"1\" class=\"dataframe\">\n",
              "  <thead>\n",
              "    <tr style=\"text-align: right;\">\n",
              "      <th></th>\n",
              "      <th>Quiz</th>\n",
              "      <th>Exam</th>\n",
              "    </tr>\n",
              "  </thead>\n",
              "  <tbody>\n",
              "    <tr>\n",
              "      <th>count</th>\n",
              "      <td>57.000000</td>\n",
              "      <td>57.000000</td>\n",
              "    </tr>\n",
              "    <tr>\n",
              "      <th>mean</th>\n",
              "      <td>62.157895</td>\n",
              "      <td>61.991228</td>\n",
              "    </tr>\n",
              "    <tr>\n",
              "      <th>std</th>\n",
              "      <td>24.400519</td>\n",
              "      <td>24.797302</td>\n",
              "    </tr>\n",
              "    <tr>\n",
              "      <th>min</th>\n",
              "      <td>8.000000</td>\n",
              "      <td>2.500000</td>\n",
              "    </tr>\n",
              "    <tr>\n",
              "      <th>25%</th>\n",
              "      <td>46.000000</td>\n",
              "      <td>42.000000</td>\n",
              "    </tr>\n",
              "    <tr>\n",
              "      <th>50%</th>\n",
              "      <td>69.000000</td>\n",
              "      <td>70.500000</td>\n",
              "    </tr>\n",
              "    <tr>\n",
              "      <th>75%</th>\n",
              "      <td>81.000000</td>\n",
              "      <td>79.500000</td>\n",
              "    </tr>\n",
              "    <tr>\n",
              "      <th>max</th>\n",
              "      <td>97.000000</td>\n",
              "      <td>100.000000</td>\n",
              "    </tr>\n",
              "  </tbody>\n",
              "</table>\n",
              "</div>"
            ],
            "text/plain": [
              "            Quiz        Exam\n",
              "count  57.000000   57.000000\n",
              "mean   62.157895   61.991228\n",
              "std    24.400519   24.797302\n",
              "min     8.000000    2.500000\n",
              "25%    46.000000   42.000000\n",
              "50%    69.000000   70.500000\n",
              "75%    81.000000   79.500000\n",
              "max    97.000000  100.000000"
            ]
          },
          "metadata": {
            "tags": []
          },
          "execution_count": 19
        }
      ]
    },
    {
      "cell_type": "code",
      "metadata": {
        "id": "7Lvti4nHAfcA"
      },
      "source": [
        "#將所得的描述性統計量的統計陣列設為a\n",
        "a = data.describe()"
      ],
      "execution_count": null,
      "outputs": []
    },
    {
      "cell_type": "code",
      "metadata": {
        "colab": {
          "base_uri": "https://localhost:8080/",
          "height": 288
        },
        "id": "IgShSKAkAgge",
        "outputId": "fce0f499-a1ec-417c-977c-8db75935a60c"
      },
      "source": [
        "#取描述性統計量的統計陣列中的兩個欄位「1Q」及「2Q」\n",
        "a[['1Q','2Q']]"
      ],
      "execution_count": null,
      "outputs": [
        {
          "output_type": "execute_result",
          "data": {
            "text/html": [
              "<div>\n",
              "<style scoped>\n",
              "    .dataframe tbody tr th:only-of-type {\n",
              "        vertical-align: middle;\n",
              "    }\n",
              "\n",
              "    .dataframe tbody tr th {\n",
              "        vertical-align: top;\n",
              "    }\n",
              "\n",
              "    .dataframe thead th {\n",
              "        text-align: right;\n",
              "    }\n",
              "</style>\n",
              "<table border=\"1\" class=\"dataframe\">\n",
              "  <thead>\n",
              "    <tr style=\"text-align: right;\">\n",
              "      <th></th>\n",
              "      <th>1Q</th>\n",
              "      <th>2Q</th>\n",
              "    </tr>\n",
              "  </thead>\n",
              "  <tbody>\n",
              "    <tr>\n",
              "      <th>count</th>\n",
              "      <td>2460.000000</td>\n",
              "      <td>2460.00000</td>\n",
              "    </tr>\n",
              "    <tr>\n",
              "      <th>mean</th>\n",
              "      <td>26.532927</td>\n",
              "      <td>26.54878</td>\n",
              "    </tr>\n",
              "    <tr>\n",
              "      <th>std</th>\n",
              "      <td>5.836192</td>\n",
              "      <td>5.77366</td>\n",
              "    </tr>\n",
              "    <tr>\n",
              "      <th>min</th>\n",
              "      <td>8.000000</td>\n",
              "      <td>9.00000</td>\n",
              "    </tr>\n",
              "    <tr>\n",
              "      <th>25%</th>\n",
              "      <td>23.000000</td>\n",
              "      <td>23.00000</td>\n",
              "    </tr>\n",
              "    <tr>\n",
              "      <th>50%</th>\n",
              "      <td>27.000000</td>\n",
              "      <td>27.00000</td>\n",
              "    </tr>\n",
              "    <tr>\n",
              "      <th>75%</th>\n",
              "      <td>30.000000</td>\n",
              "      <td>30.00000</td>\n",
              "    </tr>\n",
              "    <tr>\n",
              "      <th>max</th>\n",
              "      <td>47.000000</td>\n",
              "      <td>44.00000</td>\n",
              "    </tr>\n",
              "  </tbody>\n",
              "</table>\n",
              "</div>"
            ],
            "text/plain": [
              "                1Q          2Q\n",
              "count  2460.000000  2460.00000\n",
              "mean     26.532927    26.54878\n",
              "std       5.836192     5.77366\n",
              "min       8.000000     9.00000\n",
              "25%      23.000000    23.00000\n",
              "50%      27.000000    27.00000\n",
              "75%      30.000000    30.00000\n",
              "max      47.000000    44.00000"
            ]
          },
          "metadata": {
            "tags": []
          },
          "execution_count": 14
        }
      ]
    },
    {
      "cell_type": "code",
      "metadata": {
        "colab": {
          "base_uri": "https://localhost:8080/",
          "height": 288
        },
        "id": "nLm1yw4xAp2N",
        "outputId": "bbd370ea-ed63-4c58-801f-f8f349e1aead"
      },
      "source": [
        "#DataFrame.loc\n",
        "#Access a group of rows and columns by label(s) or a boolean array.\n",
        "#取a陣列中兩個欄位「1Q」及「4Q」\n",
        "a.loc[:, [\"1Q\",\"4Q\"]]"
      ],
      "execution_count": null,
      "outputs": [
        {
          "output_type": "execute_result",
          "data": {
            "text/html": [
              "<div>\n",
              "<style scoped>\n",
              "    .dataframe tbody tr th:only-of-type {\n",
              "        vertical-align: middle;\n",
              "    }\n",
              "\n",
              "    .dataframe tbody tr th {\n",
              "        vertical-align: top;\n",
              "    }\n",
              "\n",
              "    .dataframe thead th {\n",
              "        text-align: right;\n",
              "    }\n",
              "</style>\n",
              "<table border=\"1\" class=\"dataframe\">\n",
              "  <thead>\n",
              "    <tr style=\"text-align: right;\">\n",
              "      <th></th>\n",
              "      <th>1Q</th>\n",
              "      <th>4Q</th>\n",
              "    </tr>\n",
              "  </thead>\n",
              "  <tbody>\n",
              "    <tr>\n",
              "      <th>count</th>\n",
              "      <td>2460.000000</td>\n",
              "      <td>2460.000000</td>\n",
              "    </tr>\n",
              "    <tr>\n",
              "      <th>mean</th>\n",
              "      <td>26.532927</td>\n",
              "      <td>25.772764</td>\n",
              "    </tr>\n",
              "    <tr>\n",
              "      <th>std</th>\n",
              "      <td>5.836192</td>\n",
              "      <td>5.912538</td>\n",
              "    </tr>\n",
              "    <tr>\n",
              "      <th>min</th>\n",
              "      <td>8.000000</td>\n",
              "      <td>8.000000</td>\n",
              "    </tr>\n",
              "    <tr>\n",
              "      <th>25%</th>\n",
              "      <td>23.000000</td>\n",
              "      <td>22.000000</td>\n",
              "    </tr>\n",
              "    <tr>\n",
              "      <th>50%</th>\n",
              "      <td>27.000000</td>\n",
              "      <td>26.000000</td>\n",
              "    </tr>\n",
              "    <tr>\n",
              "      <th>75%</th>\n",
              "      <td>30.000000</td>\n",
              "      <td>30.000000</td>\n",
              "    </tr>\n",
              "    <tr>\n",
              "      <th>max</th>\n",
              "      <td>47.000000</td>\n",
              "      <td>47.000000</td>\n",
              "    </tr>\n",
              "  </tbody>\n",
              "</table>\n",
              "</div>"
            ],
            "text/plain": [
              "                1Q           4Q\n",
              "count  2460.000000  2460.000000\n",
              "mean     26.532927    25.772764\n",
              "std       5.836192     5.912538\n",
              "min       8.000000     8.000000\n",
              "25%      23.000000    22.000000\n",
              "50%      27.000000    26.000000\n",
              "75%      30.000000    30.000000\n",
              "max      47.000000    47.000000"
            ]
          },
          "metadata": {
            "tags": []
          },
          "execution_count": 15
        }
      ]
    },
    {
      "cell_type": "code",
      "metadata": {
        "colab": {
          "base_uri": "https://localhost:8080/",
          "height": 288
        },
        "id": "sjZMqCqtAjzr",
        "outputId": "edd68998-328c-48d7-85ac-4c9157c73a83"
      },
      "source": [
        "#DataFrame.iloc\n",
        "#Access group of rows and columns by integer position(s).\n",
        "#取a陣列中第三行至第四行\n",
        "a.iloc[: , 3:5]"
      ],
      "execution_count": null,
      "outputs": [
        {
          "output_type": "execute_result",
          "data": {
            "text/html": [
              "<div>\n",
              "<style scoped>\n",
              "    .dataframe tbody tr th:only-of-type {\n",
              "        vertical-align: middle;\n",
              "    }\n",
              "\n",
              "    .dataframe tbody tr th {\n",
              "        vertical-align: top;\n",
              "    }\n",
              "\n",
              "    .dataframe thead th {\n",
              "        text-align: right;\n",
              "    }\n",
              "</style>\n",
              "<table border=\"1\" class=\"dataframe\">\n",
              "  <thead>\n",
              "    <tr style=\"text-align: right;\">\n",
              "      <th></th>\n",
              "      <th>W/L</th>\n",
              "      <th>DIFF</th>\n",
              "    </tr>\n",
              "  </thead>\n",
              "  <tbody>\n",
              "    <tr>\n",
              "      <th>count</th>\n",
              "      <td>2460.000000</td>\n",
              "      <td>2460.000000</td>\n",
              "    </tr>\n",
              "    <tr>\n",
              "      <th>mean</th>\n",
              "      <td>0.500000</td>\n",
              "      <td>0.000000</td>\n",
              "    </tr>\n",
              "    <tr>\n",
              "      <th>std</th>\n",
              "      <td>0.500102</td>\n",
              "      <td>14.041158</td>\n",
              "    </tr>\n",
              "    <tr>\n",
              "      <th>min</th>\n",
              "      <td>0.000000</td>\n",
              "      <td>-49.000000</td>\n",
              "    </tr>\n",
              "    <tr>\n",
              "      <th>25%</th>\n",
              "      <td>0.000000</td>\n",
              "      <td>-9.000000</td>\n",
              "    </tr>\n",
              "    <tr>\n",
              "      <th>50%</th>\n",
              "      <td>0.500000</td>\n",
              "      <td>0.000000</td>\n",
              "    </tr>\n",
              "    <tr>\n",
              "      <th>75%</th>\n",
              "      <td>1.000000</td>\n",
              "      <td>9.000000</td>\n",
              "    </tr>\n",
              "    <tr>\n",
              "      <th>max</th>\n",
              "      <td>1.000000</td>\n",
              "      <td>49.000000</td>\n",
              "    </tr>\n",
              "  </tbody>\n",
              "</table>\n",
              "</div>"
            ],
            "text/plain": [
              "               W/L         DIFF\n",
              "count  2460.000000  2460.000000\n",
              "mean      0.500000     0.000000\n",
              "std       0.500102    14.041158\n",
              "min       0.000000   -49.000000\n",
              "25%       0.000000    -9.000000\n",
              "50%       0.500000     0.000000\n",
              "75%       1.000000     9.000000\n",
              "max       1.000000    49.000000"
            ]
          },
          "metadata": {
            "tags": []
          },
          "execution_count": 16
        }
      ]
    },
    {
      "cell_type": "code",
      "metadata": {
        "colab": {
          "base_uri": "https://localhost:8080/",
          "height": 108
        },
        "id": "egLeJ2kXBM4w",
        "outputId": "3b715207-c503-42bd-a257-d26187660d3a"
      },
      "source": [
        "#取a陣列中第一行至第二行＆第五行至第六行\n",
        "a.iloc[1:3, 5:7]"
      ],
      "execution_count": null,
      "outputs": [
        {
          "output_type": "execute_result",
          "data": {
            "text/html": [
              "<div>\n",
              "<style scoped>\n",
              "    .dataframe tbody tr th:only-of-type {\n",
              "        vertical-align: middle;\n",
              "    }\n",
              "\n",
              "    .dataframe tbody tr th {\n",
              "        vertical-align: top;\n",
              "    }\n",
              "\n",
              "    .dataframe thead th {\n",
              "        text-align: right;\n",
              "    }\n",
              "</style>\n",
              "<table border=\"1\" class=\"dataframe\">\n",
              "  <thead>\n",
              "    <tr style=\"text-align: right;\">\n",
              "      <th></th>\n",
              "      <th>1Q</th>\n",
              "      <th>2Q</th>\n",
              "    </tr>\n",
              "  </thead>\n",
              "  <tbody>\n",
              "    <tr>\n",
              "      <th>mean</th>\n",
              "      <td>26.532927</td>\n",
              "      <td>26.54878</td>\n",
              "    </tr>\n",
              "    <tr>\n",
              "      <th>std</th>\n",
              "      <td>5.836192</td>\n",
              "      <td>5.77366</td>\n",
              "    </tr>\n",
              "  </tbody>\n",
              "</table>\n",
              "</div>"
            ],
            "text/plain": [
              "             1Q        2Q\n",
              "mean  26.532927  26.54878\n",
              "std    5.836192   5.77366"
            ]
          },
          "metadata": {
            "tags": []
          },
          "execution_count": 17
        }
      ]
    },
    {
      "cell_type": "markdown",
      "metadata": {
        "id": "mN4EtsAI13hY"
      },
      "source": [
        "# Exercise:請計算「2019STA.xlsx」檔案中小考及期中考的平均數與標準差\n"
      ]
    },
    {
      "cell_type": "code",
      "metadata": {
        "colab": {
          "base_uri": "https://localhost:8080/",
          "height": 288
        },
        "id": "hVh7f7NdxmX2",
        "outputId": "b96f4daf-ca9c-483d-9908-73440955bab8"
      },
      "source": [
        "data.describe()"
      ],
      "execution_count": null,
      "outputs": [
        {
          "output_type": "execute_result",
          "data": {
            "text/html": [
              "<div>\n",
              "<style scoped>\n",
              "    .dataframe tbody tr th:only-of-type {\n",
              "        vertical-align: middle;\n",
              "    }\n",
              "\n",
              "    .dataframe tbody tr th {\n",
              "        vertical-align: top;\n",
              "    }\n",
              "\n",
              "    .dataframe thead th {\n",
              "        text-align: right;\n",
              "    }\n",
              "</style>\n",
              "<table border=\"1\" class=\"dataframe\">\n",
              "  <thead>\n",
              "    <tr style=\"text-align: right;\">\n",
              "      <th></th>\n",
              "      <th>Quiz</th>\n",
              "      <th>Exam</th>\n",
              "    </tr>\n",
              "  </thead>\n",
              "  <tbody>\n",
              "    <tr>\n",
              "      <th>count</th>\n",
              "      <td>57.000000</td>\n",
              "      <td>57.000000</td>\n",
              "    </tr>\n",
              "    <tr>\n",
              "      <th>mean</th>\n",
              "      <td>62.157895</td>\n",
              "      <td>61.991228</td>\n",
              "    </tr>\n",
              "    <tr>\n",
              "      <th>std</th>\n",
              "      <td>24.400519</td>\n",
              "      <td>24.797302</td>\n",
              "    </tr>\n",
              "    <tr>\n",
              "      <th>min</th>\n",
              "      <td>8.000000</td>\n",
              "      <td>2.500000</td>\n",
              "    </tr>\n",
              "    <tr>\n",
              "      <th>25%</th>\n",
              "      <td>46.000000</td>\n",
              "      <td>42.000000</td>\n",
              "    </tr>\n",
              "    <tr>\n",
              "      <th>50%</th>\n",
              "      <td>69.000000</td>\n",
              "      <td>70.500000</td>\n",
              "    </tr>\n",
              "    <tr>\n",
              "      <th>75%</th>\n",
              "      <td>81.000000</td>\n",
              "      <td>79.500000</td>\n",
              "    </tr>\n",
              "    <tr>\n",
              "      <th>max</th>\n",
              "      <td>97.000000</td>\n",
              "      <td>100.000000</td>\n",
              "    </tr>\n",
              "  </tbody>\n",
              "</table>\n",
              "</div>"
            ],
            "text/plain": [
              "            Quiz        Exam\n",
              "count  57.000000   57.000000\n",
              "mean   62.157895   61.991228\n",
              "std    24.400519   24.797302\n",
              "min     8.000000    2.500000\n",
              "25%    46.000000   42.000000\n",
              "50%    69.000000   70.500000\n",
              "75%    81.000000   79.500000\n",
              "max    97.000000  100.000000"
            ]
          },
          "metadata": {
            "tags": []
          },
          "execution_count": 25
        }
      ]
    },
    {
      "cell_type": "code",
      "metadata": {
        "colab": {
          "base_uri": "https://localhost:8080/",
          "height": 108
        },
        "id": "bG_klppYxzxm",
        "outputId": "9aa23371-6168-4233-85e8-c99b9cf37e8e"
      },
      "source": [
        "data.describe().iloc[1:3, :]"
      ],
      "execution_count": null,
      "outputs": [
        {
          "output_type": "execute_result",
          "data": {
            "text/html": [
              "<div>\n",
              "<style scoped>\n",
              "    .dataframe tbody tr th:only-of-type {\n",
              "        vertical-align: middle;\n",
              "    }\n",
              "\n",
              "    .dataframe tbody tr th {\n",
              "        vertical-align: top;\n",
              "    }\n",
              "\n",
              "    .dataframe thead th {\n",
              "        text-align: right;\n",
              "    }\n",
              "</style>\n",
              "<table border=\"1\" class=\"dataframe\">\n",
              "  <thead>\n",
              "    <tr style=\"text-align: right;\">\n",
              "      <th></th>\n",
              "      <th>Quiz</th>\n",
              "      <th>Exam</th>\n",
              "    </tr>\n",
              "  </thead>\n",
              "  <tbody>\n",
              "    <tr>\n",
              "      <th>mean</th>\n",
              "      <td>62.157895</td>\n",
              "      <td>61.991228</td>\n",
              "    </tr>\n",
              "    <tr>\n",
              "      <th>std</th>\n",
              "      <td>24.400519</td>\n",
              "      <td>24.797302</td>\n",
              "    </tr>\n",
              "  </tbody>\n",
              "</table>\n",
              "</div>"
            ],
            "text/plain": [
              "           Quiz       Exam\n",
              "mean  62.157895  61.991228\n",
              "std   24.400519  24.797302"
            ]
          },
          "metadata": {
            "tags": []
          },
          "execution_count": 31
        }
      ]
    },
    {
      "cell_type": "markdown",
      "metadata": {
        "id": "vYO4sN34721I"
      },
      "source": [
        "# 單一類別資料分析：次數分配與相對次數分配"
      ]
    },
    {
      "cell_type": "code",
      "metadata": {
        "colab": {
          "base_uri": "https://localhost:8080/",
          "height": 138
        },
        "id": "ND6vuolQ8Aus",
        "outputId": "65794be7-6c48-4e68-ad9c-0ef045dc8a8b"
      },
      "source": [
        "#使用groupby將資料以主客場分組\n",
        "f=data.groupby('Gender')\n",
        "#用size()看f裡面每個組別內的大小\n",
        "percentage=f.size()/len(data)\n",
        "#將percentage做成dataframe形式，並將資料columns命名為Percentage_VENUE\n",
        "plist=pd.DataFrame(percentage,columns=[\"Percentage_VENUE\"])\n",
        "plist"
      ],
      "execution_count": null,
      "outputs": [
        {
          "output_type": "execute_result",
          "data": {
            "text/html": [
              "<div>\n",
              "<style scoped>\n",
              "    .dataframe tbody tr th:only-of-type {\n",
              "        vertical-align: middle;\n",
              "    }\n",
              "\n",
              "    .dataframe tbody tr th {\n",
              "        vertical-align: top;\n",
              "    }\n",
              "\n",
              "    .dataframe thead th {\n",
              "        text-align: right;\n",
              "    }\n",
              "</style>\n",
              "<table border=\"1\" class=\"dataframe\">\n",
              "  <thead>\n",
              "    <tr style=\"text-align: right;\">\n",
              "      <th></th>\n",
              "      <th>Percentage_VENUE</th>\n",
              "    </tr>\n",
              "    <tr>\n",
              "      <th>Gender</th>\n",
              "      <th></th>\n",
              "    </tr>\n",
              "  </thead>\n",
              "  <tbody>\n",
              "    <tr>\n",
              "      <th>F</th>\n",
              "      <td>0.473684</td>\n",
              "    </tr>\n",
              "    <tr>\n",
              "      <th>M</th>\n",
              "      <td>0.526316</td>\n",
              "    </tr>\n",
              "  </tbody>\n",
              "</table>\n",
              "</div>"
            ],
            "text/plain": [
              "        Percentage_VENUE\n",
              "Gender                  \n",
              "F               0.473684\n",
              "M               0.526316"
            ]
          },
          "metadata": {
            "tags": []
          },
          "execution_count": 59
        }
      ]
    },
    {
      "cell_type": "code",
      "metadata": {
        "colab": {
          "base_uri": "https://localhost:8080/",
          "height": 138
        },
        "id": "5k5G_BQYyjZH",
        "outputId": "96f97908-2c54-4050-ca75-b6220a058b45"
      },
      "source": [
        "f=data.groupby('H/R')\n",
        "#用size()看f裡面每個組別內的大小\n",
        "frequence=f.size()\n",
        "#將frequence做成dataframe形式，並將資料columns命名為Frequence_VENUE\n",
        "flist=pd.DataFrame(frequence,columns=[\"Frequence_VENUE\"])\n",
        "flist"
      ],
      "execution_count": null,
      "outputs": [
        {
          "output_type": "execute_result",
          "data": {
            "text/html": [
              "<div>\n",
              "<style scoped>\n",
              "    .dataframe tbody tr th:only-of-type {\n",
              "        vertical-align: middle;\n",
              "    }\n",
              "\n",
              "    .dataframe tbody tr th {\n",
              "        vertical-align: top;\n",
              "    }\n",
              "\n",
              "    .dataframe thead th {\n",
              "        text-align: right;\n",
              "    }\n",
              "</style>\n",
              "<table border=\"1\" class=\"dataframe\">\n",
              "  <thead>\n",
              "    <tr style=\"text-align: right;\">\n",
              "      <th></th>\n",
              "      <th>Frequence_VENUE</th>\n",
              "    </tr>\n",
              "    <tr>\n",
              "      <th>H/R</th>\n",
              "      <th></th>\n",
              "    </tr>\n",
              "  </thead>\n",
              "  <tbody>\n",
              "    <tr>\n",
              "      <th>1</th>\n",
              "      <td>1230</td>\n",
              "    </tr>\n",
              "    <tr>\n",
              "      <th>2</th>\n",
              "      <td>1230</td>\n",
              "    </tr>\n",
              "  </tbody>\n",
              "</table>\n",
              "</div>"
            ],
            "text/plain": [
              "     Frequence_VENUE\n",
              "H/R                 \n",
              "1               1230\n",
              "2               1230"
            ]
          },
          "metadata": {
            "tags": []
          },
          "execution_count": 28
        }
      ]
    },
    {
      "cell_type": "code",
      "metadata": {
        "colab": {
          "base_uri": "https://localhost:8080/",
          "height": 138
        },
        "id": "jyxdnceQ5TE9",
        "outputId": "67be4a4c-cc55-408c-acba-5b398c54ae7f"
      },
      "source": [
        "#利用merge功能合併flist與plist兩個陣列\n",
        "flist.merge(plist,on = 'H/R',how = 'inner')#內連線，取交集"
      ],
      "execution_count": null,
      "outputs": [
        {
          "output_type": "execute_result",
          "data": {
            "text/html": [
              "<div>\n",
              "<style scoped>\n",
              "    .dataframe tbody tr th:only-of-type {\n",
              "        vertical-align: middle;\n",
              "    }\n",
              "\n",
              "    .dataframe tbody tr th {\n",
              "        vertical-align: top;\n",
              "    }\n",
              "\n",
              "    .dataframe thead th {\n",
              "        text-align: right;\n",
              "    }\n",
              "</style>\n",
              "<table border=\"1\" class=\"dataframe\">\n",
              "  <thead>\n",
              "    <tr style=\"text-align: right;\">\n",
              "      <th></th>\n",
              "      <th>Frequence_VENUE</th>\n",
              "      <th>Percentage_VENUE</th>\n",
              "    </tr>\n",
              "    <tr>\n",
              "      <th>H/R</th>\n",
              "      <th></th>\n",
              "      <th></th>\n",
              "    </tr>\n",
              "  </thead>\n",
              "  <tbody>\n",
              "    <tr>\n",
              "      <th>1</th>\n",
              "      <td>1230</td>\n",
              "      <td>0.5</td>\n",
              "    </tr>\n",
              "    <tr>\n",
              "      <th>2</th>\n",
              "      <td>1230</td>\n",
              "      <td>0.5</td>\n",
              "    </tr>\n",
              "  </tbody>\n",
              "</table>\n",
              "</div>"
            ],
            "text/plain": [
              "     Frequence_VENUE  Percentage_VENUE\n",
              "H/R                                   \n",
              "1               1230               0.5\n",
              "2               1230               0.5"
            ]
          },
          "metadata": {
            "tags": []
          },
          "execution_count": 31
        }
      ]
    },
    {
      "cell_type": "markdown",
      "metadata": {
        "id": "ps0GqnhLIGrA"
      },
      "source": [
        "# Exercise:請計算「2019STA.xlsx」檔案中男女生比例"
      ]
    },
    {
      "cell_type": "code",
      "metadata": {
        "colab": {
          "base_uri": "https://localhost:8080/",
          "height": 1000
        },
        "id": "f66RNTbH2jI-",
        "outputId": "43191092-753b-4b65-f99f-82f2e00eaa6e"
      },
      "source": [
        "data"
      ],
      "execution_count": null,
      "outputs": [
        {
          "output_type": "execute_result",
          "data": {
            "text/html": [
              "<div>\n",
              "<style scoped>\n",
              "    .dataframe tbody tr th:only-of-type {\n",
              "        vertical-align: middle;\n",
              "    }\n",
              "\n",
              "    .dataframe tbody tr th {\n",
              "        vertical-align: top;\n",
              "    }\n",
              "\n",
              "    .dataframe thead th {\n",
              "        text-align: right;\n",
              "    }\n",
              "</style>\n",
              "<table border=\"1\" class=\"dataframe\">\n",
              "  <thead>\n",
              "    <tr style=\"text-align: right;\">\n",
              "      <th></th>\n",
              "      <th>Department</th>\n",
              "      <th>Grade</th>\n",
              "      <th>Gender</th>\n",
              "      <th>Quiz</th>\n",
              "      <th>Exam</th>\n",
              "    </tr>\n",
              "  </thead>\n",
              "  <tbody>\n",
              "    <tr>\n",
              "      <th>0</th>\n",
              "      <td>BA</td>\n",
              "      <td>一A</td>\n",
              "      <td>M</td>\n",
              "      <td>81</td>\n",
              "      <td>72.0</td>\n",
              "    </tr>\n",
              "    <tr>\n",
              "      <th>1</th>\n",
              "      <td>BA</td>\n",
              "      <td>一A</td>\n",
              "      <td>M</td>\n",
              "      <td>80</td>\n",
              "      <td>87.5</td>\n",
              "    </tr>\n",
              "    <tr>\n",
              "      <th>2</th>\n",
              "      <td>BA</td>\n",
              "      <td>一A</td>\n",
              "      <td>M</td>\n",
              "      <td>69</td>\n",
              "      <td>74.0</td>\n",
              "    </tr>\n",
              "    <tr>\n",
              "      <th>3</th>\n",
              "      <td>BA</td>\n",
              "      <td>一A</td>\n",
              "      <td>F</td>\n",
              "      <td>58</td>\n",
              "      <td>52.0</td>\n",
              "    </tr>\n",
              "    <tr>\n",
              "      <th>4</th>\n",
              "      <td>BA</td>\n",
              "      <td>一A</td>\n",
              "      <td>M</td>\n",
              "      <td>82</td>\n",
              "      <td>76.0</td>\n",
              "    </tr>\n",
              "    <tr>\n",
              "      <th>5</th>\n",
              "      <td>BA</td>\n",
              "      <td>一A</td>\n",
              "      <td>F</td>\n",
              "      <td>81</td>\n",
              "      <td>69.5</td>\n",
              "    </tr>\n",
              "    <tr>\n",
              "      <th>6</th>\n",
              "      <td>BA</td>\n",
              "      <td>一A</td>\n",
              "      <td>F</td>\n",
              "      <td>87</td>\n",
              "      <td>92.0</td>\n",
              "    </tr>\n",
              "    <tr>\n",
              "      <th>7</th>\n",
              "      <td>BA</td>\n",
              "      <td>一A</td>\n",
              "      <td>F</td>\n",
              "      <td>95</td>\n",
              "      <td>100.0</td>\n",
              "    </tr>\n",
              "    <tr>\n",
              "      <th>8</th>\n",
              "      <td>BA</td>\n",
              "      <td>一A</td>\n",
              "      <td>M</td>\n",
              "      <td>69</td>\n",
              "      <td>71.5</td>\n",
              "    </tr>\n",
              "    <tr>\n",
              "      <th>9</th>\n",
              "      <td>BA</td>\n",
              "      <td>一A</td>\n",
              "      <td>F</td>\n",
              "      <td>83</td>\n",
              "      <td>86.0</td>\n",
              "    </tr>\n",
              "    <tr>\n",
              "      <th>10</th>\n",
              "      <td>BA</td>\n",
              "      <td>一A</td>\n",
              "      <td>F</td>\n",
              "      <td>77</td>\n",
              "      <td>77.0</td>\n",
              "    </tr>\n",
              "    <tr>\n",
              "      <th>11</th>\n",
              "      <td>BA</td>\n",
              "      <td>一A</td>\n",
              "      <td>M</td>\n",
              "      <td>54</td>\n",
              "      <td>54.0</td>\n",
              "    </tr>\n",
              "    <tr>\n",
              "      <th>12</th>\n",
              "      <td>BA</td>\n",
              "      <td>一A</td>\n",
              "      <td>M</td>\n",
              "      <td>83</td>\n",
              "      <td>75.0</td>\n",
              "    </tr>\n",
              "    <tr>\n",
              "      <th>13</th>\n",
              "      <td>BA</td>\n",
              "      <td>一A</td>\n",
              "      <td>M</td>\n",
              "      <td>72</td>\n",
              "      <td>66.0</td>\n",
              "    </tr>\n",
              "    <tr>\n",
              "      <th>14</th>\n",
              "      <td>BA</td>\n",
              "      <td>一A</td>\n",
              "      <td>M</td>\n",
              "      <td>91</td>\n",
              "      <td>93.0</td>\n",
              "    </tr>\n",
              "    <tr>\n",
              "      <th>15</th>\n",
              "      <td>BA</td>\n",
              "      <td>一A</td>\n",
              "      <td>F</td>\n",
              "      <td>67</td>\n",
              "      <td>73.5</td>\n",
              "    </tr>\n",
              "    <tr>\n",
              "      <th>16</th>\n",
              "      <td>BA</td>\n",
              "      <td>一A</td>\n",
              "      <td>M</td>\n",
              "      <td>67</td>\n",
              "      <td>69.5</td>\n",
              "    </tr>\n",
              "    <tr>\n",
              "      <th>17</th>\n",
              "      <td>BA</td>\n",
              "      <td>一A</td>\n",
              "      <td>F</td>\n",
              "      <td>70</td>\n",
              "      <td>79.5</td>\n",
              "    </tr>\n",
              "    <tr>\n",
              "      <th>18</th>\n",
              "      <td>BA</td>\n",
              "      <td>一A</td>\n",
              "      <td>M</td>\n",
              "      <td>42</td>\n",
              "      <td>34.5</td>\n",
              "    </tr>\n",
              "    <tr>\n",
              "      <th>19</th>\n",
              "      <td>BA</td>\n",
              "      <td>一A</td>\n",
              "      <td>F</td>\n",
              "      <td>76</td>\n",
              "      <td>41.0</td>\n",
              "    </tr>\n",
              "    <tr>\n",
              "      <th>20</th>\n",
              "      <td>BA</td>\n",
              "      <td>一A</td>\n",
              "      <td>M</td>\n",
              "      <td>64</td>\n",
              "      <td>76.0</td>\n",
              "    </tr>\n",
              "    <tr>\n",
              "      <th>21</th>\n",
              "      <td>BA</td>\n",
              "      <td>一A</td>\n",
              "      <td>F</td>\n",
              "      <td>80</td>\n",
              "      <td>75.0</td>\n",
              "    </tr>\n",
              "    <tr>\n",
              "      <th>22</th>\n",
              "      <td>BA</td>\n",
              "      <td>一A</td>\n",
              "      <td>M</td>\n",
              "      <td>22</td>\n",
              "      <td>39.5</td>\n",
              "    </tr>\n",
              "    <tr>\n",
              "      <th>23</th>\n",
              "      <td>BA</td>\n",
              "      <td>一A</td>\n",
              "      <td>F</td>\n",
              "      <td>49</td>\n",
              "      <td>49.0</td>\n",
              "    </tr>\n",
              "    <tr>\n",
              "      <th>24</th>\n",
              "      <td>BA</td>\n",
              "      <td>一A</td>\n",
              "      <td>M</td>\n",
              "      <td>46</td>\n",
              "      <td>57.0</td>\n",
              "    </tr>\n",
              "    <tr>\n",
              "      <th>25</th>\n",
              "      <td>BA</td>\n",
              "      <td>一A</td>\n",
              "      <td>M</td>\n",
              "      <td>73</td>\n",
              "      <td>72.0</td>\n",
              "    </tr>\n",
              "    <tr>\n",
              "      <th>26</th>\n",
              "      <td>BA</td>\n",
              "      <td>一A</td>\n",
              "      <td>M</td>\n",
              "      <td>53</td>\n",
              "      <td>54.0</td>\n",
              "    </tr>\n",
              "    <tr>\n",
              "      <th>27</th>\n",
              "      <td>BA</td>\n",
              "      <td>一A</td>\n",
              "      <td>F</td>\n",
              "      <td>34</td>\n",
              "      <td>28.5</td>\n",
              "    </tr>\n",
              "    <tr>\n",
              "      <th>28</th>\n",
              "      <td>BA</td>\n",
              "      <td>一A</td>\n",
              "      <td>M</td>\n",
              "      <td>57</td>\n",
              "      <td>50.5</td>\n",
              "    </tr>\n",
              "    <tr>\n",
              "      <th>29</th>\n",
              "      <td>BA</td>\n",
              "      <td>一A</td>\n",
              "      <td>M</td>\n",
              "      <td>69</td>\n",
              "      <td>42.0</td>\n",
              "    </tr>\n",
              "    <tr>\n",
              "      <th>30</th>\n",
              "      <td>BA</td>\n",
              "      <td>一A</td>\n",
              "      <td>M</td>\n",
              "      <td>20</td>\n",
              "      <td>18.0</td>\n",
              "    </tr>\n",
              "    <tr>\n",
              "      <th>31</th>\n",
              "      <td>BA</td>\n",
              "      <td>一A</td>\n",
              "      <td>F</td>\n",
              "      <td>42</td>\n",
              "      <td>51.5</td>\n",
              "    </tr>\n",
              "    <tr>\n",
              "      <th>32</th>\n",
              "      <td>BA</td>\n",
              "      <td>一A</td>\n",
              "      <td>M</td>\n",
              "      <td>40</td>\n",
              "      <td>28.0</td>\n",
              "    </tr>\n",
              "    <tr>\n",
              "      <th>33</th>\n",
              "      <td>BA</td>\n",
              "      <td>一A</td>\n",
              "      <td>M</td>\n",
              "      <td>18</td>\n",
              "      <td>29.0</td>\n",
              "    </tr>\n",
              "    <tr>\n",
              "      <th>34</th>\n",
              "      <td>BA</td>\n",
              "      <td>一A</td>\n",
              "      <td>F</td>\n",
              "      <td>81</td>\n",
              "      <td>84.5</td>\n",
              "    </tr>\n",
              "    <tr>\n",
              "      <th>35</th>\n",
              "      <td>BA</td>\n",
              "      <td>一A</td>\n",
              "      <td>M</td>\n",
              "      <td>69</td>\n",
              "      <td>70.5</td>\n",
              "    </tr>\n",
              "    <tr>\n",
              "      <th>36</th>\n",
              "      <td>BA</td>\n",
              "      <td>一A</td>\n",
              "      <td>M</td>\n",
              "      <td>12</td>\n",
              "      <td>15.5</td>\n",
              "    </tr>\n",
              "    <tr>\n",
              "      <th>37</th>\n",
              "      <td>BA</td>\n",
              "      <td>一A</td>\n",
              "      <td>M</td>\n",
              "      <td>8</td>\n",
              "      <td>2.5</td>\n",
              "    </tr>\n",
              "    <tr>\n",
              "      <th>38</th>\n",
              "      <td>BA</td>\n",
              "      <td>一A</td>\n",
              "      <td>M</td>\n",
              "      <td>20</td>\n",
              "      <td>12.5</td>\n",
              "    </tr>\n",
              "    <tr>\n",
              "      <th>39</th>\n",
              "      <td>BA</td>\n",
              "      <td>三A</td>\n",
              "      <td>F</td>\n",
              "      <td>60</td>\n",
              "      <td>45.5</td>\n",
              "    </tr>\n",
              "    <tr>\n",
              "      <th>40</th>\n",
              "      <td>BA</td>\n",
              "      <td>三A</td>\n",
              "      <td>M</td>\n",
              "      <td>12</td>\n",
              "      <td>25.0</td>\n",
              "    </tr>\n",
              "    <tr>\n",
              "      <th>41</th>\n",
              "      <td>BA</td>\n",
              "      <td>三A</td>\n",
              "      <td>M</td>\n",
              "      <td>48</td>\n",
              "      <td>42.0</td>\n",
              "    </tr>\n",
              "    <tr>\n",
              "      <th>42</th>\n",
              "      <td>BA</td>\n",
              "      <td>三A</td>\n",
              "      <td>M</td>\n",
              "      <td>24</td>\n",
              "      <td>35.0</td>\n",
              "    </tr>\n",
              "    <tr>\n",
              "      <th>43</th>\n",
              "      <td>FM</td>\n",
              "      <td>一A</td>\n",
              "      <td>F</td>\n",
              "      <td>79</td>\n",
              "      <td>97.0</td>\n",
              "    </tr>\n",
              "    <tr>\n",
              "      <th>44</th>\n",
              "      <td>FM</td>\n",
              "      <td>一A</td>\n",
              "      <td>F</td>\n",
              "      <td>36</td>\n",
              "      <td>37.0</td>\n",
              "    </tr>\n",
              "    <tr>\n",
              "      <th>45</th>\n",
              "      <td>FM</td>\n",
              "      <td>一A</td>\n",
              "      <td>M</td>\n",
              "      <td>80</td>\n",
              "      <td>84.5</td>\n",
              "    </tr>\n",
              "    <tr>\n",
              "      <th>46</th>\n",
              "      <td>FM</td>\n",
              "      <td>一A</td>\n",
              "      <td>F</td>\n",
              "      <td>85</td>\n",
              "      <td>87.0</td>\n",
              "    </tr>\n",
              "    <tr>\n",
              "      <th>47</th>\n",
              "      <td>FM</td>\n",
              "      <td>一A</td>\n",
              "      <td>F</td>\n",
              "      <td>56</td>\n",
              "      <td>73.5</td>\n",
              "    </tr>\n",
              "    <tr>\n",
              "      <th>48</th>\n",
              "      <td>FM</td>\n",
              "      <td>一A</td>\n",
              "      <td>F</td>\n",
              "      <td>38</td>\n",
              "      <td>36.0</td>\n",
              "    </tr>\n",
              "    <tr>\n",
              "      <th>49</th>\n",
              "      <td>FM</td>\n",
              "      <td>二A</td>\n",
              "      <td>F</td>\n",
              "      <td>87</td>\n",
              "      <td>84.5</td>\n",
              "    </tr>\n",
              "    <tr>\n",
              "      <th>50</th>\n",
              "      <td>FM</td>\n",
              "      <td>二A</td>\n",
              "      <td>F</td>\n",
              "      <td>91</td>\n",
              "      <td>75.5</td>\n",
              "    </tr>\n",
              "    <tr>\n",
              "      <th>51</th>\n",
              "      <td>FM</td>\n",
              "      <td>二A</td>\n",
              "      <td>M</td>\n",
              "      <td>97</td>\n",
              "      <td>98.0</td>\n",
              "    </tr>\n",
              "    <tr>\n",
              "      <th>52</th>\n",
              "      <td>FM</td>\n",
              "      <td>二A</td>\n",
              "      <td>F</td>\n",
              "      <td>79</td>\n",
              "      <td>75.5</td>\n",
              "    </tr>\n",
              "    <tr>\n",
              "      <th>53</th>\n",
              "      <td>FM</td>\n",
              "      <td>二A</td>\n",
              "      <td>F</td>\n",
              "      <td>87</td>\n",
              "      <td>93.0</td>\n",
              "    </tr>\n",
              "    <tr>\n",
              "      <th>54</th>\n",
              "      <td>FM</td>\n",
              "      <td>二A</td>\n",
              "      <td>F</td>\n",
              "      <td>96</td>\n",
              "      <td>94.0</td>\n",
              "    </tr>\n",
              "    <tr>\n",
              "      <th>55</th>\n",
              "      <td>FM</td>\n",
              "      <td>二A</td>\n",
              "      <td>F</td>\n",
              "      <td>79</td>\n",
              "      <td>81.0</td>\n",
              "    </tr>\n",
              "    <tr>\n",
              "      <th>56</th>\n",
              "      <td>FM</td>\n",
              "      <td>二A</td>\n",
              "      <td>F</td>\n",
              "      <td>68</td>\n",
              "      <td>70.5</td>\n",
              "    </tr>\n",
              "  </tbody>\n",
              "</table>\n",
              "</div>"
            ],
            "text/plain": [
              "   Department Grade Gender  Quiz   Exam\n",
              "0          BA    一A      M    81   72.0\n",
              "1          BA    一A      M    80   87.5\n",
              "2          BA    一A      M    69   74.0\n",
              "3          BA    一A      F    58   52.0\n",
              "4          BA    一A      M    82   76.0\n",
              "5          BA    一A      F    81   69.5\n",
              "6          BA    一A      F    87   92.0\n",
              "7          BA    一A      F    95  100.0\n",
              "8          BA    一A      M    69   71.5\n",
              "9          BA    一A      F    83   86.0\n",
              "10         BA    一A      F    77   77.0\n",
              "11         BA    一A      M    54   54.0\n",
              "12         BA    一A      M    83   75.0\n",
              "13         BA    一A      M    72   66.0\n",
              "14         BA    一A      M    91   93.0\n",
              "15         BA    一A      F    67   73.5\n",
              "16         BA    一A      M    67   69.5\n",
              "17         BA    一A      F    70   79.5\n",
              "18         BA    一A      M    42   34.5\n",
              "19         BA    一A      F    76   41.0\n",
              "20         BA    一A      M    64   76.0\n",
              "21         BA    一A      F    80   75.0\n",
              "22         BA    一A      M    22   39.5\n",
              "23         BA    一A      F    49   49.0\n",
              "24         BA    一A      M    46   57.0\n",
              "25         BA    一A      M    73   72.0\n",
              "26         BA    一A      M    53   54.0\n",
              "27         BA    一A      F    34   28.5\n",
              "28         BA    一A      M    57   50.5\n",
              "29         BA    一A      M    69   42.0\n",
              "30         BA    一A      M    20   18.0\n",
              "31         BA    一A      F    42   51.5\n",
              "32         BA    一A      M    40   28.0\n",
              "33         BA    一A      M    18   29.0\n",
              "34         BA    一A      F    81   84.5\n",
              "35         BA    一A      M    69   70.5\n",
              "36         BA    一A      M    12   15.5\n",
              "37         BA    一A      M     8    2.5\n",
              "38         BA    一A      M    20   12.5\n",
              "39         BA    三A      F    60   45.5\n",
              "40         BA    三A      M    12   25.0\n",
              "41         BA    三A      M    48   42.0\n",
              "42         BA    三A      M    24   35.0\n",
              "43         FM    一A      F    79   97.0\n",
              "44         FM    一A      F    36   37.0\n",
              "45         FM    一A      M    80   84.5\n",
              "46         FM    一A      F    85   87.0\n",
              "47         FM    一A      F    56   73.5\n",
              "48         FM    一A      F    38   36.0\n",
              "49         FM    二A      F    87   84.5\n",
              "50         FM    二A      F    91   75.5\n",
              "51         FM    二A      M    97   98.0\n",
              "52         FM    二A      F    79   75.5\n",
              "53         FM    二A      F    87   93.0\n",
              "54         FM    二A      F    96   94.0\n",
              "55         FM    二A      F    79   81.0\n",
              "56         FM    二A      F    68   70.5"
            ]
          },
          "metadata": {
            "tags": []
          },
          "execution_count": 48
        }
      ]
    },
    {
      "cell_type": "code",
      "metadata": {
        "colab": {
          "base_uri": "https://localhost:8080/",
          "height": 138
        },
        "id": "ZGJuKotH3O9m",
        "outputId": "555327f2-1a81-486c-fc76-806d0eae45b0"
      },
      "source": [
        "#使用groupby將資料以主客場分組\n",
        "f=data.groupby('Gender')\n",
        "#用size()看f裡面每個組別內的大小\n",
        "percentage=f.size()/len(data)\n",
        "#將percentage做成dataframe形式，並將資料columns命名為Percentage_VENUE\n",
        "plist=pd.DataFrame(percentage,columns=[\"Percentage_ClassGender\"])\n",
        "plist"
      ],
      "execution_count": null,
      "outputs": [
        {
          "output_type": "execute_result",
          "data": {
            "text/html": [
              "<div>\n",
              "<style scoped>\n",
              "    .dataframe tbody tr th:only-of-type {\n",
              "        vertical-align: middle;\n",
              "    }\n",
              "\n",
              "    .dataframe tbody tr th {\n",
              "        vertical-align: top;\n",
              "    }\n",
              "\n",
              "    .dataframe thead th {\n",
              "        text-align: right;\n",
              "    }\n",
              "</style>\n",
              "<table border=\"1\" class=\"dataframe\">\n",
              "  <thead>\n",
              "    <tr style=\"text-align: right;\">\n",
              "      <th></th>\n",
              "      <th>Percentage_ClassGender</th>\n",
              "    </tr>\n",
              "    <tr>\n",
              "      <th>Gender</th>\n",
              "      <th></th>\n",
              "    </tr>\n",
              "  </thead>\n",
              "  <tbody>\n",
              "    <tr>\n",
              "      <th>F</th>\n",
              "      <td>0.473684</td>\n",
              "    </tr>\n",
              "    <tr>\n",
              "      <th>M</th>\n",
              "      <td>0.526316</td>\n",
              "    </tr>\n",
              "  </tbody>\n",
              "</table>\n",
              "</div>"
            ],
            "text/plain": [
              "        Percentage_ClassGender\n",
              "Gender                        \n",
              "F                     0.473684\n",
              "M                     0.526316"
            ]
          },
          "metadata": {
            "tags": []
          },
          "execution_count": 62
        }
      ]
    },
    {
      "cell_type": "markdown",
      "metadata": {
        "id": "t-1aW75q_sRR"
      },
      "source": [
        "# 兩屬量變數分析：相關分析"
      ]
    },
    {
      "cell_type": "code",
      "metadata": {
        "id": "jHB_Ui8m-Vo4"
      },
      "source": [
        "#利用numpy之相關性corr相關分析的語法\n",
        "import numpy as np\n",
        "np.corrcoef(data[\"3P\"],data[\"PTS\"])"
      ],
      "execution_count": null,
      "outputs": []
    },
    {
      "cell_type": "code",
      "metadata": {
        "id": "VPvAsUfREfLl"
      },
      "source": [
        "#同時想一次進行很多變數的相關分析\n",
        "#量的資料\n",
        "qu=['DIFF', '1Q',\n",
        "       '2Q', '3Q', '4Q', 'F', 'MIN', 'FG', 'FGA', '3P', '3PA', 'FT', 'FTA',\n",
        "       'OR', 'ORR', 'DRR', 'FT%', 'TOV%', 'EFG%', 'DRB%', 'ORB%', 'DR', 'TOT',\n",
        "       'A', 'PF', 'ST', 'TO', 'BL', 'PTS', 'POSS', 'PACE', 'OEFF', 'DEFF',\n",
        "       'REST DAYS', 'OPENING ODDS', 'SPREAD']\n",
        "len(qu)"
      ],
      "execution_count": null,
      "outputs": []
    },
    {
      "cell_type": "code",
      "metadata": {
        "id": "n9NGh3KEEnVe"
      },
      "source": [
        "#利用scipy之相關性corr相關分析的語法\n",
        "#皮爾森相關分析(量*量)\n",
        "from scipy import stats\n",
        "name=[]\n",
        "alist=[]\n",
        "for i in range(len(qu)):\n",
        "  #取qu變數與PTS做皮爾森相關分析，a為相關係數\n",
        "  (a,pv)=stats.pearsonr(data['PTS'],data[qu[i]]) \n",
        "  name.append(qu[i])\n",
        "  alist.append(a)"
      ],
      "execution_count": null,
      "outputs": []
    },
    {
      "cell_type": "code",
      "metadata": {
        "id": "LQ1pQ2-1Es0O"
      },
      "source": [
        "#資料結構以DataFrame顯示 \n",
        "#語法:pd.DataFrame(資料,index名稱,columns名稱)\n",
        "result=pd.DataFrame(alist,name,columns=['r'])\n",
        "result"
      ],
      "execution_count": null,
      "outputs": []
    },
    {
      "cell_type": "markdown",
      "metadata": {
        "id": "3WbOJ_MoIvC6"
      },
      "source": [
        "# Exercise:請計算「2019STA.xlsx」檔案中小考與期中考之相關性"
      ]
    },
    {
      "cell_type": "code",
      "metadata": {
        "colab": {
          "base_uri": "https://localhost:8080/",
          "height": 106
        },
        "id": "AMXdMCimp8fJ",
        "outputId": "9c788350-d728-494f-b634-3ca794d31147"
      },
      "source": [
        "import numpy as np\n",
        "np.corrcoef(data[\"Quiz\"],data[\"Exam\"])\n",
        "qu=['Quiz','Exam']\n",
        "len(qu)\n",
        "from scipy import stats\n",
        "name=[]\n",
        "alist=[]\n",
        "for i in range(len(qu)):\n",
        "  #取qu變數與PTS做皮爾森相關分析，a為相關係數\n",
        "  (a,pv)=stats.pearsonr(data['Exam'],data[qu[i]]) \n",
        "  name.append(qu[i])\n",
        "  alist.append(a)\n",
        "result=pd.DataFrame(alist,name,columns=[''])\n",
        "result\n"
      ],
      "execution_count": null,
      "outputs": [
        {
          "output_type": "execute_result",
          "data": {
            "text/html": [
              "<div>\n",
              "<style scoped>\n",
              "    .dataframe tbody tr th:only-of-type {\n",
              "        vertical-align: middle;\n",
              "    }\n",
              "\n",
              "    .dataframe tbody tr th {\n",
              "        vertical-align: top;\n",
              "    }\n",
              "\n",
              "    .dataframe thead th {\n",
              "        text-align: right;\n",
              "    }\n",
              "</style>\n",
              "<table border=\"1\" class=\"dataframe\">\n",
              "  <thead>\n",
              "    <tr style=\"text-align: right;\">\n",
              "      <th></th>\n",
              "      <th>ojinjin</th>\n",
              "    </tr>\n",
              "  </thead>\n",
              "  <tbody>\n",
              "    <tr>\n",
              "      <th>Quiz</th>\n",
              "      <td>0.921447</td>\n",
              "    </tr>\n",
              "    <tr>\n",
              "      <th>Exam</th>\n",
              "      <td>1.000000</td>\n",
              "    </tr>\n",
              "  </tbody>\n",
              "</table>\n",
              "</div>"
            ],
            "text/plain": [
              "       ojinjin\n",
              "Quiz  0.921447\n",
              "Exam  1.000000"
            ]
          },
          "metadata": {
            "tags": []
          },
          "execution_count": 20
        }
      ]
    },
    {
      "cell_type": "markdown",
      "metadata": {
        "id": "OMG55MVVJOBO"
      },
      "source": [
        "# 兩類別變數分析：交叉分析"
      ]
    },
    {
      "cell_type": "code",
      "metadata": {
        "id": "woTHfDesJbIe"
      },
      "source": [
        "#語法:pd.crosstab(rows,columns,margins=True)，margins=True表顯示all，False或不命令margins則不顯示\n",
        "pd.crosstab(data[\"W/L\"],data[\"REST DAYS\"],margins=True) "
      ],
      "execution_count": null,
      "outputs": []
    },
    {
      "cell_type": "code",
      "metadata": {
        "id": "Wqmd_LaZKbAg"
      },
      "source": [
        "#normalize=True是指每個cell除以總數所得的比例;normalize=0是指每個cell除以列的總數所得的比例;normalize=1是指每個cell除以行的總數所得的比例;\n",
        "pd.crosstab(data[\"W/L\"],data[\"REST DAYS\"],margins=True, normalize=1) "
      ],
      "execution_count": null,
      "outputs": []
    },
    {
      "cell_type": "code",
      "metadata": {
        "id": "VPTyBrvmLAnd"
      },
      "source": [
        "#利用groupby功能計算各球隊在不同休息天數下勝場數之差異\n",
        "a=data.groupby(['TEAMS','REST DAYS']).sum()\n",
        "a[[\"W/L\"]]"
      ],
      "execution_count": null,
      "outputs": []
    },
    {
      "cell_type": "markdown",
      "metadata": {
        "id": "FByQAqDKM3s_"
      },
      "source": [
        "# Exercise:請針對「2019STA.xlsx」檔案中的班級與性別進行交叉分析"
      ]
    },
    {
      "cell_type": "code",
      "metadata": {
        "colab": {
          "base_uri": "https://localhost:8080/",
          "height": 254
        },
        "id": "cJd-It78ylCG",
        "outputId": "e5721ffa-67cf-4aff-f4e3-4be67f365857"
      },
      "source": [
        "pd.crosstab(data[\"Exam\"],data[\"Quiz\"],margins=True) \n",
        "a=data.groupby(['Grade','Gender']).sum()\n",
        "a[[\"Exam\"]]"
      ],
      "execution_count": null,
      "outputs": [
        {
          "output_type": "execute_result",
          "data": {
            "text/html": [
              "<div>\n",
              "<style scoped>\n",
              "    .dataframe tbody tr th:only-of-type {\n",
              "        vertical-align: middle;\n",
              "    }\n",
              "\n",
              "    .dataframe tbody tr th {\n",
              "        vertical-align: top;\n",
              "    }\n",
              "\n",
              "    .dataframe thead th {\n",
              "        text-align: right;\n",
              "    }\n",
              "</style>\n",
              "<table border=\"1\" class=\"dataframe\">\n",
              "  <thead>\n",
              "    <tr style=\"text-align: right;\">\n",
              "      <th></th>\n",
              "      <th></th>\n",
              "      <th>Exam</th>\n",
              "    </tr>\n",
              "    <tr>\n",
              "      <th>Grade</th>\n",
              "      <th>Gender</th>\n",
              "      <th></th>\n",
              "    </tr>\n",
              "  </thead>\n",
              "  <tbody>\n",
              "    <tr>\n",
              "      <th rowspan=\"2\" valign=\"top\">一A</th>\n",
              "      <th>F</th>\n",
              "      <td>1289.5</td>\n",
              "    </tr>\n",
              "    <tr>\n",
              "      <th>M</th>\n",
              "      <td>1424.5</td>\n",
              "    </tr>\n",
              "    <tr>\n",
              "      <th rowspan=\"2\" valign=\"top\">三A</th>\n",
              "      <th>F</th>\n",
              "      <td>45.5</td>\n",
              "    </tr>\n",
              "    <tr>\n",
              "      <th>M</th>\n",
              "      <td>102.0</td>\n",
              "    </tr>\n",
              "    <tr>\n",
              "      <th rowspan=\"2\" valign=\"top\">二A</th>\n",
              "      <th>F</th>\n",
              "      <td>574.0</td>\n",
              "    </tr>\n",
              "    <tr>\n",
              "      <th>M</th>\n",
              "      <td>98.0</td>\n",
              "    </tr>\n",
              "  </tbody>\n",
              "</table>\n",
              "</div>"
            ],
            "text/plain": [
              "                Exam\n",
              "Grade Gender        \n",
              "一A    F       1289.5\n",
              "      M       1424.5\n",
              "三A    F         45.5\n",
              "      M        102.0\n",
              "二A    F        574.0\n",
              "      M         98.0"
            ]
          },
          "metadata": {
            "tags": []
          },
          "execution_count": 32
        }
      ]
    },
    {
      "cell_type": "markdown",
      "metadata": {
        "id": "3KEdcllKNoZr"
      },
      "source": [
        "# 兩變數：類別＊屬量變數分析：平均數之比較分析"
      ]
    },
    {
      "cell_type": "code",
      "metadata": {
        "id": "coeCmabsOBPm"
      },
      "source": [
        "#利用groupby進行分群計算平均數\n",
        "a=data.groupby('W/L').mean()\n",
        "a[[\"PTS\"]]"
      ],
      "execution_count": null,
      "outputs": []
    },
    {
      "cell_type": "code",
      "metadata": {
        "id": "Pfgky9abPVzR"
      },
      "source": [
        "#利用groupby進行分群計算描述性統計量\n",
        "a=data.groupby('W/L').describe()\n",
        "a[[\"PTS\"]]"
      ],
      "execution_count": null,
      "outputs": []
    },
    {
      "cell_type": "code",
      "metadata": {
        "id": "qwhEmJovQGVb"
      },
      "source": [
        "#利用groupby進行分群計算東西區、主客場之平均數\n",
        "a=data.groupby(['W/E','H/R']).mean()\n",
        "a[['PTS','TO','1Q','2Q','3Q','4Q']]"
      ],
      "execution_count": null,
      "outputs": []
    },
    {
      "cell_type": "markdown",
      "metadata": {
        "id": "AD-RhAUuQ2Yo"
      },
      "source": [
        "# Exercise:請針對「2019STA.xlsx」檔案中計算不同班級與不同性別之平均成績"
      ]
    },
    {
      "cell_type": "code",
      "metadata": {
        "colab": {
          "base_uri": "https://localhost:8080/",
          "height": 254
        },
        "id": "y2map21u193l",
        "outputId": "dd0f5b38-ead9-469e-e70b-ea96c652990e"
      },
      "source": [
        "a=data.groupby(['Grade','Gender']).mean()\n",
        "a[[\"Quiz\",\"Exam\"]]"
      ],
      "execution_count": null,
      "outputs": [
        {
          "output_type": "execute_result",
          "data": {
            "text/html": [
              "<div>\n",
              "<style scoped>\n",
              "    .dataframe tbody tr th:only-of-type {\n",
              "        vertical-align: middle;\n",
              "    }\n",
              "\n",
              "    .dataframe tbody tr th {\n",
              "        vertical-align: top;\n",
              "    }\n",
              "\n",
              "    .dataframe thead th {\n",
              "        text-align: right;\n",
              "    }\n",
              "</style>\n",
              "<table border=\"1\" class=\"dataframe\">\n",
              "  <thead>\n",
              "    <tr style=\"text-align: right;\">\n",
              "      <th></th>\n",
              "      <th></th>\n",
              "      <th>Quiz</th>\n",
              "      <th>Exam</th>\n",
              "    </tr>\n",
              "    <tr>\n",
              "      <th>Grade</th>\n",
              "      <th>Gender</th>\n",
              "      <th></th>\n",
              "      <th></th>\n",
              "    </tr>\n",
              "  </thead>\n",
              "  <tbody>\n",
              "    <tr>\n",
              "      <th rowspan=\"2\" valign=\"top\">一A</th>\n",
              "      <th>F</th>\n",
              "      <td>67.052632</td>\n",
              "      <td>67.868421</td>\n",
              "    </tr>\n",
              "    <tr>\n",
              "      <th>M</th>\n",
              "      <td>55.423077</td>\n",
              "      <td>54.788462</td>\n",
              "    </tr>\n",
              "    <tr>\n",
              "      <th rowspan=\"2\" valign=\"top\">三A</th>\n",
              "      <th>F</th>\n",
              "      <td>60.000000</td>\n",
              "      <td>45.500000</td>\n",
              "    </tr>\n",
              "    <tr>\n",
              "      <th>M</th>\n",
              "      <td>28.000000</td>\n",
              "      <td>34.000000</td>\n",
              "    </tr>\n",
              "    <tr>\n",
              "      <th rowspan=\"2\" valign=\"top\">二A</th>\n",
              "      <th>F</th>\n",
              "      <td>83.857143</td>\n",
              "      <td>82.000000</td>\n",
              "    </tr>\n",
              "    <tr>\n",
              "      <th>M</th>\n",
              "      <td>97.000000</td>\n",
              "      <td>98.000000</td>\n",
              "    </tr>\n",
              "  </tbody>\n",
              "</table>\n",
              "</div>"
            ],
            "text/plain": [
              "                   Quiz       Exam\n",
              "Grade Gender                      \n",
              "一A    F       67.052632  67.868421\n",
              "      M       55.423077  54.788462\n",
              "三A    F       60.000000  45.500000\n",
              "      M       28.000000  34.000000\n",
              "二A    F       83.857143  82.000000\n",
              "      M       97.000000  98.000000"
            ]
          },
          "metadata": {
            "tags": []
          },
          "execution_count": 40
        }
      ]
    },
    {
      "cell_type": "markdown",
      "metadata": {
        "id": "sAN7HMKPFxMj"
      },
      "source": [
        "# 作業一：請針對所提供的資料檔案(boston_house(type),xlsx)進行以下分析：\n",
        "1. 請計算此資料中房價的平均數、中位數、變異數與標準差。\n",
        "2. 請計算此資料中房價超過20(PRICE TYPE=2)與低於20(PRICE TYPE=0)的個數及比例。\n",
        "3. 請計算是否臨近Carles River(CHAS=0 or CHAS=1)地區房價之差異。\n",
        "4. 請計算是否臨近Carles River(CHAS=0 or CHAS=1)地區房價高低之差異。\n",
        "5. 請分析因素與房價高低具有較高的關聯性？"
      ]
    }
  ]
}