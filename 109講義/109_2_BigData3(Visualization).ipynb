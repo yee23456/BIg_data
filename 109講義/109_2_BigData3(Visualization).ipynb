{
  "nbformat": 4,
  "nbformat_minor": 0,
  "metadata": {
    "colab": {
      "name": "109_2_BigData3(Visualization).ipynb",
      "provenance": [],
      "collapsed_sections": [],
      "toc_visible": true
    },
    "kernelspec": {
      "name": "python3",
      "display_name": "Python 3"
    }
  },
  "cells": [
    {
      "cell_type": "code",
      "metadata": {
        "id": "_8JG4FIfh09O"
      },
      "source": [
        "import pandas as pd\n",
        "import numpy as np\n",
        "import random as rnd\n",
        "import seaborn as sns\n",
        "import matplotlib.pyplot as plt\n",
        "%matplotlib inline\n",
        "plt.rcParams['figure.figsize']=(20,10)"
      ],
      "execution_count": null,
      "outputs": []
    },
    {
      "cell_type": "code",
      "metadata": {
        "id": "bHcSdZmGjnsv"
      },
      "source": [
        "\n",
        "data=pd.read_excel('data.xlsx')\n"
      ],
      "execution_count": null,
      "outputs": []
    },
    {
      "cell_type": "code",
      "metadata": {
        "id": "QHPPpOYbk4Co",
        "colab": {
          "base_uri": "https://localhost:8080/",
          "height": 309
        },
        "outputId": "5f0c691e-f80d-4890-f347-52ae612f7795"
      },
      "source": [
        "data.head()"
      ],
      "execution_count": null,
      "outputs": [
        {
          "output_type": "execute_result",
          "data": {
            "text/html": [
              "<div>\n",
              "<style scoped>\n",
              "    .dataframe tbody tr th:only-of-type {\n",
              "        vertical-align: middle;\n",
              "    }\n",
              "\n",
              "    .dataframe tbody tr th {\n",
              "        vertical-align: top;\n",
              "    }\n",
              "\n",
              "    .dataframe thead th {\n",
              "        text-align: right;\n",
              "    }\n",
              "</style>\n",
              "<table border=\"1\" class=\"dataframe\">\n",
              "  <thead>\n",
              "    <tr style=\"text-align: right;\">\n",
              "      <th></th>\n",
              "      <th>iso_code</th>\n",
              "      <th>continent</th>\n",
              "      <th>location</th>\n",
              "      <th>date</th>\n",
              "      <th>total_cases</th>\n",
              "      <th>new_cases</th>\n",
              "      <th>new_cases_smoothed</th>\n",
              "      <th>total_deaths</th>\n",
              "      <th>new_deaths</th>\n",
              "      <th>new_deaths_smoothed</th>\n",
              "      <th>total_cases_per_million</th>\n",
              "      <th>new_cases_per_million</th>\n",
              "      <th>new_cases_smoothed_per_million</th>\n",
              "      <th>total_deaths_per_million</th>\n",
              "      <th>new_deaths_per_million</th>\n",
              "      <th>new_deaths_smoothed_per_million</th>\n",
              "      <th>reproduction_rate</th>\n",
              "      <th>icu_patients</th>\n",
              "      <th>icu_patients_per_million</th>\n",
              "      <th>hosp_patients</th>\n",
              "      <th>hosp_patients_per_million</th>\n",
              "      <th>weekly_icu_admissions</th>\n",
              "      <th>weekly_icu_admissions_per_million</th>\n",
              "      <th>weekly_hosp_admissions</th>\n",
              "      <th>weekly_hosp_admissions_per_million</th>\n",
              "      <th>new_tests</th>\n",
              "      <th>total_tests</th>\n",
              "      <th>total_tests_per_thousand</th>\n",
              "      <th>new_tests_per_thousand</th>\n",
              "      <th>new_tests_smoothed</th>\n",
              "      <th>new_tests_smoothed_per_thousand</th>\n",
              "      <th>positive_rate</th>\n",
              "      <th>tests_per_case</th>\n",
              "      <th>tests_units</th>\n",
              "      <th>total_vaccinations</th>\n",
              "      <th>people_vaccinated</th>\n",
              "      <th>people_fully_vaccinated</th>\n",
              "      <th>new_vaccinations</th>\n",
              "      <th>new_vaccinations_smoothed</th>\n",
              "      <th>total_vaccinations_per_hundred</th>\n",
              "      <th>people_vaccinated_per_hundred</th>\n",
              "      <th>people_fully_vaccinated_per_hundred</th>\n",
              "      <th>new_vaccinations_smoothed_per_million</th>\n",
              "      <th>stringency_index</th>\n",
              "      <th>population</th>\n",
              "      <th>population_density</th>\n",
              "      <th>median_age</th>\n",
              "      <th>aged_65_older</th>\n",
              "      <th>aged_70_older</th>\n",
              "      <th>gdp_per_capita</th>\n",
              "      <th>extreme_poverty</th>\n",
              "      <th>cardiovasc_death_rate</th>\n",
              "      <th>diabetes_prevalence</th>\n",
              "      <th>female_smokers</th>\n",
              "      <th>male_smokers</th>\n",
              "      <th>handwashing_facilities</th>\n",
              "      <th>hospital_beds_per_thousand</th>\n",
              "      <th>life_expectancy</th>\n",
              "      <th>human_development_index</th>\n",
              "    </tr>\n",
              "  </thead>\n",
              "  <tbody>\n",
              "    <tr>\n",
              "      <th>0</th>\n",
              "      <td>AFG</td>\n",
              "      <td>Asia</td>\n",
              "      <td>Afghanistan</td>\n",
              "      <td>2020-02-24</td>\n",
              "      <td>1.0</td>\n",
              "      <td>1.0</td>\n",
              "      <td>NaN</td>\n",
              "      <td>NaN</td>\n",
              "      <td>NaN</td>\n",
              "      <td>NaN</td>\n",
              "      <td>0.026</td>\n",
              "      <td>0.026</td>\n",
              "      <td>NaN</td>\n",
              "      <td>NaN</td>\n",
              "      <td>NaN</td>\n",
              "      <td>NaN</td>\n",
              "      <td>NaN</td>\n",
              "      <td>NaN</td>\n",
              "      <td>NaN</td>\n",
              "      <td>NaN</td>\n",
              "      <td>NaN</td>\n",
              "      <td>NaN</td>\n",
              "      <td>NaN</td>\n",
              "      <td>NaN</td>\n",
              "      <td>NaN</td>\n",
              "      <td>NaN</td>\n",
              "      <td>NaN</td>\n",
              "      <td>NaN</td>\n",
              "      <td>NaN</td>\n",
              "      <td>NaN</td>\n",
              "      <td>NaN</td>\n",
              "      <td>NaN</td>\n",
              "      <td>NaN</td>\n",
              "      <td>NaN</td>\n",
              "      <td>NaN</td>\n",
              "      <td>NaN</td>\n",
              "      <td>NaN</td>\n",
              "      <td>NaN</td>\n",
              "      <td>NaN</td>\n",
              "      <td>NaN</td>\n",
              "      <td>NaN</td>\n",
              "      <td>NaN</td>\n",
              "      <td>NaN</td>\n",
              "      <td>8.33</td>\n",
              "      <td>38928341.0</td>\n",
              "      <td>54.422</td>\n",
              "      <td>18.6</td>\n",
              "      <td>2.581</td>\n",
              "      <td>1.337</td>\n",
              "      <td>1803.987</td>\n",
              "      <td>NaN</td>\n",
              "      <td>597.029</td>\n",
              "      <td>9.59</td>\n",
              "      <td>NaN</td>\n",
              "      <td>NaN</td>\n",
              "      <td>37.746</td>\n",
              "      <td>0.5</td>\n",
              "      <td>64.83</td>\n",
              "      <td>0.511</td>\n",
              "    </tr>\n",
              "    <tr>\n",
              "      <th>1</th>\n",
              "      <td>AFG</td>\n",
              "      <td>Asia</td>\n",
              "      <td>Afghanistan</td>\n",
              "      <td>2020-02-25</td>\n",
              "      <td>1.0</td>\n",
              "      <td>0.0</td>\n",
              "      <td>NaN</td>\n",
              "      <td>NaN</td>\n",
              "      <td>NaN</td>\n",
              "      <td>NaN</td>\n",
              "      <td>0.026</td>\n",
              "      <td>0.000</td>\n",
              "      <td>NaN</td>\n",
              "      <td>NaN</td>\n",
              "      <td>NaN</td>\n",
              "      <td>NaN</td>\n",
              "      <td>NaN</td>\n",
              "      <td>NaN</td>\n",
              "      <td>NaN</td>\n",
              "      <td>NaN</td>\n",
              "      <td>NaN</td>\n",
              "      <td>NaN</td>\n",
              "      <td>NaN</td>\n",
              "      <td>NaN</td>\n",
              "      <td>NaN</td>\n",
              "      <td>NaN</td>\n",
              "      <td>NaN</td>\n",
              "      <td>NaN</td>\n",
              "      <td>NaN</td>\n",
              "      <td>NaN</td>\n",
              "      <td>NaN</td>\n",
              "      <td>NaN</td>\n",
              "      <td>NaN</td>\n",
              "      <td>NaN</td>\n",
              "      <td>NaN</td>\n",
              "      <td>NaN</td>\n",
              "      <td>NaN</td>\n",
              "      <td>NaN</td>\n",
              "      <td>NaN</td>\n",
              "      <td>NaN</td>\n",
              "      <td>NaN</td>\n",
              "      <td>NaN</td>\n",
              "      <td>NaN</td>\n",
              "      <td>8.33</td>\n",
              "      <td>38928341.0</td>\n",
              "      <td>54.422</td>\n",
              "      <td>18.6</td>\n",
              "      <td>2.581</td>\n",
              "      <td>1.337</td>\n",
              "      <td>1803.987</td>\n",
              "      <td>NaN</td>\n",
              "      <td>597.029</td>\n",
              "      <td>9.59</td>\n",
              "      <td>NaN</td>\n",
              "      <td>NaN</td>\n",
              "      <td>37.746</td>\n",
              "      <td>0.5</td>\n",
              "      <td>64.83</td>\n",
              "      <td>0.511</td>\n",
              "    </tr>\n",
              "    <tr>\n",
              "      <th>2</th>\n",
              "      <td>AFG</td>\n",
              "      <td>Asia</td>\n",
              "      <td>Afghanistan</td>\n",
              "      <td>2020-02-26</td>\n",
              "      <td>1.0</td>\n",
              "      <td>0.0</td>\n",
              "      <td>NaN</td>\n",
              "      <td>NaN</td>\n",
              "      <td>NaN</td>\n",
              "      <td>NaN</td>\n",
              "      <td>0.026</td>\n",
              "      <td>0.000</td>\n",
              "      <td>NaN</td>\n",
              "      <td>NaN</td>\n",
              "      <td>NaN</td>\n",
              "      <td>NaN</td>\n",
              "      <td>NaN</td>\n",
              "      <td>NaN</td>\n",
              "      <td>NaN</td>\n",
              "      <td>NaN</td>\n",
              "      <td>NaN</td>\n",
              "      <td>NaN</td>\n",
              "      <td>NaN</td>\n",
              "      <td>NaN</td>\n",
              "      <td>NaN</td>\n",
              "      <td>NaN</td>\n",
              "      <td>NaN</td>\n",
              "      <td>NaN</td>\n",
              "      <td>NaN</td>\n",
              "      <td>NaN</td>\n",
              "      <td>NaN</td>\n",
              "      <td>NaN</td>\n",
              "      <td>NaN</td>\n",
              "      <td>NaN</td>\n",
              "      <td>NaN</td>\n",
              "      <td>NaN</td>\n",
              "      <td>NaN</td>\n",
              "      <td>NaN</td>\n",
              "      <td>NaN</td>\n",
              "      <td>NaN</td>\n",
              "      <td>NaN</td>\n",
              "      <td>NaN</td>\n",
              "      <td>NaN</td>\n",
              "      <td>8.33</td>\n",
              "      <td>38928341.0</td>\n",
              "      <td>54.422</td>\n",
              "      <td>18.6</td>\n",
              "      <td>2.581</td>\n",
              "      <td>1.337</td>\n",
              "      <td>1803.987</td>\n",
              "      <td>NaN</td>\n",
              "      <td>597.029</td>\n",
              "      <td>9.59</td>\n",
              "      <td>NaN</td>\n",
              "      <td>NaN</td>\n",
              "      <td>37.746</td>\n",
              "      <td>0.5</td>\n",
              "      <td>64.83</td>\n",
              "      <td>0.511</td>\n",
              "    </tr>\n",
              "    <tr>\n",
              "      <th>3</th>\n",
              "      <td>AFG</td>\n",
              "      <td>Asia</td>\n",
              "      <td>Afghanistan</td>\n",
              "      <td>2020-02-27</td>\n",
              "      <td>1.0</td>\n",
              "      <td>0.0</td>\n",
              "      <td>NaN</td>\n",
              "      <td>NaN</td>\n",
              "      <td>NaN</td>\n",
              "      <td>NaN</td>\n",
              "      <td>0.026</td>\n",
              "      <td>0.000</td>\n",
              "      <td>NaN</td>\n",
              "      <td>NaN</td>\n",
              "      <td>NaN</td>\n",
              "      <td>NaN</td>\n",
              "      <td>NaN</td>\n",
              "      <td>NaN</td>\n",
              "      <td>NaN</td>\n",
              "      <td>NaN</td>\n",
              "      <td>NaN</td>\n",
              "      <td>NaN</td>\n",
              "      <td>NaN</td>\n",
              "      <td>NaN</td>\n",
              "      <td>NaN</td>\n",
              "      <td>NaN</td>\n",
              "      <td>NaN</td>\n",
              "      <td>NaN</td>\n",
              "      <td>NaN</td>\n",
              "      <td>NaN</td>\n",
              "      <td>NaN</td>\n",
              "      <td>NaN</td>\n",
              "      <td>NaN</td>\n",
              "      <td>NaN</td>\n",
              "      <td>NaN</td>\n",
              "      <td>NaN</td>\n",
              "      <td>NaN</td>\n",
              "      <td>NaN</td>\n",
              "      <td>NaN</td>\n",
              "      <td>NaN</td>\n",
              "      <td>NaN</td>\n",
              "      <td>NaN</td>\n",
              "      <td>NaN</td>\n",
              "      <td>8.33</td>\n",
              "      <td>38928341.0</td>\n",
              "      <td>54.422</td>\n",
              "      <td>18.6</td>\n",
              "      <td>2.581</td>\n",
              "      <td>1.337</td>\n",
              "      <td>1803.987</td>\n",
              "      <td>NaN</td>\n",
              "      <td>597.029</td>\n",
              "      <td>9.59</td>\n",
              "      <td>NaN</td>\n",
              "      <td>NaN</td>\n",
              "      <td>37.746</td>\n",
              "      <td>0.5</td>\n",
              "      <td>64.83</td>\n",
              "      <td>0.511</td>\n",
              "    </tr>\n",
              "    <tr>\n",
              "      <th>4</th>\n",
              "      <td>AFG</td>\n",
              "      <td>Asia</td>\n",
              "      <td>Afghanistan</td>\n",
              "      <td>2020-02-28</td>\n",
              "      <td>1.0</td>\n",
              "      <td>0.0</td>\n",
              "      <td>NaN</td>\n",
              "      <td>NaN</td>\n",
              "      <td>NaN</td>\n",
              "      <td>NaN</td>\n",
              "      <td>0.026</td>\n",
              "      <td>0.000</td>\n",
              "      <td>NaN</td>\n",
              "      <td>NaN</td>\n",
              "      <td>NaN</td>\n",
              "      <td>NaN</td>\n",
              "      <td>NaN</td>\n",
              "      <td>NaN</td>\n",
              "      <td>NaN</td>\n",
              "      <td>NaN</td>\n",
              "      <td>NaN</td>\n",
              "      <td>NaN</td>\n",
              "      <td>NaN</td>\n",
              "      <td>NaN</td>\n",
              "      <td>NaN</td>\n",
              "      <td>NaN</td>\n",
              "      <td>NaN</td>\n",
              "      <td>NaN</td>\n",
              "      <td>NaN</td>\n",
              "      <td>NaN</td>\n",
              "      <td>NaN</td>\n",
              "      <td>NaN</td>\n",
              "      <td>NaN</td>\n",
              "      <td>NaN</td>\n",
              "      <td>NaN</td>\n",
              "      <td>NaN</td>\n",
              "      <td>NaN</td>\n",
              "      <td>NaN</td>\n",
              "      <td>NaN</td>\n",
              "      <td>NaN</td>\n",
              "      <td>NaN</td>\n",
              "      <td>NaN</td>\n",
              "      <td>NaN</td>\n",
              "      <td>8.33</td>\n",
              "      <td>38928341.0</td>\n",
              "      <td>54.422</td>\n",
              "      <td>18.6</td>\n",
              "      <td>2.581</td>\n",
              "      <td>1.337</td>\n",
              "      <td>1803.987</td>\n",
              "      <td>NaN</td>\n",
              "      <td>597.029</td>\n",
              "      <td>9.59</td>\n",
              "      <td>NaN</td>\n",
              "      <td>NaN</td>\n",
              "      <td>37.746</td>\n",
              "      <td>0.5</td>\n",
              "      <td>64.83</td>\n",
              "      <td>0.511</td>\n",
              "    </tr>\n",
              "  </tbody>\n",
              "</table>\n",
              "</div>"
            ],
            "text/plain": [
              "  iso_code continent  ... life_expectancy human_development_index\n",
              "0      AFG      Asia  ...           64.83                   0.511\n",
              "1      AFG      Asia  ...           64.83                   0.511\n",
              "2      AFG      Asia  ...           64.83                   0.511\n",
              "3      AFG      Asia  ...           64.83                   0.511\n",
              "4      AFG      Asia  ...           64.83                   0.511\n",
              "\n",
              "[5 rows x 59 columns]"
            ]
          },
          "metadata": {
            "tags": []
          },
          "execution_count": 6
        }
      ]
    },
    {
      "cell_type": "markdown",
      "metadata": {
        "id": "IDZYEWV23SCm"
      },
      "source": [
        "# **`Visualization`(視覺化圖形)**"
      ]
    },
    {
      "cell_type": "markdown",
      "metadata": {
        "id": "7ceNgaQmHknH"
      },
      "source": [
        "1.折線圖line Chart:時間變化的圖形(趨勢圖)：直接Keyin資料"
      ]
    },
    {
      "cell_type": "code",
      "metadata": {
        "id": "h6jhdW0JU4Kn",
        "colab": {
          "base_uri": "https://localhost:8080/",
          "height": 313
        },
        "outputId": "7c613385-df37-4a09-a8dc-16647e3b0ac2"
      },
      "source": [
        "#折線圖 (單線圖形) \n",
        "import matplotlib.pyplot as plt\n",
        "#台灣疫情走勢累積確診人數折線圖\n",
        "x = [9,10,11,12,13,14,15,16,17,18,19,20,21,22,23]\n",
        "y = [45,47,48,49,50,53,59,67,77,100,108,135,153,169,195]\n",
        "plt.title('Trend of COVID 2019, Taiwan ')\n",
        "plt.xlabel('Date')\n",
        "plt.ylabel('number')\n",
        "#plt.plot(x, y, 'o') # 只有點\n",
        "#plt.plot(x, y) # 只有線( 預設 )\n",
        "#plt.plot(x, y, '-o') # 點和線\n",
        "plt.plot(x, y, '--o') # 點和虛線"
      ],
      "execution_count": null,
      "outputs": [
        {
          "output_type": "execute_result",
          "data": {
            "text/plain": [
              "[<matplotlib.lines.Line2D at 0x7f7ac4a74350>]"
            ]
          },
          "metadata": {
            "tags": []
          },
          "execution_count": 2
        },
        {
          "output_type": "display_data",
          "data": {
            "image/png": "[encoded data removed]",
            "text/plain": [
              "<Figure size 432x288 with 1 Axes>"
            ]
          },
          "metadata": {
            "tags": [],
            "needs_background": "light"
          }
        }
      ]
    },
    {
      "cell_type": "code",
      "metadata": {
        "id": "1hzY6Ji4V1et",
        "colab": {
          "base_uri": "https://localhost:8080/",
          "height": 327
        },
        "outputId": "7b6820ae-d7f9-435f-fc35-25db2482f2de"
      },
      "source": [
        "\n",
        "import matplotlib.pyplot as plt\n",
        "x = [9,10,11,12,13,14,15,16,17,18,19,20,21,22,23]\n",
        "y1 = [45,47,48,49,50,53,59,67,77,100,108,135,153,169,195]\n",
        "y2=[572,704,975,1321,1666,2282,2885,3774,4667,6456,9345,12450,19624,26747,33276]\n",
        "\n",
        "plt.title('Trend of COVID 2019, Taiwan and USA ',fontsize=20)\n",
        "plt.xlabel('Date',fontsize=20)\n",
        "plt.ylabel('Number of covid_19',fontsize=20)\n",
        "plt.plot(x, y1, 'b--o',label=\"Taiwan\")\n",
        "plt.plot(x,y2,'r-o',label=\"USA\") \n"
      ],
      "execution_count": null,
      "outputs": [
        {
          "output_type": "execute_result",
          "data": {
            "text/plain": [
              "[<matplotlib.lines.Line2D at 0x7f7ac4075510>]"
            ]
          },
          "metadata": {
            "tags": []
          },
          "execution_count": 14
        },
        {
          "output_type": "display_data",
          "data": {
            "image/png": "[encoded data removed]",
            "text/plain": [
              "<Figure size 432x288 with 1 Axes>"
            ]
          },
          "metadata": {
            "tags": [],
            "needs_background": "light"
          }
        }
      ]
    },
    {
      "cell_type": "code",
      "metadata": {
        "id": "40TuqV-MbyVM"
      },
      "source": [
        "#將上述圖形儲存成png檔及pdf檔\n",
        "fig.savefig('fig_1.png')\n",
        "fig.savefig('fig_1.pdf')"
      ],
      "execution_count": null,
      "outputs": []
    },
    {
      "cell_type": "markdown",
      "metadata": {
        "id": "pDwzRp1O07tN"
      },
      "source": [
        "1.折線圖line Chart:時間變化的圖形(趨勢圖)：載入變數"
      ]
    },
    {
      "cell_type": "code",
      "metadata": {
        "colab": {
          "base_uri": "https://localhost:8080/",
          "height": 450
        },
        "id": "Obx79oxMy4u_",
        "outputId": "ae1ab779-2e41-4d01-d419-76d5792bf831"
      },
      "source": [
        "#以年度分群計算整體自殺人數，並以陣列表示\n",
        "f=data.groupby('year')\n",
        "g=f['suicides_no'].sum()\n",
        "plist=pd.DataFrame(g,columns=[\"suicides_no\"])\n",
        "plist"
      ],
      "execution_count": null,
      "outputs": [
        {
          "output_type": "execute_result",
          "data": {
            "text/html": [
              "<div>\n",
              "<style scoped>\n",
              "    .dataframe tbody tr th:only-of-type {\n",
              "        vertical-align: middle;\n",
              "    }\n",
              "\n",
              "    .dataframe tbody tr th {\n",
              "        vertical-align: top;\n",
              "    }\n",
              "\n",
              "    .dataframe thead th {\n",
              "        text-align: right;\n",
              "    }\n",
              "</style>\n",
              "<table border=\"1\" class=\"dataframe\">\n",
              "  <thead>\n",
              "    <tr style=\"text-align: right;\">\n",
              "      <th></th>\n",
              "      <th>total_cases</th>\n",
              "    </tr>\n",
              "    <tr>\n",
              "      <th>date</th>\n",
              "      <th></th>\n",
              "    </tr>\n",
              "  </thead>\n",
              "  <tbody>\n",
              "    <tr>\n",
              "      <th>2020-01-01</th>\n",
              "      <td>0.0</td>\n",
              "    </tr>\n",
              "    <tr>\n",
              "      <th>2020-01-02</th>\n",
              "      <td>0.0</td>\n",
              "    </tr>\n",
              "    <tr>\n",
              "      <th>2020-01-03</th>\n",
              "      <td>0.0</td>\n",
              "    </tr>\n",
              "    <tr>\n",
              "      <th>2020-01-04</th>\n",
              "      <td>0.0</td>\n",
              "    </tr>\n",
              "    <tr>\n",
              "      <th>2020-01-05</th>\n",
              "      <td>0.0</td>\n",
              "    </tr>\n",
              "    <tr>\n",
              "      <th>...</th>\n",
              "      <td>...</td>\n",
              "    </tr>\n",
              "    <tr>\n",
              "      <th>2021-03-19</th>\n",
              "      <td>391774228.0</td>\n",
              "    </tr>\n",
              "    <tr>\n",
              "      <th>2021-03-20</th>\n",
              "      <td>393421619.0</td>\n",
              "    </tr>\n",
              "    <tr>\n",
              "      <th>2021-03-21</th>\n",
              "      <td>394700136.0</td>\n",
              "    </tr>\n",
              "    <tr>\n",
              "      <th>2021-03-22</th>\n",
              "      <td>396278901.0</td>\n",
              "    </tr>\n",
              "    <tr>\n",
              "      <th>2021-03-23</th>\n",
              "      <td>397997590.0</td>\n",
              "    </tr>\n",
              "  </tbody>\n",
              "</table>\n",
              "<p>448 rows × 1 columns</p>\n",
              "</div>"
            ],
            "text/plain": [
              "            total_cases\n",
              "date                   \n",
              "2020-01-01          0.0\n",
              "2020-01-02          0.0\n",
              "2020-01-03          0.0\n",
              "2020-01-04          0.0\n",
              "2020-01-05          0.0\n",
              "...                 ...\n",
              "2021-03-19  391774228.0\n",
              "2021-03-20  393421619.0\n",
              "2021-03-21  394700136.0\n",
              "2021-03-22  396278901.0\n",
              "2021-03-23  397997590.0\n",
              "\n",
              "[448 rows x 1 columns]"
            ]
          },
          "metadata": {
            "tags": []
          },
          "execution_count": 8
        }
      ]
    },
    {
      "cell_type": "code",
      "metadata": {
        "colab": {
          "base_uri": "https://localhost:8080/",
          "height": 558
        },
        "id": "oPQMIR9q586b",
        "outputId": "01bdebf1-37de-42fc-fb97-1abed3b9c173"
      },
      "source": [
        "#折線圖 (單線圖形) \n",
        "import matplotlib.pyplot as plt\n",
        "#畫出整體自殺人數折線圖，年度為上述陣列的index，因此以index欄位為x軸，自殺人數suicide_no為y軸\n",
        " \n",
        "y = plist['suicides_no']\n",
        "plt.title('suicides_no')\n",
        "plt.xlabel('year')\n",
        "plt.ylabel('suicides_no')\n",
        "#plt.plot(x, y, 'o') # 只有點\n",
        "#plt.plot(x, y) # 只有線( 預設 )\n",
        "#plt.plot(x, y, '-o') # 點和線\n",
        "plt.plot(x, y, '--o') # 點和虛線"
      ],
      "execution_count": null,
      "outputs": [
        {
          "output_type": "execute_result",
          "data": {
            "text/plain": [
              "[<matplotlib.lines.Line2D at 0x7fca0ac30a50>]"
            ]
          },
          "metadata": {
            "tags": []
          },
          "execution_count": 12
        },
        {
          "output_type": "display_data",
          "data": {
            "image/png": "[encoded data removed]",
            "text/plain": [
              "<Figure size 720x612 with 1 Axes>"
            ]
          },
          "metadata": {
            "tags": [],
            "needs_background": "light"
          }
        }
      ]
    },
    {
      "cell_type": "code",
      "metadata": {
        "id": "ty8sJ1834Xda"
      },
      "source": [
        "#刪除最後一筆異常資料\n",
        "qlist=plist.drop(index=[2016])"
      ],
      "execution_count": null,
      "outputs": []
    },
    {
      "cell_type": "code",
      "metadata": {
        "colab": {
          "base_uri": "https://localhost:8080/",
          "height": 558
        },
        "id": "O7szRJP2uTtv",
        "outputId": "f4580a48-5e74-485d-f641-abc976b5f06a"
      },
      "source": [
        "#折線圖 (單線圖形) \n",
        "import matplotlib.pyplot as plt\n",
        "x = qlist.index\n",
        "y = qlist['suicides_no']\n",
        "plt.title('suicides_no')\n",
        "plt.xlabel('year')\n",
        "plt.ylabel('suicides_no')\n",
        "#plt.plot(x, y, 'o') # 只有點\n",
        "#plt.plot(x, y) # 只有線( 預設 )\n",
        "#plt.plot(x, y, '-o') # 點和線\n",
        "plt.plot(x, y, '--o') # 點和虛線"
      ],
      "execution_count": null,
      "outputs": [
        {
          "output_type": "execute_result",
          "data": {
            "text/plain": [
              "[<matplotlib.lines.Line2D at 0x7fca0ba229d0>]"
            ]
          },
          "metadata": {
            "tags": []
          },
          "execution_count": 14
        },
        {
          "output_type": "display_data",
          "data": {
            "image/png": "[encoded data removed]",
            "text/plain": [
              "<Figure size 720x612 with 1 Axes>"
            ]
          },
          "metadata": {
            "tags": [],
            "needs_background": "light"
          }
        }
      ]
    },
    {
      "cell_type": "markdown",
      "metadata": {
        "id": "F6OmnMIbWojm"
      },
      "source": [
        "# Exercise:\n",
        "1.請畫出目前全球的疫情趨勢圖\n",
        "\n",
        "2.請畫出美國及全球的疫情趨勢圖，\n",
        "\n",
        "繪圖後，請說明目前疫情的趨勢狀況\n",
        "\n",
        "3.請畫出1990~2015整體自殺人數的走勢圖"
      ]
    },
    {
      "cell_type": "code",
      "metadata": {
        "id": "VEttdf1F5f5B"
      },
      "source": [
        "f=data.groupby('date')\n",
        "g=f['total_cases'].sum()\n",
        "plist=pd.DataFrame(g,columns=[\"total_cases\"])\n",
        "plist"
      ],
      "execution_count": null,
      "outputs": []
    },
    {
      "cell_type": "code",
      "metadata": {
        "colab": {
          "base_uri": "https://localhost:8080/",
          "height": 638
        },
        "id": "ojz8EzRN26kS",
        "outputId": "d25449aa-6b36-49dd-9744-4d72850767c1"
      },
      "source": [
        "#折線圖 (單線圖形) \n",
        "import matplotlib.pyplot as plt\n",
        "#畫出整體自殺人數折線圖，年度為上述陣列的index，因此以index欄位為x軸，自殺人數suicide_no為y軸\n",
        "x = plist.index\n",
        "y = plist['total_cases']\n",
        "plt.title('total_cases')\n",
        "plt.xlabel('date')\n",
        "plt.ylabel('total_cases')\n",
        "#plt.plot(x, y, 'o') # 只有點ㄈ\n",
        "#plt.plot(x, y) # 只有線( 預設 )\n",
        "#plt.plot(x, y, '-o') # 點和線\n",
        "plt.plot(x, y, '--o') # 點和虛線"
      ],
      "execution_count": null,
      "outputs": [
        {
          "output_type": "execute_result",
          "data": {
            "text/plain": [
              "[<matplotlib.lines.Line2D at 0x7f1e0faf8dd0>]"
            ]
          },
          "metadata": {
            "tags": []
          },
          "execution_count": 12
        },
        {
          "output_type": "display_data",
          "data": {
            "image/png": "[encoded data removed]",
            "text/plain": [
              "<Figure size 1440x720 with 1 Axes>"
            ]
          },
          "metadata": {
            "tags": [],
            "needs_background": "light"
          }
        }
      ]
    },
    {
      "cell_type": "markdown",
      "metadata": {
        "id": "00-Y_vIkMMz8"
      },
      "source": [
        "2.盒形圖boxplot：離群值判定圖形"
      ]
    },
    {
      "cell_type": "code",
      "metadata": {
        "id": "TbHuHvxtv9Lq"
      },
      "source": [
        "data2=pd.read_excel('nba2.xlsx')"
      ],
      "execution_count": null,
      "outputs": []
    },
    {
      "cell_type": "code",
      "metadata": {
        "colab": {
          "base_uri": "https://localhost:8080/",
          "height": 495
        },
        "id": "spFOY_zy20LY",
        "outputId": "d0c520ce-9b82-42f9-c756-f54ed185f276"
      },
      "source": [
        "data2.head()"
      ],
      "execution_count": null,
      "outputs": [
        {
          "output_type": "execute_result",
          "data": {
            "text/html": [
              "<div>\n",
              "<style scoped>\n",
              "    .dataframe tbody tr th:only-of-type {\n",
              "        vertical-align: middle;\n",
              "    }\n",
              "\n",
              "    .dataframe tbody tr th {\n",
              "        vertical-align: top;\n",
              "    }\n",
              "\n",
              "    .dataframe thead th {\n",
              "        text-align: right;\n",
              "    }\n",
              "</style>\n",
              "<table border=\"1\" class=\"dataframe\">\n",
              "  <thead>\n",
              "    <tr style=\"text-align: right;\">\n",
              "      <th></th>\n",
              "      <th>DATASET</th>\n",
              "      <th>R/P</th>\n",
              "      <th>DATE</th>\n",
              "      <th>TEAMS</th>\n",
              "      <th>H/R</th>\n",
              "      <th>W/E</th>\n",
              "      <th>W/L</th>\n",
              "      <th>DIFF</th>\n",
              "      <th>1Q</th>\n",
              "      <th>2Q</th>\n",
              "      <th>3Q</th>\n",
              "      <th>4Q</th>\n",
              "      <th>F</th>\n",
              "      <th>MIN</th>\n",
              "      <th>FG</th>\n",
              "      <th>FGA</th>\n",
              "      <th>3P</th>\n",
              "      <th>3PA</th>\n",
              "      <th>FT</th>\n",
              "      <th>FTA</th>\n",
              "      <th>OR</th>\n",
              "      <th>ORR</th>\n",
              "      <th>DRR</th>\n",
              "      <th>FT%</th>\n",
              "      <th>TOV%</th>\n",
              "      <th>EFG%</th>\n",
              "      <th>DRB%</th>\n",
              "      <th>ORB%</th>\n",
              "      <th>DR</th>\n",
              "      <th>TOT</th>\n",
              "      <th>A</th>\n",
              "      <th>PF</th>\n",
              "      <th>ST</th>\n",
              "      <th>TO</th>\n",
              "      <th>BL</th>\n",
              "      <th>PTS</th>\n",
              "      <th>POSS</th>\n",
              "      <th>PACE</th>\n",
              "      <th>OEFF</th>\n",
              "      <th>DEFF</th>\n",
              "      <th>REST DAYS</th>\n",
              "      <th>OPENING ODDS</th>\n",
              "      <th>SPREAD</th>\n",
              "    </tr>\n",
              "  </thead>\n",
              "  <tbody>\n",
              "    <tr>\n",
              "      <th>0</th>\n",
              "      <td>2016-2017 Regular Season</td>\n",
              "      <td>1</td>\n",
              "      <td>10/25/2016</td>\n",
              "      <td>New York</td>\n",
              "      <td>2</td>\n",
              "      <td>1</td>\n",
              "      <td>0</td>\n",
              "      <td>-29</td>\n",
              "      <td>18</td>\n",
              "      <td>27</td>\n",
              "      <td>19</td>\n",
              "      <td>24</td>\n",
              "      <td>88</td>\n",
              "      <td>240</td>\n",
              "      <td>32</td>\n",
              "      <td>87</td>\n",
              "      <td>9</td>\n",
              "      <td>27</td>\n",
              "      <td>15</td>\n",
              "      <td>20</td>\n",
              "      <td>13</td>\n",
              "      <td>11</td>\n",
              "      <td>40</td>\n",
              "      <td>0.172414</td>\n",
              "      <td>0.158172</td>\n",
              "      <td>0.419540</td>\n",
              "      <td>0.725000</td>\n",
              "      <td>0.245283</td>\n",
              "      <td>29</td>\n",
              "      <td>42</td>\n",
              "      <td>17</td>\n",
              "      <td>22</td>\n",
              "      <td>6</td>\n",
              "      <td>18</td>\n",
              "      <td>6</td>\n",
              "      <td>88</td>\n",
              "      <td>100.4</td>\n",
              "      <td>100.4</td>\n",
              "      <td>87.7</td>\n",
              "      <td>116.6</td>\n",
              "      <td>3</td>\n",
              "      <td>205.5</td>\n",
              "      <td>9.5</td>\n",
              "    </tr>\n",
              "    <tr>\n",
              "      <th>1</th>\n",
              "      <td>2016-2017 Regular Season</td>\n",
              "      <td>1</td>\n",
              "      <td>10/25/2016</td>\n",
              "      <td>Cleveland</td>\n",
              "      <td>1</td>\n",
              "      <td>1</td>\n",
              "      <td>1</td>\n",
              "      <td>29</td>\n",
              "      <td>28</td>\n",
              "      <td>20</td>\n",
              "      <td>34</td>\n",
              "      <td>35</td>\n",
              "      <td>117</td>\n",
              "      <td>240</td>\n",
              "      <td>45</td>\n",
              "      <td>94</td>\n",
              "      <td>13</td>\n",
              "      <td>35</td>\n",
              "      <td>14</td>\n",
              "      <td>19</td>\n",
              "      <td>11</td>\n",
              "      <td>13</td>\n",
              "      <td>29</td>\n",
              "      <td>0.148936</td>\n",
              "      <td>0.120316</td>\n",
              "      <td>0.547872</td>\n",
              "      <td>0.754717</td>\n",
              "      <td>0.275000</td>\n",
              "      <td>40</td>\n",
              "      <td>51</td>\n",
              "      <td>31</td>\n",
              "      <td>22</td>\n",
              "      <td>12</td>\n",
              "      <td>14</td>\n",
              "      <td>5</td>\n",
              "      <td>117</td>\n",
              "      <td>100.4</td>\n",
              "      <td>100.4</td>\n",
              "      <td>116.6</td>\n",
              "      <td>87.7</td>\n",
              "      <td>3</td>\n",
              "      <td>-9.5</td>\n",
              "      <td>-9.5</td>\n",
              "    </tr>\n",
              "    <tr>\n",
              "      <th>2</th>\n",
              "      <td>2016-2017 Regular Season</td>\n",
              "      <td>1</td>\n",
              "      <td>10/25/2016</td>\n",
              "      <td>Utah</td>\n",
              "      <td>2</td>\n",
              "      <td>2</td>\n",
              "      <td>0</td>\n",
              "      <td>-9</td>\n",
              "      <td>26</td>\n",
              "      <td>20</td>\n",
              "      <td>37</td>\n",
              "      <td>21</td>\n",
              "      <td>104</td>\n",
              "      <td>240</td>\n",
              "      <td>40</td>\n",
              "      <td>82</td>\n",
              "      <td>8</td>\n",
              "      <td>24</td>\n",
              "      <td>16</td>\n",
              "      <td>16</td>\n",
              "      <td>6</td>\n",
              "      <td>5</td>\n",
              "      <td>29</td>\n",
              "      <td>0.195122</td>\n",
              "      <td>0.109956</td>\n",
              "      <td>0.536585</td>\n",
              "      <td>0.833333</td>\n",
              "      <td>0.171429</td>\n",
              "      <td>25</td>\n",
              "      <td>31</td>\n",
              "      <td>19</td>\n",
              "      <td>19</td>\n",
              "      <td>9</td>\n",
              "      <td>11</td>\n",
              "      <td>5</td>\n",
              "      <td>104</td>\n",
              "      <td>92.5</td>\n",
              "      <td>92.5</td>\n",
              "      <td>112.4</td>\n",
              "      <td>122.1</td>\n",
              "      <td>3</td>\n",
              "      <td>194.0</td>\n",
              "      <td>6.0</td>\n",
              "    </tr>\n",
              "    <tr>\n",
              "      <th>3</th>\n",
              "      <td>2016-2017 Regular Season</td>\n",
              "      <td>1</td>\n",
              "      <td>10/25/2016</td>\n",
              "      <td>Portland</td>\n",
              "      <td>1</td>\n",
              "      <td>2</td>\n",
              "      <td>1</td>\n",
              "      <td>9</td>\n",
              "      <td>26</td>\n",
              "      <td>28</td>\n",
              "      <td>23</td>\n",
              "      <td>36</td>\n",
              "      <td>113</td>\n",
              "      <td>240</td>\n",
              "      <td>39</td>\n",
              "      <td>75</td>\n",
              "      <td>13</td>\n",
              "      <td>19</td>\n",
              "      <td>22</td>\n",
              "      <td>22</td>\n",
              "      <td>5</td>\n",
              "      <td>6</td>\n",
              "      <td>25</td>\n",
              "      <td>0.293333</td>\n",
              "      <td>0.124121</td>\n",
              "      <td>0.606667</td>\n",
              "      <td>0.828571</td>\n",
              "      <td>0.166667</td>\n",
              "      <td>29</td>\n",
              "      <td>34</td>\n",
              "      <td>22</td>\n",
              "      <td>18</td>\n",
              "      <td>5</td>\n",
              "      <td>12</td>\n",
              "      <td>3</td>\n",
              "      <td>113</td>\n",
              "      <td>92.5</td>\n",
              "      <td>92.5</td>\n",
              "      <td>122.1</td>\n",
              "      <td>112.4</td>\n",
              "      <td>3</td>\n",
              "      <td>-6.0</td>\n",
              "      <td>-6.0</td>\n",
              "    </tr>\n",
              "    <tr>\n",
              "      <th>4</th>\n",
              "      <td>2016-2017 Regular Season</td>\n",
              "      <td>1</td>\n",
              "      <td>10/25/2016</td>\n",
              "      <td>San Antonio</td>\n",
              "      <td>2</td>\n",
              "      <td>2</td>\n",
              "      <td>1</td>\n",
              "      <td>29</td>\n",
              "      <td>31</td>\n",
              "      <td>33</td>\n",
              "      <td>33</td>\n",
              "      <td>32</td>\n",
              "      <td>129</td>\n",
              "      <td>240</td>\n",
              "      <td>47</td>\n",
              "      <td>98</td>\n",
              "      <td>12</td>\n",
              "      <td>24</td>\n",
              "      <td>23</td>\n",
              "      <td>26</td>\n",
              "      <td>21</td>\n",
              "      <td>8</td>\n",
              "      <td>27</td>\n",
              "      <td>0.234694</td>\n",
              "      <td>0.106174</td>\n",
              "      <td>0.540816</td>\n",
              "      <td>0.809524</td>\n",
              "      <td>0.437500</td>\n",
              "      <td>34</td>\n",
              "      <td>55</td>\n",
              "      <td>25</td>\n",
              "      <td>19</td>\n",
              "      <td>13</td>\n",
              "      <td>13</td>\n",
              "      <td>3</td>\n",
              "      <td>129</td>\n",
              "      <td>98.8</td>\n",
              "      <td>98.8</td>\n",
              "      <td>130.6</td>\n",
              "      <td>101.2</td>\n",
              "      <td>3</td>\n",
              "      <td>210.5</td>\n",
              "      <td>8.0</td>\n",
              "    </tr>\n",
              "  </tbody>\n",
              "</table>\n",
              "</div>"
            ],
            "text/plain": [
              "                    DATASET  R/P        DATE  ... REST DAYS  OPENING ODDS  SPREAD\n",
              "0  2016-2017 Regular Season    1  10/25/2016  ...         3         205.5     9.5\n",
              "1  2016-2017 Regular Season    1  10/25/2016  ...         3          -9.5    -9.5\n",
              "2  2016-2017 Regular Season    1  10/25/2016  ...         3         194.0     6.0\n",
              "3  2016-2017 Regular Season    1  10/25/2016  ...         3          -6.0    -6.0\n",
              "4  2016-2017 Regular Season    1  10/25/2016  ...         3         210.5     8.0\n",
              "\n",
              "[5 rows x 43 columns]"
            ]
          },
          "metadata": {
            "tags": []
          },
          "execution_count": 39
        }
      ]
    },
    {
      "cell_type": "code",
      "metadata": {
        "id": "DYDmzurIMTel",
        "colab": {
          "base_uri": "https://localhost:8080/",
          "height": 338
        },
        "outputId": "afda7be0-ec27-4523-e267-d30195455828"
      },
      "source": [
        "#boxplot:盒型圖\n",
        "plt.rcParams['figure.figsize']=(5,5)\n",
        "sns.boxplot(data=data2['PTS'],color='r')"
      ],
      "execution_count": null,
      "outputs": [
        {
          "output_type": "execute_result",
          "data": {
            "text/plain": [
              "<matplotlib.axes._subplots.AxesSubplot at 0x7fca0c9af510>"
            ]
          },
          "metadata": {
            "tags": []
          },
          "execution_count": 17
        },
        {
          "output_type": "display_data",
          "data": {
            "image/png": "[encoded data removed]",
            "text/plain": [
              "<Figure size 360x360 with 1 Axes>"
            ]
          },
          "metadata": {
            "tags": [],
            "needs_background": "light"
          }
        }
      ]
    },
    {
      "cell_type": "code",
      "metadata": {
        "id": "prD9NfNp6JDM",
        "colab": {
          "base_uri": "https://localhost:8080/",
          "height": 352
        },
        "outputId": "66b51c23-adeb-45c2-9f39-678f9d60858b"
      },
      "source": [
        "#設定座標繪出盒形圖,x=\"H/R\":以H/R為橫坐標，分別畫出主客場球隊得分之盒形圖\n",
        "sns.boxplot(x=\"H/R\",y=\"PTS\", data=data2,palette=[\"lightblue\", \"lightpink\"])"
      ],
      "execution_count": null,
      "outputs": [
        {
          "output_type": "execute_result",
          "data": {
            "text/plain": [
              "<matplotlib.axes._subplots.AxesSubplot at 0x7fca0c9f4810>"
            ]
          },
          "metadata": {
            "tags": []
          },
          "execution_count": 32
        },
        {
          "output_type": "display_data",
          "data": {
            "image/png": "[encoded data removed]",
            "text/plain": [
              "<Figure size 360x360 with 1 Axes>"
            ]
          },
          "metadata": {
            "tags": [],
            "needs_background": "light"
          }
        }
      ]
    },
    {
      "cell_type": "markdown",
      "metadata": {
        "id": "e_Ope-IINbto"
      },
      "source": [
        "3. violinplot 小提琴圖：不同類別分布之比較圖形\n"
      ]
    },
    {
      "cell_type": "code",
      "metadata": {
        "colab": {
          "base_uri": "https://localhost:8080/",
          "height": 339
        },
        "id": "KOvGO-6M7E0M",
        "outputId": "69f00a8e-83d0-431c-8bc0-cd3c03d8528f"
      },
      "source": [
        "#單一座標小提琴圖\n",
        "sns.set_theme(style=\"ticks\")\n",
        "ax = sns.violinplot(x=data2[\"PTS\"])"
      ],
      "execution_count": null,
      "outputs": [
        {
          "output_type": "display_data",
          "data": {
            "image/png": "[encoded data removed]",
            "text/plain": [
              "<Figure size 360x360 with 1 Axes>"
            ]
          },
          "metadata": {
            "tags": []
          }
        }
      ]
    },
    {
      "cell_type": "code",
      "metadata": {
        "id": "MYWZhjPryAu-",
        "colab": {
          "base_uri": "https://localhost:8080/",
          "height": 352
        },
        "outputId": "9a2fb763-eac8-4dd4-fefc-3a36c8a82cdc"
      },
      "source": [
        "#設定二維座標繪出小提琴圖,x=\"H/R\":以H/R為橫坐標，分別畫出主客場球隊得分之小提琴圖\n",
        "sns.violinplot(x=\"H/R\",y=\"PTS\", data=data2,palette=[\"lightblue\", \"lightpink\"])"
      ],
      "execution_count": null,
      "outputs": [
        {
          "output_type": "execute_result",
          "data": {
            "text/plain": [
              "<matplotlib.axes._subplots.AxesSubplot at 0x7fca0d2cfb10>"
            ]
          },
          "metadata": {
            "tags": []
          },
          "execution_count": 24
        },
        {
          "output_type": "display_data",
          "data": {
            "image/png": "[encoded data removed]",
            "text/plain": [
              "<Figure size 360x360 with 1 Axes>"
            ]
          },
          "metadata": {
            "tags": [],
            "needs_background": "light"
          }
        }
      ]
    },
    {
      "cell_type": "code",
      "metadata": {
        "colab": {
          "base_uri": "https://localhost:8080/",
          "height": 355
        },
        "id": "R_JOTuZe2Qt4",
        "outputId": "17cdc521-c823-4be2-bc3d-5dcd431323ac"
      },
      "source": [
        "#設定二維座標繪出小提琴圖,x=\" W/E\":以W/E為橫坐標，分別畫出東西區球隊得分之小提琴圖，並以主客場對應比較(hue=\"H/R\")\n",
        "sns.violinplot(x=\"W/E\",y=\"PTS\", hue=\"H/R\", palette=[\"lightblue\", \"lightpink\"], split=True, data=data2)"
      ],
      "execution_count": null,
      "outputs": [
        {
          "output_type": "execute_result",
          "data": {
            "text/plain": [
              "<matplotlib.axes._subplots.AxesSubplot at 0x7fca0b165210>"
            ]
          },
          "metadata": {
            "tags": []
          },
          "execution_count": 34
        },
        {
          "output_type": "display_data",
          "data": {
            "image/png": "[encoded data removed]",
            "text/plain": [
              "<Figure size 360x360 with 1 Axes>"
            ]
          },
          "metadata": {
            "tags": [],
            "needs_background": "light"
          }
        }
      ]
    },
    {
      "cell_type": "code",
      "metadata": {
        "id": "4ks8nlMnz96N",
        "colab": {
          "base_uri": "https://localhost:8080/",
          "height": 357
        },
        "outputId": "17fee6d9-4797-42ac-c79c-4bc51997e553"
      },
      "source": [
        "#設定座標繪出小提琴圖,x=\" W/L\":以W/L為橫坐標，分別畫出勝負球隊得分之小提琴圖，並以對應比較(hue=\"W/L\")\n",
        "sns.violinplot(x=\"W/L\",y=\"PTS\", hue=\"W/L\", palette=[\"lightblue\", \"lightpink\"], split=True, data=data2)"
      ],
      "execution_count": null,
      "outputs": [
        {
          "output_type": "execute_result",
          "data": {
            "text/plain": [
              "<matplotlib.axes._subplots.AxesSubplot at 0x7fca041f7350>"
            ]
          },
          "metadata": {
            "tags": []
          },
          "execution_count": 56
        },
        {
          "output_type": "display_data",
          "data": {
            "image/png": "[encoded data removed]",
            "text/plain": [
              "<Figure size 360x360 with 1 Axes>"
            ]
          },
          "metadata": {
            "tags": []
          }
        }
      ]
    },
    {
      "cell_type": "markdown",
      "metadata": {
        "id": "twodF-0j7r9S"
      },
      "source": [
        "# Exercise\n",
        "1. 請畫出勝場與敗場(W/L)球隊得分差(DIFF)的盒形圖。\n",
        "\n",
        "2. 請畫出季賽(season)與季後賽(playoff)，勝場與敗場(W/L)球隊得分(PTS)對應比較的小提琴圖。"
      ]
    },
    {
      "cell_type": "markdown",
      "metadata": {
        "id": "DCM0Yrm42hUQ"
      },
      "source": [
        "# 補充：長條圖分析"
      ]
    },
    {
      "cell_type": "code",
      "metadata": {
        "id": "RpKzPM-c2rgF"
      },
      "source": [
        "from google.colab import files\n",
        "data=pd.read_excel('nba2.xlsx')"
      ],
      "execution_count": null,
      "outputs": []
    },
    {
      "cell_type": "code",
      "metadata": {
        "colab": {
          "base_uri": "https://localhost:8080/",
          "height": 138
        },
        "id": "i7ELC9Sb21Dd",
        "outputId": "33885b8e-c388-4138-dedd-40463dd87f41"
      },
      "source": [
        "f=data.groupby('W/L')\n",
        "#用size()看f裡面每個組別內的大小\n",
        "g=f.mean()\n",
        "g[[\"PTS\",\"A\"]]\n"
      ],
      "execution_count": null,
      "outputs": [
        {
          "output_type": "execute_result",
          "data": {
            "text/html": [
              "<div>\n",
              "<style scoped>\n",
              "    .dataframe tbody tr th:only-of-type {\n",
              "        vertical-align: middle;\n",
              "    }\n",
              "\n",
              "    .dataframe tbody tr th {\n",
              "        vertical-align: top;\n",
              "    }\n",
              "\n",
              "    .dataframe thead th {\n",
              "        text-align: right;\n",
              "    }\n",
              "</style>\n",
              "<table border=\"1\" class=\"dataframe\">\n",
              "  <thead>\n",
              "    <tr style=\"text-align: right;\">\n",
              "      <th></th>\n",
              "      <th>PTS</th>\n",
              "      <th>A</th>\n",
              "    </tr>\n",
              "    <tr>\n",
              "      <th>W/L</th>\n",
              "      <th></th>\n",
              "      <th></th>\n",
              "    </tr>\n",
              "  </thead>\n",
              "  <tbody>\n",
              "    <tr>\n",
              "      <th>0</th>\n",
              "      <td>99.929268</td>\n",
              "      <td>20.973171</td>\n",
              "    </tr>\n",
              "    <tr>\n",
              "      <th>1</th>\n",
              "      <td>111.251220</td>\n",
              "      <td>24.278862</td>\n",
              "    </tr>\n",
              "  </tbody>\n",
              "</table>\n",
              "</div>"
            ],
            "text/plain": [
              "            PTS          A\n",
              "W/L                       \n",
              "0     99.929268  20.973171\n",
              "1    111.251220  24.278862"
            ]
          },
          "metadata": {
            "tags": []
          },
          "execution_count": 5
        }
      ]
    },
    {
      "cell_type": "code",
      "metadata": {
        "colab": {
          "base_uri": "https://localhost:8080/",
          "height": 540
        },
        "id": "ppbpIHrm3XOC",
        "outputId": "1927999d-15b5-42c5-bfcc-2baf9673717e"
      },
      "source": [
        "import numpy as np\n",
        "import matplotlib.pyplot as plt\n",
        "Result = ['Win', 'Loss']\n",
        "scores = [99.92, 111.25]\n",
        "x = np.arange(len(Result))\n",
        "plt.bar(x, scores, color=['red', 'blue'])\n",
        "plt.xticks(x, Result)\n",
        "plt.xlabel('VENUS')\n",
        "plt.ylabel('Scores')\n",
        "plt.title('Scores of Win and Loss')\n",
        "plt.show()"
      ],
      "execution_count": null,
      "outputs": [
        {
          "output_type": "display_data",
          "data": {
            "image/png": "[encoded data removed]",
            "text/plain": [
              "<Figure size 720x612 with 1 Axes>"
            ]
          },
          "metadata": {
            "tags": [],
            "needs_background": "light"
          }
        }
      ]
    },
    {
      "cell_type": "code",
      "metadata": {
        "colab": {
          "base_uri": "https://localhost:8080/",
          "height": 526
        },
        "id": "qkiNeYzk3qvG",
        "outputId": "c5d3ffed-8447-4024-b24a-c6b43d666add"
      },
      "source": [
        "import numpy as np\n",
        "import matplotlib.pyplot as plt\n",
        "fig1 = plt.figure() #將圖形名稱設為fig\n",
        "Results = ['Win', 'Loss']\n",
        "Scores = [99.92, 111.25]\n",
        "Assists = [24.28, 20.97]\n",
        "x = np.arange(len(Result))\n",
        "width = 0.3\n",
        "plt.bar(x, Scores, width, color='red', label='scores')\n",
        "plt.bar(x + width, Assists, width, color='blue', label='Assists')\n",
        "plt.xticks(x + width / 2, Results)\n",
        "plt.ylabel('Scores and Assists')\n",
        "plt.title('Scores and Assists of Win and Loss')\n",
        "plt.legend(bbox_to_anchor=(1,1), loc='upper left')\n",
        "plt.show()"
      ],
      "execution_count": null,
      "outputs": [
        {
          "output_type": "display_data",
          "data": {
            "image/png": "[encoded data removed]",
            "text/plain": [
              "<Figure size 720x612 with 1 Axes>"
            ]
          },
          "metadata": {
            "tags": [],
            "needs_background": "light"
          }
        }
      ]
    },
    {
      "cell_type": "code",
      "metadata": {
        "id": "RHyQ9Dqz4A_r"
      },
      "source": [
        "#將上述圖形儲存成png檔及pdf檔\n",
        "fig1.savefig('fig_1.png')\n",
        "fig1.savefig('fig_1.pdf')"
      ],
      "execution_count": null,
      "outputs": []
    },
    {
      "cell_type": "markdown",
      "metadata": {
        "id": "-pf1sHum20JP"
      },
      "source": [
        "# 作業：\n",
        "請以鄉鎮市ATM_綜所稅的資料(鄉鎮市ATM_綜所稅.xlsx）進行資料分析，畫出以下視覺化圖形：\n",
        "\n",
        "一、畫出鄉鎮市ATM數量、綜合所得稅總額的分佈圖。\n",
        "\n",
        "二、畫出至少三個不同鄉鎮市ATM數量、綜合所得稅總額(平均數)之比較圖。\n",
        "\n",
        "三、畫出至少三個不同鄉鎮市ATM數量、綜合所得稅總額之盒形圖。(總房價)\n",
        "\n",
        "四、請查詢台灣近年來失業率的資料，並劃出失業率之趨勢圖。\n",
        "\n",
        "五、請查詢台灣近年來失業率與平均所得(或所得中位數)的資料，並劃出失業率與平均所得(或所得中位數)之趨勢圖。\n",
        "\n",
        "完成視覺化分析後請說明此分析之主要結果。\n",
        "\n",
        "加分題：請以所提供的資料，自設視覺化圖形分析目的，進行分析，並說明分析結果。\n"
      ]
    }
  ]
}